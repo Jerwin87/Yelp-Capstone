{
 "cells": [
  {
   "cell_type": "markdown",
   "metadata": {},
   "source": [
    "# This notebook is a combination of different notebooks to get to know the dataset"
   ]
  },
  {
   "cell_type": "markdown",
   "metadata": {},
   "source": [
    "First step, as always, is to import the required libraries"
   ]
  },
  {
   "cell_type": "code",
   "execution_count": null,
   "metadata": {},
   "outputs": [],
   "source": [
    "# import required libraries\n",
    "\n",
    "import pandas as pd\n",
    "import matplotlib.pyplot as plt\n",
    "import seaborn as sns\n",
    "\n",
    "import warnings\n",
    "warnings.filterwarnings(\"ignore\")"
   ]
  },
  {
   "cell_type": "markdown",
   "metadata": {},
   "source": [
    "set the parameters for the graph to be uniform"
   ]
  },
  {
   "cell_type": "code",
   "execution_count": null,
   "metadata": {},
   "outputs": [],
   "source": [
    "plt.rcParams['figure.figsize'] = 4, 2\n",
    "plt.rcParams['figure.dpi'] = 150\n",
    "palette = ['#43948c', '#36a097', '#28aea2', '#1bbbad', '#0dc9b8']\n",
    "hue_palette = ['#43948c', '#3CB371']"
   ]
  },
  {
   "cell_type": "markdown",
   "metadata": {},
   "source": [
    "Then we import the dataset"
   ]
  },
  {
   "cell_type": "code",
   "execution_count": null,
   "metadata": {},
   "outputs": [],
   "source": [
    "df = pd.read_csv('../data/review_1819_eng.csv')"
   ]
  },
  {
   "cell_type": "markdown",
   "metadata": {},
   "source": [
    "Let' get a first impression of the dataset"
   ]
  },
  {
   "cell_type": "code",
   "execution_count": null,
   "metadata": {},
   "outputs": [],
   "source": [
    "df.head()"
   ]
  },
  {
   "cell_type": "markdown",
   "metadata": {},
   "source": [
    "So the data consists of a singular review_id, then a user_id and a business_id which match with other reviews of the same business or by the same user.   \n",
    "More intersting for us is the star-rating. By checking for unique values, we can see, that we are dealing with the typical 5 star rating system that we expect from a dataset by Yelp. "
   ]
  },
  {
   "cell_type": "code",
   "execution_count": null,
   "metadata": {},
   "outputs": [],
   "source": [
    "df.stars.unique()"
   ]
  },
  {
   "cell_type": "markdown",
   "metadata": {},
   "source": [
    "the next three columns give us information as to how usefule/funny/cool the reviews has been seen by other users."
   ]
  },
  {
   "cell_type": "code",
   "execution_count": null,
   "metadata": {},
   "outputs": [],
   "source": [
    "df.useful.unique()"
   ]
  },
  {
   "cell_type": "markdown",
   "metadata": {},
   "source": [
    "we can see, that these numbers differ greatly, and that even one review has a negative number of clicks?!"
   ]
  },
  {
   "cell_type": "markdown",
   "metadata": {},
   "source": [
    "to be able to better work with these numbers, we're going to create a new column called clicked, which just shows, if a review has been clicked as useful by other user"
   ]
  },
  {
   "cell_type": "code",
   "execution_count": null,
   "metadata": {},
   "outputs": [],
   "source": [
    "df['clicked'] = df['useful'].apply(lambda x: 1 if x >= 1 else 0)\n",
    "df.sample(5)"
   ]
  },
  {
   "cell_type": "markdown",
   "metadata": {},
   "source": [
    "Next comes the text of the review itself, with which we will work later in the cleaning process. for now let's just add a column to our dataframe with the length of the text, so that we will be able to get a first impression"
   ]
  },
  {
   "cell_type": "code",
   "execution_count": null,
   "metadata": {},
   "outputs": [],
   "source": [
    "# add a new column for the length of the review, to get an impression of the data we're dealing with\n",
    "df['length'] = df['text'].apply(lambda x: len(x))"
   ]
  },
  {
   "cell_type": "markdown",
   "metadata": {},
   "source": [
    "As for our question, the date of the review, the ids and the number of times a review was clicked won't matter any more, we wll drop these columns"
   ]
  },
  {
   "cell_type": "code",
   "execution_count": null,
   "metadata": {},
   "outputs": [],
   "source": [
    "df.drop(['review_id', 'user_id', 'business_id', 'useful', 'funny', 'cool', 'date', 'year'], axis=1)"
   ]
  },
  {
   "cell_type": "markdown",
   "metadata": {},
   "source": [
    "### Let's have a look at the distribution of the star ratings"
   ]
  },
  {
   "cell_type": "markdown",
   "metadata": {},
   "source": [
    "First, let's have a look at the distribution of the ratings"
   ]
  },
  {
   "cell_type": "code",
   "execution_count": null,
   "metadata": {},
   "outputs": [],
   "source": [
    "ax = sns.countplot(data=df, x='stars', palette=palette, zorder=2)\n",
    "plt.title('Distribution of star ratings')\n",
    "plt.ylim(0, 1000000)\n",
    "plt.xlabel('Stars')\n",
    "plt.ylabel('Count')\n",
    "plt.bar_label(ax.containers[0], padding=-15, fontsize=8);"
   ]
  },
  {
   "cell_type": "markdown",
   "metadata": {},
   "source": [
    "we can see, that our dataset is strongly biased towards good reviews. more then half of the reviews are 5 star reviews."
   ]
  },
  {
   "cell_type": "markdown",
   "metadata": {},
   "source": [
    "### Let's have a look at the length of the text reviews in realtion to the star distribution"
   ]
  },
  {
   "cell_type": "code",
   "execution_count": null,
   "metadata": {},
   "outputs": [],
   "source": [
    "ax = sns.barplot(data=df, x='stars', y='length', errorbar=None, palette=palette)\n",
    "plt.title('Length of reviews by stars')\n",
    "plt.ylim(0, 800)\n",
    "plt.xlabel('Stars')\n",
    "plt.ylabel('Mean of length')\n",
    "plt.bar_label(ax.containers[0], padding=-15, fontsize=8);"
   ]
  },
  {
   "cell_type": "code",
   "execution_count": null,
   "metadata": {},
   "outputs": [],
   "source": [
    "con = ax.containers\n",
    "print(con)"
   ]
  },
  {
   "cell_type": "markdown",
   "metadata": {},
   "source": [
    "We can see, that reviews with higher star-rating seem to have shorter text. This does make sense, as a bad review often tends to explain the reasoning behind the bad rating."
   ]
  },
  {
   "cell_type": "markdown",
   "metadata": {},
   "source": [
    "### Finally let's see, if there is a relation between the rating and if a review was clicked as useful"
   ]
  },
  {
   "cell_type": "code",
   "execution_count": null,
   "metadata": {},
   "outputs": [],
   "source": [
    "ax = sns.countplot(data=df, x='stars', hue='clicked', palette=hue_palette, hue_order=[1,0])\n",
    "plt.title('Clicked reviews by stars')\n",
    "plt.xlabel('Stars')\n",
    "plt.ylabel('Number of clicks')\n",
    "plt.legend(['Clicked', 'Not clicked'])\n",
    "for p in ax.patches:\n",
    "    ax.annotate(format(p.get_height()/1000, '.0f')+'K',\n",
    "                (p.get_x() + p.get_width() / 2., p.get_height()),\n",
    "                ha = 'center', va = 'center', \n",
    "                size=5,\n",
    "                xytext = (0, -4), \n",
    "                textcoords = 'offset points'\n",
    "                )"
   ]
  },
  {
   "cell_type": "markdown",
   "metadata": {},
   "source": [
    "We can see that especially the bad reviews are clicked more often then not, which also seems logic, as people tend to be interested in good explanations, as to why a place is considered bad."
   ]
  },
  {
   "cell_type": "markdown",
   "metadata": {},
   "source": [
    "## Okay, now that we got a first impression of the star rating, let's have a look at usefulness, as this will finally be the target of our model"
   ]
  },
  {
   "cell_type": "markdown",
   "metadata": {},
   "source": [
    "Have a look at the number of reviews that were clicked as useful"
   ]
  },
  {
   "cell_type": "code",
   "execution_count": null,
   "metadata": {},
   "outputs": [],
   "source": [
    "ax = sns.countplot(data=df, x='clicked', palette=hue_palette, hue_order=[1, 0])\n",
    "plt.title('Nurmber of clicked reviews')\n",
    "plt.ylim(0, 1200000)\n",
    "plt.xlabel('')\n",
    "plt.ylabel('Count')\n",
    "plt.xticks([0, 1], labels=['Clicked', 'Not clicked'])\n",
    "plt.bar_label(ax.containers[0], fmt='%.0f', padding=-15);"
   ]
  },
  {
   "cell_type": "markdown",
   "metadata": {},
   "source": [
    "We can see, that more reviews havn't been clicked, than there are that have been clicked, but the relation isn't too disparate"
   ]
  },
  {
   "cell_type": "markdown",
   "metadata": {},
   "source": [
    "Now we can have alook whether the length of the review changes something"
   ]
  },
  {
   "cell_type": "code",
   "execution_count": null,
   "metadata": {},
   "outputs": [],
   "source": [
    "ax = sns.barplot(data=df, x='clicked', y='length', errorbar=None, palette=hue_palette, order=[1,0])\n",
    "plt.title(\"Mean length of reviews by 'usefulness'\")\n",
    "plt.ylim(0, 800)\n",
    "plt.xlabel(\"'Usefulness'\")\n",
    "plt.ylabel('Mean of length')\n",
    "plt.xticks([0, 1], labels=['Clicked', 'Not clicked'])\n",
    "plt.bar_label(ax.containers[0], fmt='%.0f', padding=-15);"
   ]
  },
  {
   "cell_type": "markdown",
   "metadata": {},
   "source": [
    "We can clearly see, that longer reviews are more often clicked as useful"
   ]
  },
  {
   "cell_type": "code",
   "execution_count": null,
   "metadata": {},
   "outputs": [],
   "source": []
  }
 ],
 "metadata": {
  "kernelspec": {
   "display_name": "Python 3.9.8 ('.venv': venv)",
   "language": "python",
   "name": "python3"
  },
  "language_info": {
   "codemirror_mode": {
    "name": "ipython",
    "version": 3
   },
   "file_extension": ".py",
   "mimetype": "text/x-python",
   "name": "python",
   "nbconvert_exporter": "python",
   "pygments_lexer": "ipython3",
   "version": "3.9.8"
  },
  "orig_nbformat": 4,
  "vscode": {
   "interpreter": {
    "hash": "8ce5e151fb00091df5b1b9e0901c9540dd87c25621af86a4204e4865fde1e8b1"
   }
  }
 },
 "nbformat": 4,
 "nbformat_minor": 2
}
