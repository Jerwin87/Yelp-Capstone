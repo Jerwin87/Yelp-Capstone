{
 "cells": [
  {
   "cell_type": "code",
   "execution_count": 1,
   "metadata": {},
   "outputs": [],
   "source": [
    "import pandas as pd\n",
    "from collections import defaultdict\n",
    "from gensim import corpora, models\n",
    "from nltk.tokenize import sent_tokenize\n",
    "from nltk.corpus import stopwords\n",
    "import string"
   ]
  },
  {
   "cell_type": "code",
   "execution_count": 2,
   "metadata": {},
   "outputs": [],
   "source": [
    "# import CSV\n",
    "df = pd.read_csv('../data/review_1819.csv')"
   ]
  },
  {
   "cell_type": "code",
   "execution_count": 15,
   "metadata": {},
   "outputs": [],
   "source": [
    "# https://radimrehurek.com/gensim/auto_examples/core/run_topics_and_transformations.html#sphx-glr-auto-examples-core-run-topics-and-transformations-py\n",
    "# https://towardsdatascience.com/end-to-end-topic-modeling-in-python-latent-dirichlet-allocation-lda-35ce4ed6b3e0\n",
    "documents = []\n",
    "for document in df.iloc[0:10].text:\n",
    "    documents.append(document)\n",
    "\n",
    "stoplist = stopwords.words('english')\n",
    "\n",
    "texts = [\n",
    "    [word for word in document.translate(str.maketrans('', '', string.punctuation)).lower().split() if word not in stoplist]\n",
    "    for document in documents\n",
    "]\n",
    "\n",
    "# freq = defaultdict(int)\n",
    "# for text in texts:\n",
    "#     for token in text:\n",
    "#         freq[token] += 1\n",
    "# \n",
    "# texts = [\n",
    "#     [token for token in text if freq[token] > 1]\n",
    "#     for text in texts\n",
    "# ]\n",
    "\n",
    "dictionary = corpora.Dictionary(texts)\n",
    "corpus = [dictionary.doc2bow(text) for text in texts]"
   ]
  },
  {
   "cell_type": "code",
   "execution_count": 16,
   "metadata": {},
   "outputs": [],
   "source": [
    "tfidf = models.TfidfModel(corpus)"
   ]
  },
  {
   "cell_type": "code",
   "execution_count": 17,
   "metadata": {},
   "outputs": [],
   "source": [
    "corpus_tfidf = tfidf[corpus]"
   ]
  },
  {
   "cell_type": "code",
   "execution_count": 18,
   "metadata": {},
   "outputs": [],
   "source": [
    "lsi_model = models.LsiModel(corpus_tfidf, id2word=dictionary, num_topics=300)\n",
    "corpus_lsi = lsi_model[corpus_tfidf]"
   ]
  },
  {
   "cell_type": "code",
   "execution_count": 19,
   "metadata": {},
   "outputs": [
    {
     "data": {
      "text/plain": [
       "[(0,\n",
       "  '0.146*\"street\" + 0.145*\"sushi\" + 0.135*\"food\" + 0.124*\"good\" + 0.121*\"want\" + 0.119*\"long\" + 0.118*\"cannoli\" + 0.116*\"usually\" + 0.111*\"like\" + 0.109*\"96th\"'),\n",
       " (1,\n",
       "  '0.210*\"breakfast\" + 0.198*\"amazing\" + 0.184*\"great\" + 0.161*\"extremely\" + 0.157*\"biscuits\" + 0.157*\"recommended\" + 0.157*\"fill\" + 0.157*\"busy\" + 0.157*\"cocktails\" + 0.157*\"blank\"'),\n",
       " (2,\n",
       "  '-0.179*\"9\" + 0.156*\"bit\" + 0.152*\"biscuits\" + 0.152*\"recommended\" + 0.152*\"fill\" + 0.152*\"blank\" + 0.152*\"highly\" + 0.152*\"busy\" + 0.152*\"cocktails\" + -0.140*\"choose\"'),\n",
       " (3,\n",
       "  '-0.239*\"cannoli\" + 0.152*\"long\" + 0.151*\"choose\" + 0.151*\"deli\" + -0.150*\"9\" + 0.142*\"usually\" + -0.120*\"awesome\" + -0.120*\"freshly\" + -0.120*\"termini\" + -0.120*\"sweet\"'),\n",
       " (4,\n",
       "  '0.322*\"parmesan\" + 0.186*\"breakfast\" + 0.177*\"got\" + 0.161*\"wreck\" + 0.161*\"drinks\" + 0.161*\"cluelesslike\" + 0.161*\"bone\" + 0.161*\"train\" + 0.161*\"skip\" + 0.161*\"thought\"'),\n",
       " (5,\n",
       "  '0.290*\"cannoli\" + -0.257*\"9\" + 0.173*\"like\" + -0.150*\"wait\" + 0.145*\"awesome\" + 0.145*\"cannolis\" + 0.145*\"bros\" + 0.145*\"theyre\" + 0.145*\"filled\" + 0.145*\"freshly\"'),\n",
       " (6,\n",
       "  '-0.184*\"breakfast\" + 0.170*\"9\" + 0.155*\"parmesan\" + 0.148*\"customer\" + 0.148*\"absolute\" + 0.148*\"pleasure\" + 0.148*\"went\" + 0.148*\"thanks\" + 0.148*\"regular\" + 0.148*\"1st\"'),\n",
       " (7,\n",
       "  '0.225*\"biscuits\" + 0.225*\"recommended\" + 0.225*\"blank\" + 0.225*\"cocktails\" + 0.225*\"fill\" + 0.225*\"highly\" + 0.225*\"busy\" + -0.191*\"breakfast\" + 0.143*\"though\" + 0.126*\"parmesan\"'),\n",
       " (8,\n",
       "  '-0.233*\"choose\" + -0.233*\"deli\" + 0.210*\"usually\" + -0.127*\"cannoli\" + -0.116*\"hot\" + -0.116*\"lunch\" + -0.116*\"buffalo\" + -0.116*\"panini\" + -0.116*\"salads\" + -0.116*\"sandwiches\"'),\n",
       " (9,\n",
       "  '-0.232*\"sushi\" + -0.174*\"96th\" + -0.174*\"people\" + 0.165*\"side\" + 0.165*\"quieter\" + 0.165*\"outside\" + 0.165*\"pricey\" + 0.165*\"french\" + 0.165*\"sidewalk\" + 0.165*\"table\"')]"
      ]
     },
     "execution_count": 19,
     "metadata": {},
     "output_type": "execute_result"
    }
   ],
   "source": [
    "lsi_model.print_topics(20)"
   ]
  },
  {
   "cell_type": "code",
   "execution_count": 20,
   "metadata": {},
   "outputs": [],
   "source": [
    "lda_model = models.LdaMulticore(corpus_tfidf, id2word=dictionary, num_topics=10)\n",
    "corpus_lda = lda_model[corpus]"
   ]
  },
  {
   "cell_type": "code",
   "execution_count": 21,
   "metadata": {},
   "outputs": [
    {
     "data": {
      "text/plain": [
       "[(0,\n",
       "  '0.018*\"cannoli\" + 0.011*\"like\" + 0.010*\"freshly\" + 0.010*\"ive\" + 0.010*\"perfect\" + 0.010*\"bros\" + 0.010*\"sweet\" + 0.010*\"filled\" + 0.010*\"theyre\" + 0.010*\"termini\"'),\n",
       " (1,\n",
       "  '0.004*\"amazing\" + 0.004*\"busy\" + 0.004*\"recommended\" + 0.004*\"blank\" + 0.004*\"bit\" + 0.004*\"cocktails\" + 0.004*\"fill\" + 0.004*\"cannoli\" + 0.004*\"parmesan\" + 0.004*\"u\"'),\n",
       " (2,\n",
       "  '0.012*\"choose\" + 0.012*\"deli\" + 0.012*\"biscuits\" + 0.012*\"highly\" + 0.012*\"cocktails\" + 0.012*\"busy\" + 0.012*\"fill\" + 0.012*\"recommended\" + 0.012*\"blank\" + 0.009*\"though\"'),\n",
       " (3,\n",
       "  '0.012*\"9\" + 0.010*\"usually\" + 0.009*\"quieter\" + 0.009*\"sidewalk\" + 0.009*\"pricey\" + 0.009*\"outside\" + 0.009*\"side\" + 0.009*\"french\" + 0.009*\"u\" + 0.009*\"enjoyed\"'),\n",
       " (4,\n",
       "  '0.004*\"cannoli\" + 0.004*\"fill\" + 0.004*\"recommended\" + 0.004*\"blank\" + 0.004*\"amazing\" + 0.004*\"busy\" + 0.004*\"great\" + 0.004*\"9\" + 0.004*\"quarter\" + 0.004*\"u\"'),\n",
       " (5,\n",
       "  '0.004*\"blank\" + 0.004*\"amazing\" + 0.004*\"fill\" + 0.004*\"cannoli\" + 0.004*\"recommended\" + 0.004*\"great\" + 0.004*\"bit\" + 0.004*\"busy\" + 0.004*\"cocktails\" + 0.004*\"definitely\"'),\n",
       " (6,\n",
       "  '0.004*\"cannoli\" + 0.004*\"busy\" + 0.004*\"recommended\" + 0.004*\"blank\" + 0.004*\"amazing\" + 0.004*\"quarter\" + 0.004*\"fill\" + 0.004*\"cocktails\" + 0.004*\"great\" + 0.004*\"bit\"'),\n",
       " (7,\n",
       "  '0.011*\"sushi\" + 0.009*\"96th\" + 0.009*\"people\" + 0.007*\"street\" + 0.007*\"bowl\" + 0.007*\"try\" + 0.007*\"area\" + 0.007*\"would\" + 0.007*\"vegetables\" + 0.007*\"counter\"'),\n",
       " (8,\n",
       "  '0.004*\"recommended\" + 0.004*\"blank\" + 0.004*\"fill\" + 0.004*\"busy\" + 0.004*\"cannoli\" + 0.004*\"great\" + 0.004*\"quarter\" + 0.004*\"amazing\" + 0.004*\"cocktails\" + 0.004*\"table\"'),\n",
       " (9,\n",
       "  '0.012*\"breakfast\" + 0.012*\"parmesan\" + 0.010*\"extremely\" + 0.009*\"got\" + 0.008*\"1st\" + 0.008*\"ann\" + 0.008*\"pleasure\" + 0.008*\"went\" + 0.008*\"helpful\" + 0.008*\"regular\"')]"
      ]
     },
     "execution_count": 21,
     "metadata": {},
     "output_type": "execute_result"
    }
   ],
   "source": [
    "lda_model.print_topics()"
   ]
  },
  {
   "cell_type": "code",
   "execution_count": null,
   "metadata": {},
   "outputs": [],
   "source": []
  }
 ],
 "metadata": {
  "kernelspec": {
   "display_name": "Python 3.9.8 ('.venv': venv)",
   "language": "python",
   "name": "python3"
  },
  "language_info": {
   "codemirror_mode": {
    "name": "ipython",
    "version": 3
   },
   "file_extension": ".py",
   "mimetype": "text/x-python",
   "name": "python",
   "nbconvert_exporter": "python",
   "pygments_lexer": "ipython3",
   "version": "3.9.8"
  },
  "metadata": {
   "interpreter": {
    "hash": "aee8b7b246df8f9039afb4144a1f6fd8d2ca17a180786b69acc140d282b71a49"
   }
  },
  "vscode": {
   "interpreter": {
    "hash": "2b1df77f38ddc0e9cd99154923c4962065f4473621571c66cacae5d8388dd82d"
   }
  }
 },
 "nbformat": 4,
 "nbformat_minor": 4
}
