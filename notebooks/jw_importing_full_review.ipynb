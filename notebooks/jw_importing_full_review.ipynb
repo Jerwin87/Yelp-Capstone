{
 "cells": [
  {
   "cell_type": "code",
   "execution_count": 2,
   "metadata": {},
   "outputs": [],
   "source": [
    "# import needed libraries\n",
    "import json\n",
    "import pandas as pd\n",
    "\n",
    "# define function to reed json\n",
    "def get_df(fn, limit=None):\n",
    "    json_lines = []\n",
    "    line_nr = 1\n",
    "    with open(fn) as f:\n",
    "        for line in f:\n",
    "            if limit and line_nr == limit:\n",
    "                break\n",
    "            json_line = json.loads(line)\n",
    "            json_lines.append(json_line)\n",
    "            line_nr += 1\n",
    "    df = pd.DataFrame(json_lines)\n",
    "    return df\n",
    "\n",
    "#read the full json\n",
    "dfr = get_df('../data/yelp_dataset/yelp_academic_dataset_review.json')\n",
    "\n",
    "# save full file as csv\n",
    "dfr.to_csv('../data/yelp_dataset/review.csv')\n",
    "\n",
    "# add year column and filter by it\n",
    "dfr['year'] = pd.to_datetime(dfr.date).dt.year\n",
    "df_two = dfr.query('2018 <= year <= 2019')\n",
    "\n",
    "# save reduced df\n",
    "df_two.to_csv('../data/yelp_dataset/review_1819.csv')"
   ]
  }
 ],
 "metadata": {
  "kernelspec": {
   "display_name": "Python 3.9.8 ('.venv': venv)",
   "language": "python",
   "name": "python3"
  },
  "language_info": {
   "codemirror_mode": {
    "name": "ipython",
    "version": 3
   },
   "file_extension": ".py",
   "mimetype": "text/x-python",
   "name": "python",
   "nbconvert_exporter": "python",
   "pygments_lexer": "ipython3",
   "version": "3.9.8"
  },
  "orig_nbformat": 4,
  "vscode": {
   "interpreter": {
    "hash": "256cefd2af286acf307c16b8768289f857dae817d8418d1f7fecab0e3504c161"
   }
  }
 },
 "nbformat": 4,
 "nbformat_minor": 2
}
