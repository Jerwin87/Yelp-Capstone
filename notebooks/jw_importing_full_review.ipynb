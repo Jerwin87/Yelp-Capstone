{
 "cells": [
  {
   "cell_type": "code",
   "execution_count": null,
   "metadata": {},
   "outputs": [],
   "source": [
    "import sys\n",
    "# adding to the path variables the one folder higher (locally, not changing system variables)\n",
    "sys.path.append(\"..\")\n",
    "\n",
    "# import needed functions\n",
    "from modeling.preprocessing import *\n",
    "\n",
    "#read the full json\n",
    "dfr = get_df('../data/yelp_dataset/yelp_academic_dataset_review.json')\n",
    "\n",
    "# save full file as csv\n",
    "dfr.to_csv('../data/yelp_dataset/review.csv')\n",
    "\n",
    "# add year column and filter by it\n",
    "dfr['year'] = pd.to_datetime(dfr.date).dt.year\n",
    "df_two = dfr.query('2018 <= year <= 2019')\n",
    "\n",
    "# save reduced df\n",
    "df_two.to_csv('../data/yelp_dataset/review_1819.csv')"
   ]
  }
 ],
 "metadata": {
  "kernelspec": {
   "display_name": "Python 3.9.8 ('.venv': venv)",
   "language": "python",
   "name": "python3"
  },
  "language_info": {
   "codemirror_mode": {
    "name": "ipython",
    "version": 3
   },
   "file_extension": ".py",
   "mimetype": "text/x-python",
   "name": "python",
   "nbconvert_exporter": "python",
   "pygments_lexer": "ipython3",
   "version": "3.9.8"
  },
  "orig_nbformat": 4,
  "vscode": {
   "interpreter": {
    "hash": "256cefd2af286acf307c16b8768289f857dae817d8418d1f7fecab0e3504c161"
   }
  }
 },
 "nbformat": 4,
 "nbformat_minor": 2
}
