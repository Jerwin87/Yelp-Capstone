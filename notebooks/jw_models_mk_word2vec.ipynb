{
 "cells": [
  {
   "cell_type": "code",
   "execution_count": 1,
   "metadata": {},
   "outputs": [],
   "source": [
    "import sys\n",
    "# adding to the path variables the one folder higher (locally, not changing system variables)\n",
    "sys.path.append(\"..\")\n",
    "\n",
    "# importing all needed libraries\n",
    "import pandas as pd\n",
    "import numpy as np\n",
    "import matplotlib.pyplot as plt\n",
    "import seaborn as sns\n",
    "import plotly.express as px\n",
    "import nltk\n",
    "from nltk.corpus import stopwords\n",
    "# from wordcloud import WordCloud\n",
    "from sklearn.model_selection import train_test_split\n",
    "from sklearn.linear_model import LogisticRegression \n",
    "from sklearn.feature_extraction.text import TfidfVectorizer\n",
    "from sklearn.metrics import confusion_matrix, classification_report\n",
    "from sklearn.naive_bayes import MultinomialNB\n",
    "from sklearn.svm import LinearSVC\n",
    "from sklearn.ensemble import RandomForestClassifier\n",
    "from gensim.models import Word2Vec\n",
    "\n",
    "import time\n",
    "from tqdm import tqdm\n",
    "\n",
    "# ignore the warnings\n",
    "import warnings\n",
    "warnings.filterwarnings(\"ignore\")\n",
    "\n",
    "# set Randomseed\n",
    "RSEED = 42\n",
    "\n",
    "# import needed functions\n",
    "from modeling.processing import *"
   ]
  },
  {
   "cell_type": "code",
   "execution_count": 2,
   "metadata": {},
   "outputs": [],
   "source": [
    "dfr = pd.read_csv('../data/yelp_dataset/review_1819.csv')"
   ]
  },
  {
   "cell_type": "code",
   "execution_count": 3,
   "metadata": {},
   "outputs": [
    {
     "name": "stderr",
     "output_type": "stream",
     "text": [
      "Warning : `load_model` does not return WordVectorModel or SupervisedModel any more, but a `FastText` object which is very similar.\n"
     ]
    },
    {
     "name": "stdout",
     "output_type": "stream",
     "text": [
      "In our Dataset we have a total of 1 different languages,\n",
      "classified with an accuracy of at least 0.95.\n",
      "------------------------------------------------------------------------------------------------------------------------------------------------------\n",
      "These languages are (unsorted): \n",
      "{'Dutch', 'Portuguese', 'Italian', 'English', 'Swedish', 'German', 'Japanese', 'Chinese', 'Spanish', 'French'}\n",
      "------------------------------------------------------------------------------------------------------------------------------------------------------\n",
      "The classified languages represent 88.06 % of the dataset\n",
      "------------------------------------------------------------------------------------------------------------------------------------------------------\n",
      "The most occurring language is English, it occurred 87994 times\n",
      "------------------------------------------------------------------------------------------------------------------------------------------------------\n",
      "The algorithm was not able to classify 11936 reviews.\n"
     ]
    }
   ],
   "source": [
    "# filter for only english reviews\n",
    "\n",
    "dfr = language_processing(dfr, verbose=True)"
   ]
  },
  {
   "cell_type": "code",
   "execution_count": 4,
   "metadata": {},
   "outputs": [],
   "source": [
    "# initialize the stopword list:\n",
    "stopwords = nltk.corpus.stopwords.words('english')\n",
    "\n",
    "# update the stopwords after generating the first few clouds with non decisive words\n",
    "#additional_stopwords = ['one', 'go', 'also', 'would', 'get', 'got']\n",
    "#stopwords.extend(additional_stopwords)"
   ]
  },
  {
   "cell_type": "code",
   "execution_count": 5,
   "metadata": {},
   "outputs": [],
   "source": [
    "# remove punctuation from the text in the initial df\n",
    "dfr['text'] = dfr['text'].apply(remove_punctuation)"
   ]
  },
  {
   "cell_type": "code",
   "execution_count": 6,
   "metadata": {},
   "outputs": [],
   "source": [
    "X = dfr['text']\n",
    "y = dfr['stars']\n",
    "\n",
    "# split data into train and test set\n",
    "X_train, X_test, y_train, y_test = train_test_split(X, y, random_state=RSEED)"
   ]
  },
  {
   "cell_type": "code",
   "execution_count": 7,
   "metadata": {},
   "outputs": [],
   "source": [
    "# split data into feature and target \n",
    "import multiprocessing\n",
    "\n",
    "\n",
    "sentences_train = [doc.split() for doc in X_train] # TODO here (and below): use NLTK tokenizers instead\n",
    "# initialize word2vec (https://radimrehurek.com/gensim/models/word2vec.html)\n",
    "# w2v = Word2Vec(sentences=sentences_train, vector_size=100, window=5, min_alpha=1, workers=4) # TODO SAVE!\n",
    "# w2v = Word2Vec(sentences=sentences_train, vector_size=50, window=3, min_alpha=1, workers=8) # TODO SAVE!\n",
    "w2v = Word2Vec(sentences=sentences_train, vector_size=200, window=3, min_alpha=1, workers=8) # TODO SAVE!"
   ]
  },
  {
   "cell_type": "code",
   "execution_count": 8,
   "metadata": {},
   "outputs": [],
   "source": [
    "def get_sentences_embeddings_means(sentences):\n",
    "    sentences_embeddings_means = []\n",
    "    words_ignored = []\n",
    "    for sent in sentences:\n",
    "        sent_embeddings = []\n",
    "        for token in sent:\n",
    "            try:\n",
    "                sent_embeddings.append(w2v.wv[token])\n",
    "            except: # not possible for all words; ignored in w2c model because they are stop words!? (cf. ignored words listed below)\n",
    "                words_ignored.append(token)\n",
    "        sentences_embeddings_means.append(np.mean(sent_embeddings, axis=0))\n",
    "    return sentences_embeddings_means, words_ignored"
   ]
  },
  {
   "cell_type": "code",
   "execution_count": 9,
   "metadata": {},
   "outputs": [],
   "source": [
    "sentences_embeddings_means_train, words_ignored_train = get_sentences_embeddings_means(sentences_train)\n",
    "X_train = sentences_embeddings_means_train"
   ]
  },
  {
   "cell_type": "code",
   "execution_count": 10,
   "metadata": {},
   "outputs": [],
   "source": [
    "# print('Ignored words:')\n",
    "# print(sorted(set(words_ignored_train))) # TODO check how long this takes"
   ]
  },
  {
   "cell_type": "code",
   "execution_count": 11,
   "metadata": {},
   "outputs": [],
   "source": [
    "sentences_test = [doc.split() for doc in X_test]"
   ]
  },
  {
   "cell_type": "code",
   "execution_count": 12,
   "metadata": {},
   "outputs": [],
   "source": [
    "sentences_embeddings_means_test, words_ignored_test = get_sentences_embeddings_means(sentences_test)\n",
    "X_test = sentences_embeddings_means_test"
   ]
  },
  {
   "cell_type": "code",
   "execution_count": 13,
   "metadata": {},
   "outputs": [],
   "source": [
    "# print('Ignored words:')\n",
    "# print(sorted(set(words_ignored_test))) # TODO check how long this takes"
   ]
  },
  {
   "cell_type": "code",
   "execution_count": 14,
   "metadata": {},
   "outputs": [],
   "source": [
    "# \n",
    "# # initialize the Classifier\n",
    "# MNB = MultinomialNB()\n",
    "# \n",
    "# # fit the model\n",
    "# MNB.fit(X_train, y_train)\n",
    "# \n",
    "# # make predictions\n",
    "# y_pred = MNB.predict(X_test)\n",
    "# \n",
    "# # test the model\n",
    "# sns.heatmap(confusion_matrix(y_pred, y_test), annot=True, fmt='g')\n",
    "# \n",
    "# # show the classification report\n",
    "# print(classification_report(y_pred, y_test))"
   ]
  },
  {
   "cell_type": "code",
   "execution_count": 15,
   "metadata": {},
   "outputs": [],
   "source": [
    "# # initialize the Classifier\n",
    "# LSVC = LinearSVC()\n",
    "# \n",
    "# # fit the model\n",
    "# LSVC.fit(X_train, y_train)\n",
    "# \n",
    "# # make predictions\n",
    "# y_pred = LSVC.predict(X_test)\n",
    "# \n",
    "# # test the model\n",
    "# sns.heatmap(confusion_matrix(y_pred, y_test), annot=True, fmt='g')\n",
    "# \n",
    "# # show the classification report\n",
    "# print(classification_report(y_pred, y_test))"
   ]
  },
  {
   "cell_type": "code",
   "execution_count": 16,
   "metadata": {},
   "outputs": [
    {
     "name": "stdout",
     "output_type": "stream",
     "text": [
      "              precision    recall  f1-score   support\n",
      "\n",
      "         1.0       0.16      0.41      0.23      1297\n",
      "         2.0       0.00      0.17      0.00        12\n",
      "         3.0       0.04      0.27      0.07       282\n",
      "         4.0       0.08      0.34      0.12       874\n",
      "         5.0       0.93      0.53      0.67     19534\n",
      "\n",
      "    accuracy                           0.51     21999\n",
      "   macro avg       0.24      0.34      0.22     21999\n",
      "weighted avg       0.84      0.51      0.62     21999\n",
      "\n"
     ]
    },
    {
     "data": {
      "image/png": "[encoded data removed]",
      "text/plain": [
       "<Figure size 432x288 with 2 Axes>"
      ]
     },
     "metadata": {
      "needs_background": "light"
     },
     "output_type": "display_data"
    }
   ],
   "source": [
    "# initialize the Classifier\n",
    "logreg = LogisticRegression()\n",
    "\n",
    "# fit the model\n",
    "logreg.fit(X_train, y_train)    \n",
    "\n",
    "# make predictions\n",
    "y_pred = logreg.predict(X_test)\n",
    "\n",
    "# test the model\n",
    "sns.heatmap(confusion_matrix(y_pred, y_test), annot=True, fmt='g')\n",
    "\n",
    "# show the classification report\n",
    "print(classification_report(y_pred, y_test))"
   ]
  }
 ],
 "metadata": {
  "kernelspec": {
   "display_name": "Python 3.9.8 ('.venv': venv)",
   "language": "python",
   "name": "python3"
  },
  "language_info": {
   "codemirror_mode": {
    "name": "ipython",
    "version": 3
   },
   "file_extension": ".py",
   "mimetype": "text/x-python",
   "name": "python",
   "nbconvert_exporter": "python",
   "pygments_lexer": "ipython3",
   "version": "3.9.8"
  },
  "orig_nbformat": 4,
  "vscode": {
   "interpreter": {
    "hash": "2b1df77f38ddc0e9cd99154923c4962065f4473621571c66cacae5d8388dd82d"
   }
  }
 },
 "nbformat": 4,
 "nbformat_minor": 2
}
