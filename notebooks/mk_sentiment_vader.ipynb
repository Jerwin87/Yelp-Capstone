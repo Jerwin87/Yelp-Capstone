{
 "cells": [
  {
   "cell_type": "code",
   "execution_count": 26,
   "metadata": {},
   "outputs": [],
   "source": [
    "from vaderSentiment.vaderSentiment import SentimentIntensityAnalyzer\n",
    "import pandas as pd\n",
    "from nltk.tokenize import sent_tokenize"
   ]
  },
  {
   "cell_type": "code",
   "execution_count": 5,
   "metadata": {},
   "outputs": [],
   "source": [
    "# import CSV\n",
    "df = pd.read_csv('../data/review_1819.csv')"
   ]
  },
  {
   "cell_type": "code",
   "execution_count": 6,
   "metadata": {},
   "outputs": [],
   "source": [
    "# instantiate Vader analyzer\n",
    "sia = SentimentIntensityAnalyzer()"
   ]
  },
  {
   "cell_type": "code",
   "execution_count": 24,
   "metadata": {},
   "outputs": [
    {
     "name": "stdout",
     "output_type": "stream",
     "text": [
      "stars\tneg\tneu\tpos\tcompound\n",
      "3.0\t0.0\t0.893\t0.107\t0.8597\n",
      "4.0\t0.028\t0.87\t0.102\t0.9726\n",
      "5.0\t0.0\t0.843\t0.157\t0.9168\n",
      "5.0\t0.0\t0.565\t0.435\t0.8748\n",
      "4.0\t0.0\t0.716\t0.284\t0.9523\n",
      "5.0\t0.095\t0.616\t0.288\t0.9314\n",
      "1.0\t0.126\t0.821\t0.053\t-0.4588\n",
      "4.0\t0.0\t0.77\t0.23\t0.7543\n",
      "5.0\t0.0\t0.685\t0.315\t0.9582\n",
      "5.0\t0.022\t0.587\t0.391\t0.9603\n",
      "5.0\t0.032\t0.853\t0.116\t0.9153\n",
      "4.0\t0.042\t0.818\t0.141\t0.9042\n",
      "5.0\t0.012\t0.706\t0.283\t0.9883\n",
      "5.0\t0.0\t0.612\t0.388\t0.9524\n",
      "4.0\t0.0\t0.884\t0.116\t0.5023\n",
      "3.0\t0.066\t0.584\t0.35\t0.9771\n",
      "5.0\t0.0\t0.689\t0.311\t0.9493\n",
      "3.0\t0.037\t0.891\t0.072\t0.5477\n",
      "5.0\t0.0\t0.786\t0.214\t0.9794\n",
      "3.0\t0.0\t0.816\t0.184\t0.8508\n"
     ]
    }
   ],
   "source": [
    "# classification for 20 first items\n",
    "print(\"stars\\tneg\\tneu\\tpos\\tcompound\")\n",
    "for i in range(20):\n",
    "    text = df.iloc[i].text\n",
    "    stars = df.iloc[i].stars\n",
    "    sent_dict = sia.polarity_scores(text)\n",
    "    # print(sent_dict, stars, text)\n",
    "    print(f\"{stars}\\t{sent_dict['neg']}\\t{sent_dict['neu']}\\t{sent_dict['pos']}\\t{sent_dict['compound']}\")\n"
   ]
  },
  {
   "cell_type": "code",
   "execution_count": 50,
   "metadata": {},
   "outputs": [
    {
     "name": "stdout",
     "output_type": "stream",
     "text": [
      "\tneg\tneu\tpos\tcompound\n",
      "3.0\t0.0\t0.893\t0.107\t0.8597\n",
      "(s1)\t0.0\t0.71\t0.29\t0.4753\tWe have tried it multiple times, because I want to like it!\n",
      "(s2)\t0.0\t0.831\t0.169\t0.431\tI have been to it's other locations in NJ and never had a bad experience.\n",
      "(s3)\t0.0\t0.87\t0.13\t0.2382\tThe food is good, but it takes a very long time to come out.\n",
      "(s4)\t0.0\t0.611\t0.389\t0.6652\tThe waitstaff is very young, but usually pleasant.\n",
      "4.0\t0.028\t0.87\t0.102\t0.9726\n",
      "(s1)\t0.0\t0.724\t0.276\t0.8237\tI LOVE the 96th street Naked Tchopstix so I was very excited to see this one which is closer to my house.\n",
      "(s6)\t0.0\t0.888\t0.112\t0.4215\tI like the fact that it is on paper and you don't have to guess what things are or have to shout over the counter to tell the server what you want.\n",
      "(s7)\t0.335\t0.502\t0.163\t-0.4673\tThe sushi bowl was good but not wonderful.\n",
      "(s10)\t0.0\t0.885\t0.115\t0.4588\tMy husband ordered the Maui roll which is my favorite roll at the 96th street location and this just was not up that standard.\n",
      "(s11)\t0.163\t0.735\t0.102\t-0.2867\tIt was good but the quality and consistently was not as good as at 96th street.\n",
      "(s12)\t0.0\t0.829\t0.171\t0.5719\tI would go back though and I think a lot of people would be happy with the sushi bowls.\n",
      "(s13)\t0.098\t0.841\t0.061\t-0.2023\tI do want to make a comment about the low reviews that people have given the place because of service.\n",
      "(s16)\t0.0\t0.739\t0.261\t0.5574\tAs a healthy alternative to fast food in the area, it is worth the wait.\n",
      "(s18)\t0.0\t0.684\t0.316\t0.5709\tI had the strawberry and it was quite yummy.\n",
      "5.0\t0.0\t0.843\t0.157\t0.9168\n",
      "(s1)\t0.0\t0.854\t0.146\t0.34\tI had a turkey, avocado & bacon panini and he ha a buffalo chicken wrap.\n",
      "(s2)\t0.0\t0.597\t0.403\t0.4019\tWe will definitely be returning.\n",
      "(s3)\t0.0\t0.798\t0.202\t0.5106\tThe wait for food wasn't too long, which is always appreciated during lunch hour.\n",
      "(s6)\t0.0\t0.69\t0.31\t0.6696\tI love a deli that has many options to choose from!\n",
      "5.0\t0.0\t0.565\t0.435\t0.8748\n",
      "(s0)\t0.0\t0.612\t0.388\t0.5859\tAmazing biscuits and (fill in the blank).\n",
      "(s1)\t0.0\t0.328\t0.672\t0.6249\tGreat cocktails too.\n",
      "(s2)\t0.0\t0.323\t0.677\t0.2716\tHighly recommended.\n",
      "4.0\t0.0\t0.716\t0.284\t0.9523\n",
      "(s0)\t0.0\t0.548\t0.452\t0.5095\tThe cafe was extremely cute.\n",
      "(s1)\t0.0\t0.886\t0.114\t0.2023\tWe came at 8am and they even had a jazz band playing at that time.\n",
      "(s2)\t0.0\t0.684\t0.316\t0.5719\tI got the breakfast sandwich and it was delicious.\n",
      "(s3)\t0.0\t0.755\t0.245\t0.5994\tI loved how they rolled the egg and put the bacon pieces inside.\n",
      "(s4)\t0.0\t0.532\t0.468\t0.6588\tGreat price for a filling breakfast!\n",
      "5.0\t0.095\t0.616\t0.288\t0.9314\n",
      "(s0)\t0.0\t0.602\t0.398\t0.7871\tI've only had the cannolis here but they are awesome!\n",
      "(s2)\t0.27\t0.327\t0.403\t0.3004\tNot too sweet, it's perfect.\n",
      "(s3)\t0.091\t0.686\t0.223\t0.4749\tIf you like cannoli, if you don't think you like cannoli, you should definitely get one from Termini Bros.\n",
      "1.0\t0.126\t0.821\t0.053\t-0.4588\n",
      "(s0)\t0.244\t0.756\t0.0\t-0.4404\tSkip this train wreck if you are looking for dinner.\n",
      "(s1)\t0.267\t0.733\t0.0\t-0.4588\tOur server was clueless...like we seriously thought she was lost in the restaurant.\n",
      "(s4)\t0.0\t0.508\t0.492\t0.4404\tThe drinks were good.\n",
      "4.0\t0.0\t0.77\t0.23\t0.7543\n",
      "(s0)\t0.0\t0.68\t0.32\t0.5106\tEnjoyed my fish out at a sidewalk table.\n",
      "(s1)\t0.0\t0.609\t0.391\t0.5927\tA bit pricey but food was good.\n",
      "(s2)\t0.0\t0.902\t0.098\t0.0772\tGo to Side street in French quarter if u want quieter dining outside.\n",
      "5.0\t0.0\t0.685\t0.315\t0.9582\n",
      "(s0)\t0.0\t0.724\t0.276\t0.9381\tI had the pleasure to meet with Ann today and not only was she extremely helpful and so positive, she went above and beyond to make my 1st experience here amazing and made it a absolute regular customer from this day forward.\n",
      "(s1)\t0.0\t0.239\t0.761\t0.4926\tThanks girlie!\n",
      "5.0\t0.022\t0.587\t0.391\t0.9603\n",
      "(s0)\t0.0\t0.618\t0.382\t0.4753\tA menu that satisfies everyone's cravings!\n",
      "(s1)\t0.0\t0.23\t0.77\t0.7712\tClean, trendy, and delicious!\n",
      "(s2)\t0.0\t0.744\t0.256\t0.6696\tI definitely recommend going early (before 9 am) as the wait tends to get longer after 9 am!\n",
      "(s3)\t0.0\t0.486\t0.514\t0.7469\tBut honestly, it is soooo worth the wait.\n",
      "(s4)\t0.106\t0.44\t0.454\t0.6077\tYou will leave there feeling so incredible satisfied!\n",
      "5.0\t0.032\t0.853\t0.116\t0.9153\n",
      "(s0)\t0.0\t0.802\t0.198\t0.4939\tMilktooth is the place to go if you want a good breakfast cocktail and a twist on traditional brunch.\n",
      "(s2)\t0.07\t0.589\t0.34\t0.6281\tI guarantee no matter what you order, you're going to enjoy it.\n",
      "(s3)\t0.0\t0.853\t0.147\t0.4754\tMilktooth is one of the most popular brunch places in Indy, which means you will typically have a wait.\n",
      "(s4)\t0.0\t0.634\t0.366\t0.6369\tTrust me, it's worth the usual 30 minute wait (on weekends).\n",
      "(s6)\t0.0\t0.817\t0.183\t0.5859\tSnack on one of those to give you a preview of the amazing meal you're about to have.\n",
      "(s8)\t0.155\t0.677\t0.167\t0.0772\tI love all of their variations on a Dutch pancake, and their raclette grilled cheese is to die for.\n",
      "(s10)\t0.0\t0.732\t0.268\t0.2942\tAnd sit outside if it's warm enough!\n",
      "4.0\t0.042\t0.818\t0.141\t0.9042\n",
      "(s0)\t0.0\t0.524\t0.476\t0.6739\tThe bar and staff are AMAZING.\n",
      "(s1)\t0.0\t0.8\t0.2\t0.6124\twe got a room upgrade for have been being on our honeymoon and the view was gorgeous.\n",
      "(s2)\t0.257\t0.743\t0.0\t-0.4782\tBut, the room was not any better than a hilton.\n",
      "(s3)\t0.116\t0.884\t0.0\t-0.1779\tIt had rust in the tub floor, and some weird stains on the tile.\n",
      "(s5)\t0.0\t0.836\t0.164\t0.3716\tGreat staff, but too much for valet so we parked a couple streets down.\n",
      "(s7)\t0.0\t0.787\t0.213\t0.4215\tWould recommend if you want to be literally in the working downtown area of st. louis.\n",
      "(s8)\t0.0\t0.796\t0.204\t0.3182\tLots of cool bars and restaurants on a friday night.\n",
      "5.0\t0.012\t0.706\t0.283\t0.9883\n",
      "(s0)\t0.141\t0.859\t0.0\t-0.2411\tNot sure why it took until now for us to find this place.\n",
      "(s2)\t0.0\t0.643\t0.357\t0.6124\tA friend recommended Lobster Haven and I checked it out online.\n",
      "(s3)\t0.0\t0.857\t0.143\t0.3612\tLooked like a type of place we would eat at in Massachusetts when we visit family.\n",
      "(s4)\t0.0\t0.513\t0.487\t0.4303\tWe were not disappointed!\n",
      "(s5)\t0.0\t0.397\t0.603\t0.8221\tService was great, fast and very friendly.\n",
      "(s6)\t0.0\t0.495\t0.505\t0.6249\tHuge selection of all of the favorites.\n",
      "(s7)\t0.0\t0.902\t0.098\t0.0772\tYou have to visit this place if you want authentic New England seafood.\n",
      "(s8)\t0.0\t0.859\t0.141\t0.3182\tYou can also purchase live lobster and fresh seafood to go and cook it yourself.\n",
      "5.0\t0.0\t0.612\t0.388\t0.9524\n",
      "(s1)\t0.0\t0.485\t0.515\t0.891\tWe love the food here, it's always fresh and the service is great.\n",
      "(s2)\t0.0\t0.606\t0.394\t0.7574\tWe highly recommend this place to anyone who loves sushi & hibachi.\n",
      "4.0\t0.0\t0.884\t0.116\t0.5023\n",
      "(s0)\t0.0\t0.753\t0.247\t0.5574\tIt's was okay service was a bit on the interesting side as the person was new.\n",
      "(s1)\t0.0\t0.854\t0.146\t0.4404\tFood presentation was good though they need to either add rice or more potato salad to the gumbo.\n",
      "3.0\t0.066\t0.584\t0.35\t0.9771\n",
      "(s0)\t0.097\t0.737\t0.166\t0.1753\tThis is a pretty good pancake place, but it's a little disorganized in the way it's run when it's really busy.\n",
      "(s1)\t0.0\t0.451\t0.549\t0.9246\tThe pancakes are pretty good but super sweet, so you have to be in there.\n",
      "(s2)\t0.0\t0.408\t0.592\t0.4404\tGood price point.\n",
      "(s3)\t0.138\t0.776\t0.086\t-0.3011\tServes breakfast all day so that's definitely a plus, but not anything particularly special that you couldn't get anywhere else.\n",
      "5.0\t0.0\t0.689\t0.311\t0.9493\n",
      "(s0)\t0.0\t0.4\t0.6\t0.6696\tCindy is the best!\n",
      "(s1)\t0.0\t0.423\t0.577\t0.6249\tGreat food and service.\n",
      "(s3)\t0.0\t0.874\t0.126\t0.3182\tEverything is made fresh and you can taste the difference from other Mexican restaurants at first bite.\n",
      "(s4)\t0.0\t0.547\t0.453\t0.7003\tI would recommend to anyone that enjoys Mexican cuisine.\n",
      "3.0\t0.037\t0.891\t0.072\t0.5477\n",
      "(s1)\t0.0\t0.597\t0.403\t0.4019\tThe prices are definitely high.\n",
      "(s2)\t0.124\t0.717\t0.16\t0.2734\tBoth couples decided to split a plate (you could tell the annoyed our server), and the food was good- but not worth the price for sure.\n",
      "5.0\t0.0\t0.786\t0.214\t0.9794\n",
      "(s0)\t0.0\t0.638\t0.362\t0.8957\tFun, no-frills atmosphere, right on the water, where you can watch passersby and dolphins alike, while enjoying great food and accommodating service.\n",
      "(s1)\t0.0\t0.886\t0.114\t0.4019\tMembers of our dining party ranged from a picky 7 year old, to two 40 somethings and a 72 year old grandmother.\n",
      "(s2)\t0.0\t0.87\t0.13\t0.4019\tCaptain Bill's had menu choices for everyone in our party, and they even made some ingredient substitutions for us.\n",
      "(s3)\t0.0\t0.796\t0.204\t0.3182\tThe food arrived hot, fresh, and exactly to our specifications.\n",
      "(s4)\t0.0\t0.747\t0.253\t0.7269\tWait service and wait time were on point, and we all left the restaurant satisfied and having enjoyed the experience.\n",
      "(s6)\t0.0\t0.61\t0.39\t0.4926\tI hope you consider it too!\n",
      "3.0\t0.0\t0.816\t0.184\t0.8508\n",
      "(s0)\t0.0\t0.765\t0.235\t0.6115\tMy husband had the 6 oz pepperloin meal and was very happy with it.\n",
      "(s2)\t0.0\t0.855\t0.145\t0.3353\tThere were only 4 shrimp and they were more then well done and very small.\n",
      "(s3)\t0.0\t0.508\t0.492\t0.4404\tThe service was good.\n"
     ]
    }
   ],
   "source": [
    "# classification for 20 first items; also for each sentence separately\n",
    "print(\"\\tneg\\tneu\\tpos\\tcompound\")\n",
    "for i in range(20):\n",
    "    text = df.iloc[i].text\n",
    "    stars = df.iloc[i].stars\n",
    "    text_dict = sia.polarity_scores(text)\n",
    "    # print(text_dict, stars, text)\n",
    "    print(f\"{stars}\\t{text_dict['neg']}\\t{text_dict['neu']}\\t{text_dict['pos']}\\t{text_dict['compound']}\")\n",
    "    for s_idx, s in enumerate(sent_tokenize(text)):\n",
    "        # print(f\"\\t{s}\")\n",
    "        sent_dict = sia.polarity_scores(s)\n",
    "        if sent_dict['neu'] != 1.0:\n",
    "            print(f\"(s{s_idx})\\t{sent_dict['neg']}\\t{sent_dict['neu']}\\t{sent_dict['pos']}\\t{sent_dict['compound']}\\t{s}\")"
   ]
  },
  {
   "cell_type": "code",
   "execution_count": null,
   "metadata": {},
   "outputs": [],
   "source": []
  }
 ],
 "metadata": {
  "kernelspec": {
   "display_name": "Python 3.9.8 ('.venv': venv)",
   "language": "python",
   "name": "python3"
  },
  "language_info": {
   "codemirror_mode": {
    "name": "ipython",
    "version": 3
   },
   "file_extension": ".py",
   "mimetype": "text/x-python",
   "name": "python",
   "nbconvert_exporter": "python",
   "pygments_lexer": "ipython3",
   "version": "3.9.8"
  },
  "metadata": {
   "interpreter": {
    "hash": "aee8b7b246df8f9039afb4144a1f6fd8d2ca17a180786b69acc140d282b71a49"
   }
  },
  "vscode": {
   "interpreter": {
    "hash": "2b1df77f38ddc0e9cd99154923c4962065f4473621571c66cacae5d8388dd82d"
   }
  }
 },
 "nbformat": 4,
 "nbformat_minor": 4
}
