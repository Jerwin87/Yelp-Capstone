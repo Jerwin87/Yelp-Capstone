{
 "cells": [
  {
   "cell_type": "code",
   "execution_count": null,
   "metadata": {},
   "outputs": [],
   "source": [
    "import sys\n",
    "sys.path.append('..')\n",
    "\n",
    "import pandas as pd\n",
    "from modeling.processing import get_df"
   ]
  },
  {
   "cell_type": "code",
   "execution_count": null,
   "metadata": {},
   "outputs": [],
   "source": [
    "DATA_FN_ORIG = '../data/yelp_dataset/yelp_academic_dataset_business.json'\n",
    "DATA_FN_MAINCAT = '../data/yelp_dataset/business_maincatadded.csv'"
   ]
  },
  {
   "cell_type": "code",
   "execution_count": null,
   "metadata": {},
   "outputs": [],
   "source": [
    "# import business dataset\n",
    "df = get_df(DATA_FN_ORIG, limit=None)"
   ]
  },
  {
   "cell_type": "code",
   "execution_count": null,
   "metadata": {},
   "outputs": [],
   "source": [
    "# get categories\n",
    "cats = df.categories.dropna().values # What form do the NAs have? TODO check!\n",
    "cats_separated = [ [token.strip() for token in item.lower().split(',')] for item in cats] # remove commas in a different way?"
   ]
  },
  {
   "cell_type": "code",
   "execution_count": null,
   "metadata": {},
   "outputs": [],
   "source": [
    "# calculate frequency of specific categories\n",
    "cats_list_all = []\n",
    "for cat_list in cats_separated:\n",
    "    for cat in cat_list:\n",
    "        cats_list_all.append(cat)\n",
    "\n",
    "cats_list_all_freq = dict()\n",
    "for cat in cats_list_all:\n",
    "    if cat in cats_list_all_freq:\n",
    "        cats_list_all_freq[cat] += 1\n",
    "    else:\n",
    "        cats_list_all_freq[cat] = 1"
   ]
  },
  {
   "cell_type": "code",
   "execution_count": null,
   "metadata": {},
   "outputs": [],
   "source": [
    "# print categories wwith frequency > 1000\n",
    "for cat in reversed(sorted(cats_list_all_freq.keys(), key=lambda x: cats_list_all_freq[x])):\n",
    "    if cats_list_all_freq[cat] < 1000:\n",
    "        break\n",
    "    print(cat, cats_list_all_freq[cat])"
   ]
  },
  {
   "cell_type": "code",
   "execution_count": null,
   "metadata": {},
   "outputs": [],
   "source": [
    "# import dataset with main cat. added (model training in mk_categories_word2vec_trainmodel.py and adding main cat. to dataframe in mk_categories_word2vec_addmaincat.py)\n",
    "df_maincats = pd.read_csv(DATA_FN_MAINCAT)"
   ]
  },
  {
   "cell_type": "code",
   "execution_count": null,
   "metadata": {},
   "outputs": [],
   "source": [
    "# restrict rows to rows containing \"auto\" in categories\n",
    "df_maincats_auto = df_maincats.copy()\n",
    "df_maincats_auto['auto_bool'] = df_maincats.categories.str.contains(\"auto\", na=\"\", regex=False, case=False)\n",
    "df_maincats_auto_only = df_maincats_auto.query('auto_bool == True')"
   ]
  },
  {
   "cell_type": "code",
   "execution_count": null,
   "metadata": {},
   "outputs": [],
   "source": [
    "df_maincats_auto_only"
   ]
  },
  {
   "cell_type": "code",
   "execution_count": null,
   "metadata": {},
   "outputs": [],
   "source": []
  }
 ],
 "metadata": {
  "kernelspec": {
   "display_name": "Python 3.9.8 ('.venv': venv)",
   "language": "python",
   "name": "python3"
  },
  "language_info": {
   "codemirror_mode": {
    "name": "ipython",
    "version": 3
   },
   "file_extension": ".py",
   "mimetype": "text/x-python",
   "name": "python",
   "nbconvert_exporter": "python",
   "pygments_lexer": "ipython3",
   "version": "3.9.8"
  },
  "orig_nbformat": 4,
  "vscode": {
   "interpreter": {
    "hash": "2b1df77f38ddc0e9cd99154923c4962065f4473621571c66cacae5d8388dd82d"
   }
  }
 },
 "nbformat": 4,
 "nbformat_minor": 2
}
