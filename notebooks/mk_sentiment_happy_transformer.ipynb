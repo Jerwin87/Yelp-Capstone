{
 "cells": [
  {
   "cell_type": "code",
   "execution_count": 27,
   "metadata": {},
   "outputs": [],
   "source": [
    "from transformers import pipeline\n",
    "import pandas as pd\n",
    "from nltk.tokenize import sent_tokenize"
   ]
  },
  {
   "cell_type": "code",
   "execution_count": 4,
   "metadata": {},
   "outputs": [],
   "source": [
    "# import CSV\n",
    "df = pd.read_csv('../data/yelp_dataset/review_1819.csv')"
   ]
  },
  {
   "cell_type": "code",
   "execution_count": 38,
   "metadata": {},
   "outputs": [
    {
     "name": "stderr",
     "output_type": "stream",
     "text": [
      "Some layers from the model checkpoint at distilbert-base-uncased-finetuned-sst-2-english were not used when initializing TFDistilBertForSequenceClassification: ['dropout_19']\n",
      "- This IS expected if you are initializing TFDistilBertForSequenceClassification from the checkpoint of a model trained on another task or with another architecture (e.g. initializing a BertForSequenceClassification model from a BertForPreTraining model).\n",
      "- This IS NOT expected if you are initializing TFDistilBertForSequenceClassification from the checkpoint of a model that you expect to be exactly identical (initializing a BertForSequenceClassification model from a BertForSequenceClassification model).\n",
      "Some layers of TFDistilBertForSequenceClassification were not initialized from the model checkpoint at distilbert-base-uncased-finetuned-sst-2-english and are newly initialized: ['dropout_415']\n",
      "You should probably TRAIN this model on a down-stream task to be able to use it for predictions and inference.\n"
     ]
    }
   ],
   "source": [
    "# instantiate pipeline with pre-trained model\n",
    "# documentation: https://huggingface.co/docs/transformers/v4.21.1/en/main_classes/pipelines#transformers.pipeline\n",
    "# pipe = pipeline(task='sentiment-analysis', model=\"roberta-large-mnli\")\n",
    "pipe = pipeline(task='sentiment-analysis', model=\"distilbert-base-uncased-finetuned-sst-2-english\")"
   ]
  },
  {
   "cell_type": "code",
   "execution_count": 42,
   "metadata": {},
   "outputs": [
    {
     "name": "stdout",
     "output_type": "stream",
     "text": [
      "stars\tlabel\t\tscore\n",
      "3.0\tPOSITIVE\t0.9051093459129333\n",
      "4.0\tPOSITIVE\t0.9173600077629089\n",
      "5.0\tPOSITIVE\t0.9991680383682251\n",
      "5.0\tPOSITIVE\t0.9993034601211548\n",
      "4.0\tPOSITIVE\t0.9998400211334229\n",
      "5.0\tPOSITIVE\t0.9998459815979004\n",
      "1.0\tNEGATIVE\t0.9976266026496887\n",
      "4.0\tPOSITIVE\t0.99922776222229\n",
      "5.0\tPOSITIVE\t0.999864935874939\n",
      "5.0\tPOSITIVE\t0.9997729659080505\n"
     ]
    }
   ],
   "source": [
    "# classification for 10 first items\n",
    "print(\"stars\\tlabel\\t\\tscore\")\n",
    "for i in range(10):\n",
    "    text = df.iloc[i].text\n",
    "    stars = df.iloc[i].stars\n",
    "    text_dict = pipe(text)\n",
    "    # print(text_dict, stars, text)\n",
    "    print(f\"{stars}\\t{text_dict[0]['label']}\\t{text_dict[0]['score']}\")\n"
   ]
  },
  {
   "cell_type": "code",
   "execution_count": 43,
   "metadata": {},
   "outputs": [
    {
     "name": "stdout",
     "output_type": "stream",
     "text": [
      "stars\tlabel\t\tscore\n",
      "3.0\tPOSITIVE\t0.9051093459129333\n",
      "(s0)\tNEGATIVE\t0.992579996585846\tIf you decide to eat here, just be aware it is going to take about 2 hours from beginning to end.\n",
      "(s1)\tPOSITIVE\t0.9997454285621643\tWe have tried it multiple times, because I want to like it!\n",
      "(s2)\tPOSITIVE\t0.9993190765380859\tI have been to it's other locations in NJ and never had a bad experience.\n",
      "(s3)\tNEGATIVE\t0.9920401573181152\tThe food is good, but it takes a very long time to come out.\n",
      "(s4)\tPOSITIVE\t0.9997740387916565\tThe waitstaff is very young, but usually pleasant.\n",
      "(s5)\tNEGATIVE\t0.9994149208068848\tWe have just had too many experiences where we spent way too long waiting.\n",
      "(s6)\tNEGATIVE\t0.9969869256019592\tWe usually opt for another diner or restaurant on the weekends, in order to be done quicker.\n",
      "4.0\tPOSITIVE\t0.9173600077629089\n",
      "(s0)\tPOSITIVE\t0.9679648280143738\tI was really between 3 and 4 stars for this one.\n",
      "(s1)\tPOSITIVE\t0.9994314312934875\tI LOVE the 96th street Naked Tchopstix so I was very excited to see this one which is closer to my house.\n",
      "(s2)\tPOSITIVE\t0.9937378168106079\tThe vibe is totally different as this is geared more to take out although they do have a decent size dining area.\n",
      "(s3)\tPOSITIVE\t0.99943608045578\tYou order at the counter and they deliver it.\n",
      "(s4)\tNEGATIVE\t0.9817264676094055\tMy daughter and I tried the sushi bowl.\n",
      "(s5)\tNEGATIVE\t0.7978346347808838\tYou pick up a piece of paper and  select from a choice of proteins, vegetables, rice and toppings.\n",
      "(s6)\tPOSITIVE\t0.9975155591964722\tI like the fact that it is on paper and you don't have to guess what things are or have to shout over the counter to tell the server what you want.\n",
      "(s7)\tNEGATIVE\t0.9969649910926819\tThe sushi bowl was good but not wonderful.\n",
      "(s8)\tNEGATIVE\t0.9995002746582031\tThe choices particularly of the vegetables seemed a little too limiting and I felt I had more rice than other food items.\n",
      "(s9)\tPOSITIVE\t0.9998098015785217\tThe sauces were tasty.\n",
      "(s10)\tNEGATIVE\t0.9995624423027039\tMy husband ordered the Maui roll which is my favorite roll at the 96th street location and this just was not up that standard.\n",
      "(s11)\tNEGATIVE\t0.9960699081420898\tIt was good but the quality and consistently was not as good as at 96th street.\n",
      "(s12)\tPOSITIVE\t0.9874637126922607\tI would go back though and I think a lot of people would be happy with the sushi bowls.\n",
      "(s13)\tNEGATIVE\t0.9954959154129028\tI do want to make a comment about the low reviews that people have given the place because of service.\n",
      "(s14)\tNEGATIVE\t0.9943922162055969\tPeople - it is a sushi place - it isn't McDonalds- so it will be a bit slower.\n",
      "(s15)\tNEGATIVE\t0.9986692667007446\tYou are not going to order and get out of there in five minutes even though it is called express.\n",
      "(s16)\tPOSITIVE\t0.9983720183372498\tAs a healthy alternative to fast food in the area, it is worth the wait.\n",
      "(s17)\tNEGATIVE\t0.7842512726783752\tOh and try the bubble tea.\n",
      "(s18)\tPOSITIVE\t0.9997346997261047\tI had the strawberry and it was quite yummy.\n",
      "(s19)\tNEGATIVE\t0.9092490673065186\tNext time I am going to try the vanilla chai.\n",
      "5.0\tPOSITIVE\t0.9991680383682251\n",
      "(s0)\tPOSITIVE\t0.9143128991127014\tMy boyfriend and I tried this deli for the first time today.\n",
      "(s1)\tNEGATIVE\t0.9687155485153198\tI had a turkey, avocado & bacon panini and he ha a buffalo chicken wrap.\n",
      "(s2)\tPOSITIVE\t0.9994451403617859\tWe will definitely be returning.\n",
      "(s3)\tPOSITIVE\t0.9989153146743774\tThe wait for food wasn't too long, which is always appreciated during lunch hour.\n",
      "(s4)\tPOSITIVE\t0.7505241632461548\tThere was SO much to choose from.\n",
      "(s5)\tPOSITIVE\t0.9791789054870605\tThey have salads, soup, macaroni, sandwiches and hot food.\n",
      "(s6)\tPOSITIVE\t0.9997214674949646\tI love a deli that has many options to choose from!\n",
      "5.0\tPOSITIVE\t0.9993034601211548\n",
      "(s0)\tPOSITIVE\t0.9996329545974731\tAmazing biscuits and (fill in the blank).\n",
      "(s1)\tPOSITIVE\t0.9998155236244202\tGreat cocktails too.\n",
      "(s2)\tPOSITIVE\t0.9998443126678467\tHighly recommended.\n",
      "(s3)\tNEGATIVE\t0.9987080097198486\tA bit busy though.\n",
      "4.0\tPOSITIVE\t0.9998400211334229\n",
      "(s0)\tPOSITIVE\t0.9998418092727661\tThe cafe was extremely cute.\n",
      "(s1)\tNEGATIVE\t0.9815592765808105\tWe came at 8am and they even had a jazz band playing at that time.\n",
      "(s2)\tPOSITIVE\t0.9998733997344971\tI got the breakfast sandwich and it was delicious.\n",
      "(s3)\tPOSITIVE\t0.9989878535270691\tI loved how they rolled the egg and put the bacon pieces inside.\n",
      "(s4)\tPOSITIVE\t0.998464822769165\tGreat price for a filling breakfast!\n",
      "5.0\tPOSITIVE\t0.9998459815979004\n",
      "(s0)\tPOSITIVE\t0.9998568296432495\tI've only had the cannolis here but they are awesome!\n",
      "(s1)\tPOSITIVE\t0.9998699426651001\tThey're freshly filled when ordered and the filling is phenomenal.\n",
      "(s2)\tPOSITIVE\t0.9998550415039062\tNot too sweet, it's perfect.\n",
      "(s3)\tPOSITIVE\t0.9802324771881104\tIf you like cannoli, if you don't think you like cannoli, you should definitely get one from Termini Bros.\n",
      "1.0\tNEGATIVE\t0.9976266026496887\n",
      "(s0)\tNEGATIVE\t0.9997132420539856\tSkip this train wreck if you are looking for dinner.\n",
      "(s1)\tNEGATIVE\t0.999640941619873\tOur server was clueless...like we seriously thought she was lost in the restaurant.\n",
      "(s2)\tNEGATIVE\t0.9985873699188232\tHad to ask for setups, water refills, etc.\n",
      "(s3)\tNEGATIVE\t0.999052107334137\tOrdered chicken parmesan and got eggplant parmesan instead with a fish bone in it.\n",
      "(s4)\tPOSITIVE\t0.9998476505279541\tThe drinks were good.\n",
      "4.0\tPOSITIVE\t0.99922776222229\n",
      "(s0)\tPOSITIVE\t0.9997621178627014\tEnjoyed my fish out at a sidewalk table.\n",
      "(s1)\tPOSITIVE\t0.9998094439506531\tA bit pricey but food was good.\n",
      "(s2)\tNEGATIVE\t0.9942581653594971\tGo to Side street in French quarter if u want quieter dining outside.\n",
      "5.0\tPOSITIVE\t0.999864935874939\n",
      "(s0)\tPOSITIVE\t0.9998611211776733\tI had the pleasure to meet with Ann today and not only was she extremely helpful and so positive, she went above and beyond to make my 1st experience here amazing and made it a absolute regular customer from this day forward.\n",
      "(s1)\tPOSITIVE\t0.9998015761375427\tThanks girlie!\n",
      "(s2)\tPOSITIVE\t0.999370276927948\t!\n",
      "5.0\tPOSITIVE\t0.9997729659080505\n",
      "(s0)\tPOSITIVE\t0.999308705329895\tA menu that satisfies everyone's cravings!\n",
      "(s1)\tPOSITIVE\t0.9998877048492432\tClean, trendy, and delicious!\n",
      "(s2)\tPOSITIVE\t0.9376232624053955\tI definitely recommend going early (before 9 am) as the wait tends to get longer after 9 am!\n",
      "(s3)\tPOSITIVE\t0.9979367256164551\tBut honestly, it is soooo worth the wait.\n",
      "(s4)\tPOSITIVE\t0.9998866319656372\tYou will leave there feeling so incredible satisfied!\n",
      "5.0\tPOSITIVE\t0.9966985583305359\n",
      "(s0)\tPOSITIVE\t0.9898360371589661\tMilktooth is the place to go if you want a good breakfast cocktail and a twist on traditional brunch.\n",
      "(s1)\tPOSITIVE\t0.9974253177642822\tAt first glance of the menu, you may think you've never heard of any of these foods for breakfast, and you may be right.\n",
      "(s2)\tPOSITIVE\t0.9996143579483032\tI guarantee no matter what you order, you're going to enjoy it.\n",
      "(s3)\tPOSITIVE\t0.9813961386680603\tMilktooth is one of the most popular brunch places in Indy, which means you will typically have a wait.\n",
      "(s4)\tPOSITIVE\t0.9643747806549072\tTrust me, it's worth the usual 30 minute wait (on weekends).\n",
      "(s5)\tPOSITIVE\t0.9281882643699646\tTo make it go by a little faster, they've got a walk up bar for their coffee drinks and pastries.\n",
      "(s6)\tPOSITIVE\t0.9997498393058777\tSnack on one of those to give you a preview of the amazing meal you're about to have.\n",
      "(s7)\tNEGATIVE\t0.9504919052124023\tTheir menu changes from time to time but they have a few things that stay one the menu but change ingredients.\n",
      "(s8)\tPOSITIVE\t0.9984922409057617\tI love all of their variations on a Dutch pancake, and their raclette grilled cheese is to die for.\n",
      "(s9)\tNEGATIVE\t0.9826704859733582\tIf you're making this a boozy breakfast, don't pass up on the michelada.\n",
      "(s10)\tPOSITIVE\t0.9480007290840149\tAnd sit outside if it's warm enough!\n",
      "4.0\tNEGATIVE\t0.9717909097671509\n",
      "(s0)\tPOSITIVE\t0.9998881816864014\tThe bar and staff are AMAZING.\n",
      "(s1)\tPOSITIVE\t0.9997584223747253\twe got a room upgrade for have been being on our honeymoon and the view was gorgeous.\n",
      "(s2)\tNEGATIVE\t0.996768593788147\tBut, the room was not any better than a hilton.\n",
      "(s3)\tNEGATIVE\t0.9991747736930847\tIt had rust in the tub floor, and some weird stains on the tile.\n",
      "(s4)\tPOSITIVE\t0.6422069668769836\tBut this was only in the bathroom, so i give it 4 stars!\n",
      "(s5)\tNEGATIVE\t0.9957836866378784\tGreat staff, but too much for valet so we parked a couple streets down.\n",
      "(s6)\tNEGATIVE\t0.9909389019012451\tThat was the only other con I would say.\n",
      "(s7)\tPOSITIVE\t0.9251821637153625\tWould recommend if you want to be literally in the working downtown area of st. louis.\n",
      "(s8)\tPOSITIVE\t0.9997066855430603\tLots of cool bars and restaurants on a friday night.\n",
      "5.0\tPOSITIVE\t0.9993463158607483\n",
      "(s0)\tNEGATIVE\t0.9989708662033081\tNot sure why it took until now for us to find this place.\n",
      "(s1)\tNEGATIVE\t0.9679719805717468\tWe started out going to the chain lobster restaurant but wanted something more authentic.\n",
      "(s2)\tPOSITIVE\t0.9837888479232788\tA friend recommended Lobster Haven and I checked it out online.\n",
      "(s3)\tNEGATIVE\t0.755281388759613\tLooked like a type of place we would eat at in Massachusetts when we visit family.\n",
      "(s4)\tPOSITIVE\t0.999437153339386\tWe were not disappointed!\n",
      "(s5)\tPOSITIVE\t0.9998682737350464\tService was great, fast and very friendly.\n",
      "(s6)\tPOSITIVE\t0.9997602105140686\tHuge selection of all of the favorites.\n",
      "(s7)\tPOSITIVE\t0.9968791007995605\tYou have to visit this place if you want authentic New England seafood.\n",
      "(s8)\tPOSITIVE\t0.9968212842941284\tYou can also purchase live lobster and fresh seafood to go and cook it yourself.\n",
      "5.0\tPOSITIVE\t0.9998842477798462\n",
      "(s0)\tPOSITIVE\t0.9986097812652588\tMy husband and I come here often.\n",
      "(s1)\tPOSITIVE\t0.9998875856399536\tWe love the food here, it's always fresh and the service is great.\n",
      "(s2)\tPOSITIVE\t0.9998470544815063\tWe highly recommend this place to anyone who loves sushi & hibachi.\n",
      "4.0\tPOSITIVE\t0.9105299115180969\n",
      "(s0)\tPOSITIVE\t0.9834818840026855\tIt's was okay service was a bit on the interesting side as the person was new.\n",
      "(s1)\tPOSITIVE\t0.9994014501571655\tFood presentation was good though they need to either add rice or more potato salad to the gumbo.\n",
      "(s2)\tNEGATIVE\t0.9971960783004761\tSprite was flat but I didn't need it anyways.\n",
      "3.0\tPOSITIVE\t0.9832809567451477\n",
      "(s0)\tNEGATIVE\t0.9944989085197449\tThis is a pretty good pancake place, but it's a little disorganized in the way it's run when it's really busy.\n",
      "(s1)\tPOSITIVE\t0.9997233748435974\tThe pancakes are pretty good but super sweet, so you have to be in there.\n",
      "(s2)\tPOSITIVE\t0.999783456325531\tGood price point.\n",
      "(s3)\tNEGATIVE\t0.9857956171035767\tServes breakfast all day so that's definitely a plus, but not anything particularly special that you couldn't get anywhere else.\n",
      "5.0\tPOSITIVE\t0.9998852014541626\n",
      "(s0)\tPOSITIVE\t0.9998706579208374\tCindy is the best!\n",
      "(s1)\tPOSITIVE\t0.9998805522918701\tGreat food and service.\n",
      "(s2)\tPOSITIVE\t0.9998642206192017\tFood is authentic and so is the staff.\n",
      "(s3)\tPOSITIVE\t0.999800980091095\tEverything is made fresh and you can taste the difference from other Mexican restaurants at first bite.\n",
      "(s4)\tPOSITIVE\t0.9992247819900513\tI would recommend to anyone that enjoys Mexican cuisine.\n",
      "3.0\tNEGATIVE\t0.9975771307945251\n",
      "(s0)\tNEGATIVE\t0.7581455707550049\tWe ran in for a late night dinner last night.\n",
      "(s1)\tPOSITIVE\t0.9974632263183594\tThe prices are definitely high.\n",
      "(s2)\tNEGATIVE\t0.9829946756362915\tBoth couples decided to split a plate (you could tell the annoyed our server), and the food was good- but not worth the price for sure.\n",
      "(s3)\tNEGATIVE\t0.980211079120636\tI will say the garlic bread they bring out before the meal was AH-MAZING!\n",
      "(s4)\tNEGATIVE\t0.999161958694458\tI could have probably eaten my weight in just the bread.\n",
      "(s5)\tNEGATIVE\t0.998561680316925\tOverall - I probably wouldn't eat there again myself.\n",
      "(s6)\tNEGATIVE\t0.9958332777023315\tBut it could have been an off night.\n",
      "(s7)\tNEGATIVE\t0.9997288584709167\tThere is just too much competition in the food world around St Louis!\n",
      "5.0\tPOSITIVE\t0.9996929168701172\n",
      "(s0)\tPOSITIVE\t0.9998562335968018\tFun, no-frills atmosphere, right on the water, where you can watch passersby and dolphins alike, while enjoying great food and accommodating service.\n",
      "(s1)\tPOSITIVE\t0.9714850187301636\tMembers of our dining party ranged from a picky 7 year old, to two 40 somethings and a 72 year old grandmother.\n",
      "(s2)\tNEGATIVE\t0.9951121211051941\tCaptain Bill's had menu choices for everyone in our party, and they even made some ingredient substitutions for us.\n",
      "(s3)\tPOSITIVE\t0.9997441172599792\tThe food arrived hot, fresh, and exactly to our specifications.\n",
      "(s4)\tPOSITIVE\t0.9991932511329651\tWait service and wait time were on point, and we all left the restaurant satisfied and having enjoyed the experience.\n",
      "(s5)\tNEGATIVE\t0.8411442637443542\tWe'll be back to Captain Bill's next time we visit John's pass.\n",
      "(s6)\tPOSITIVE\t0.9997217059135437\tI hope you consider it too!\n",
      "3.0\tPOSITIVE\t0.9988503456115723\n",
      "(s0)\tPOSITIVE\t0.9998692274093628\tMy husband had the 6 oz pepperloin meal and was very happy with it.\n",
      "(s1)\tPOSITIVE\t0.5944213271141052\tI had the shrimp kabob meal.\n",
      "(s2)\tNEGATIVE\t0.9717422723770142\tThere were only 4 shrimp and they were more then well done and very small.\n",
      "(s3)\tPOSITIVE\t0.9998458623886108\tThe service was good.\n",
      "(s4)\tPOSITIVE\t0.9479026794433594\tThe restaurant was not busy.\n"
     ]
    }
   ],
   "source": [
    "# classification for 10 first items; also for each sentence separately\n",
    "print(\"stars\\tlabel\\t\\tscore\")\n",
    "for i in range(20):\n",
    "    text = df.iloc[i].text\n",
    "    stars = df.iloc[i].stars\n",
    "    text_dict = pipe(text)\n",
    "    print(f\"{stars}\\t{text_dict[0]['label']}\\t{text_dict[0]['score']}\")\n",
    "    sentences = sent_tokenize(text)\n",
    "    for s_idx, sent_dict in enumerate(pipe(sentences)):\n",
    "        s = sentences[s_idx]\n",
    "        # print(f\"\\t{s}\")\n",
    "        print(f\"(s{s_idx})\\t{sent_dict['label']}\\t{sent_dict['score']}\\t{s}\")\n"
   ]
  },
  {
   "cell_type": "code",
   "execution_count": null,
   "metadata": {},
   "outputs": [],
   "source": []
  }
 ],
 "metadata": {
  "kernelspec": {
   "display_name": "Python 3.9.8 ('.venv': venv)",
   "language": "python",
   "name": "python3"
  },
  "language_info": {
   "codemirror_mode": {
    "name": "ipython",
    "version": 3
   },
   "file_extension": ".py",
   "mimetype": "text/x-python",
   "name": "python",
   "nbconvert_exporter": "python",
   "pygments_lexer": "ipython3",
   "version": "3.9.8"
  },
  "metadata": {
   "interpreter": {
    "hash": "aee8b7b246df8f9039afb4144a1f6fd8d2ca17a180786b69acc140d282b71a49"
   }
  },
  "vscode": {
   "interpreter": {
    "hash": "2b1df77f38ddc0e9cd99154923c4962065f4473621571c66cacae5d8388dd82d"
   }
  }
 },
 "nbformat": 4,
 "nbformat_minor": 4
}
