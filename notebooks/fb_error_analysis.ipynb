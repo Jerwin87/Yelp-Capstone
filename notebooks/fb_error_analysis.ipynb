{
 "cells": [
  {
   "cell_type": "markdown",
   "metadata": {},
   "source": [
    "# ***Error Analysis***"
   ]
  },
  {
   "cell_type": "markdown",
   "metadata": {},
   "source": [
    "---\n",
    "---"
   ]
  },
  {
   "cell_type": "markdown",
   "metadata": {},
   "source": [
    "### ***Load necessary modules***"
   ]
  },
  {
   "cell_type": "code",
   "execution_count": 1,
   "metadata": {},
   "outputs": [],
   "source": [
    "import sys\n",
    "# adding to the path variables the one folder higher (locally, not changing system variables)\n",
    "sys.path.append(\"..\")\n",
    "\n",
    "# ignore the warnings\n",
    "import warnings\n",
    "warnings.filterwarnings(\"ignore\")\n",
    "\n",
    "import pandas as pd\n",
    "\n",
    "import matplotlib.pyplot as plt\n",
    "import seaborn as sns\n",
    "\n",
    "import tensorflow as tf\n",
    "from tensorflow.keras.models import Model, load_model\n",
    "\n",
    "import nltk\n",
    "from nltk.corpus import stopwords\n",
    "\n",
    "from sklearn.metrics import accuracy_score, precision_score, recall_score, f1_score, confusion_matrix, classification_report\n",
    "from mlxtend.plotting import plot_confusion_matrix\n",
    "\n",
    "from tqdm.auto import tqdm\n"
   ]
  },
  {
   "cell_type": "code",
   "execution_count": 2,
   "metadata": {},
   "outputs": [
    {
     "name": "stdout",
     "output_type": "stream",
     "text": [
      "2.8.0\n"
     ]
    }
   ],
   "source": [
    "print(tf.__version__)"
   ]
  },
  {
   "cell_type": "code",
   "execution_count": 3,
   "metadata": {},
   "outputs": [],
   "source": [
    "tqdm.pandas()"
   ]
  },
  {
   "cell_type": "markdown",
   "metadata": {},
   "source": [
    "---"
   ]
  },
  {
   "cell_type": "markdown",
   "metadata": {},
   "source": [
    "### ***Load model from Tensorflow***"
   ]
  },
  {
   "cell_type": "code",
   "execution_count": 4,
   "metadata": {},
   "outputs": [
    {
     "name": "stdout",
     "output_type": "stream",
     "text": [
      "Metal device set to: Apple M1\n",
      "\n",
      "systemMemory: 8.00 GB\n",
      "maxCacheSize: 2.67 GB\n",
      "\n"
     ]
    },
    {
     "name": "stderr",
     "output_type": "stream",
     "text": [
      "2022-09-06 21:13:20.865301: I tensorflow/core/common_runtime/pluggable_device/pluggable_device_factory.cc:305] Could not identify NUMA node of platform GPU ID 0, defaulting to 0. Your kernel may not have been built with NUMA support.\n",
      "2022-09-06 21:13:20.865392: I tensorflow/core/common_runtime/pluggable_device/pluggable_device_factory.cc:271] Created TensorFlow device (/job:localhost/replica:0/task:0/device:GPU:0 with 0 MB memory) -> physical PluggableDevice (device: 0, name: METAL, pci bus id: <undefined>)\n",
      "2022-09-06 21:13:44.999732: W tensorflow/core/platform/profile_utils/cpu_utils.cc:128] Failed to get CPU frequency: 0 Hz\n",
      "2022-09-06 21:13:44.999829: I tensorflow/core/grappler/optimizers/custom_graph_optimizer_registry.cc:113] Plugin optimizer for device_type GPU is enabled.\n",
      "2022-09-06 21:13:45.018586: I tensorflow/core/grappler/optimizers/custom_graph_optimizer_registry.cc:113] Plugin optimizer for device_type GPU is enabled.\n"
     ]
    }
   ],
   "source": [
    "model = load_model('../saved_model/model_extended_1')"
   ]
  },
  {
   "cell_type": "markdown",
   "metadata": {},
   "source": [
    "---"
   ]
  },
  {
   "cell_type": "markdown",
   "metadata": {},
   "source": [
    "### ***Load reviews - 10 reviews per business***"
   ]
  },
  {
   "cell_type": "markdown",
   "metadata": {},
   "source": [
    "#### ***<u>Columbia Restaurant - Tampa, FL<u>***"
   ]
  },
  {
   "cell_type": "code",
   "execution_count": 23,
   "metadata": {},
   "outputs": [],
   "source": [
    "df_cr = pd.read_csv('../data/yelp_dataset/rev_cr_tampa_FL.csv')"
   ]
  },
  {
   "cell_type": "code",
   "execution_count": 24,
   "metadata": {},
   "outputs": [],
   "source": [
    "df_cr['text'] = df_cr['text'].str.replace('[^\\w\\s]','')"
   ]
  },
  {
   "cell_type": "code",
   "execution_count": 25,
   "metadata": {},
   "outputs": [],
   "source": [
    "rev_pred = model.predict(df_cr)"
   ]
  },
  {
   "cell_type": "code",
   "execution_count": 26,
   "metadata": {},
   "outputs": [],
   "source": [
    "rev_pred = ['%.8f' % elem for elem in rev_pred]"
   ]
  },
  {
   "cell_type": "code",
   "execution_count": 27,
   "metadata": {},
   "outputs": [],
   "source": [
    "df_cr['probabilities'] = rev_pred"
   ]
  },
  {
   "cell_type": "code",
   "execution_count": 28,
   "metadata": {},
   "outputs": [
    {
     "data": {
      "text/html": [
       "<div>\n",
       "<style scoped>\n",
       "    .dataframe tbody tr th:only-of-type {\n",
       "        vertical-align: middle;\n",
       "    }\n",
       "\n",
       "    .dataframe tbody tr th {\n",
       "        vertical-align: top;\n",
       "    }\n",
       "\n",
       "    .dataframe thead th {\n",
       "        text-align: right;\n",
       "    }\n",
       "</style>\n",
       "<table border=\"1\" class=\"dataframe\">\n",
       "  <thead>\n",
       "    <tr style=\"text-align: right;\">\n",
       "      <th></th>\n",
       "      <th>text</th>\n",
       "      <th>probabilities</th>\n",
       "    </tr>\n",
       "  </thead>\n",
       "  <tbody>\n",
       "    <tr>\n",
       "      <th>0</th>\n",
       "      <td>The oldest restaurant in Florida Pretty cool o...</td>\n",
       "      <td>0.00000016</td>\n",
       "    </tr>\n",
       "    <tr>\n",
       "      <th>1</th>\n",
       "      <td>I was referred here by a friend that grew up i...</td>\n",
       "      <td>0.98794240</td>\n",
       "    </tr>\n",
       "    <tr>\n",
       "      <th>2</th>\n",
       "      <td>I found this business on Yelp while visiting Y...</td>\n",
       "      <td>0.98671210</td>\n",
       "    </tr>\n",
       "    <tr>\n",
       "      <th>3</th>\n",
       "      <td>Its like a bag of salt must have exploded in t...</td>\n",
       "      <td>0.96045440</td>\n",
       "    </tr>\n",
       "    <tr>\n",
       "      <th>4</th>\n",
       "      <td>Great spot for Columbian food Start you off wi...</td>\n",
       "      <td>0.00001827</td>\n",
       "    </tr>\n",
       "    <tr>\n",
       "      <th>5</th>\n",
       "      <td>Columbia in Ybor City is a place you HAVE to v...</td>\n",
       "      <td>0.00000020</td>\n",
       "    </tr>\n",
       "    <tr>\n",
       "      <th>6</th>\n",
       "      <td>We had a fabulous experience Alfonzo was secon...</td>\n",
       "      <td>0.00000108</td>\n",
       "    </tr>\n",
       "    <tr>\n",
       "      <th>7</th>\n",
       "      <td>Tons of different Spanish and Cuban dishes and...</td>\n",
       "      <td>0.00000331</td>\n",
       "    </tr>\n",
       "    <tr>\n",
       "      <th>8</th>\n",
       "      <td>One of the oldest restaurants in the area This...</td>\n",
       "      <td>0.00000033</td>\n",
       "    </tr>\n",
       "    <tr>\n",
       "      <th>9</th>\n",
       "      <td>Traditional Spanish dishes served with an old ...</td>\n",
       "      <td>0.97788006</td>\n",
       "    </tr>\n",
       "  </tbody>\n",
       "</table>\n",
       "</div>"
      ],
      "text/plain": [
       "                                                text probabilities\n",
       "0  The oldest restaurant in Florida Pretty cool o...    0.00000016\n",
       "1  I was referred here by a friend that grew up i...    0.98794240\n",
       "2  I found this business on Yelp while visiting Y...    0.98671210\n",
       "3  Its like a bag of salt must have exploded in t...    0.96045440\n",
       "4  Great spot for Columbian food Start you off wi...    0.00001827\n",
       "5  Columbia in Ybor City is a place you HAVE to v...    0.00000020\n",
       "6  We had a fabulous experience Alfonzo was secon...    0.00000108\n",
       "7  Tons of different Spanish and Cuban dishes and...    0.00000331\n",
       "8  One of the oldest restaurants in the area This...    0.00000033\n",
       "9  Traditional Spanish dishes served with an old ...    0.97788006"
      ]
     },
     "execution_count": 28,
     "metadata": {},
     "output_type": "execute_result"
    }
   ],
   "source": [
    "df_cr"
   ]
  },
  {
   "cell_type": "code",
   "execution_count": 29,
   "metadata": {},
   "outputs": [],
   "source": [
    "df_cr_new_sorting = df_cr.sort_values(by=['probabilities'], ascending=False)"
   ]
  },
  {
   "cell_type": "code",
   "execution_count": 30,
   "metadata": {},
   "outputs": [
    {
     "data": {
      "text/html": [
       "<div>\n",
       "<style scoped>\n",
       "    .dataframe tbody tr th:only-of-type {\n",
       "        vertical-align: middle;\n",
       "    }\n",
       "\n",
       "    .dataframe tbody tr th {\n",
       "        vertical-align: top;\n",
       "    }\n",
       "\n",
       "    .dataframe thead th {\n",
       "        text-align: right;\n",
       "    }\n",
       "</style>\n",
       "<table border=\"1\" class=\"dataframe\">\n",
       "  <thead>\n",
       "    <tr style=\"text-align: right;\">\n",
       "      <th></th>\n",
       "      <th>text</th>\n",
       "      <th>probabilities</th>\n",
       "    </tr>\n",
       "  </thead>\n",
       "  <tbody>\n",
       "    <tr>\n",
       "      <th>1</th>\n",
       "      <td>I was referred here by a friend that grew up i...</td>\n",
       "      <td>0.98794240</td>\n",
       "    </tr>\n",
       "    <tr>\n",
       "      <th>2</th>\n",
       "      <td>I found this business on Yelp while visiting Y...</td>\n",
       "      <td>0.98671210</td>\n",
       "    </tr>\n",
       "    <tr>\n",
       "      <th>9</th>\n",
       "      <td>Traditional Spanish dishes served with an old ...</td>\n",
       "      <td>0.97788006</td>\n",
       "    </tr>\n",
       "    <tr>\n",
       "      <th>3</th>\n",
       "      <td>Its like a bag of salt must have exploded in t...</td>\n",
       "      <td>0.96045440</td>\n",
       "    </tr>\n",
       "    <tr>\n",
       "      <th>4</th>\n",
       "      <td>Great spot for Columbian food Start you off wi...</td>\n",
       "      <td>0.00001827</td>\n",
       "    </tr>\n",
       "    <tr>\n",
       "      <th>7</th>\n",
       "      <td>Tons of different Spanish and Cuban dishes and...</td>\n",
       "      <td>0.00000331</td>\n",
       "    </tr>\n",
       "    <tr>\n",
       "      <th>6</th>\n",
       "      <td>We had a fabulous experience Alfonzo was secon...</td>\n",
       "      <td>0.00000108</td>\n",
       "    </tr>\n",
       "    <tr>\n",
       "      <th>8</th>\n",
       "      <td>One of the oldest restaurants in the area This...</td>\n",
       "      <td>0.00000033</td>\n",
       "    </tr>\n",
       "    <tr>\n",
       "      <th>5</th>\n",
       "      <td>Columbia in Ybor City is a place you HAVE to v...</td>\n",
       "      <td>0.00000020</td>\n",
       "    </tr>\n",
       "    <tr>\n",
       "      <th>0</th>\n",
       "      <td>The oldest restaurant in Florida Pretty cool o...</td>\n",
       "      <td>0.00000016</td>\n",
       "    </tr>\n",
       "  </tbody>\n",
       "</table>\n",
       "</div>"
      ],
      "text/plain": [
       "                                                text probabilities\n",
       "1  I was referred here by a friend that grew up i...    0.98794240\n",
       "2  I found this business on Yelp while visiting Y...    0.98671210\n",
       "9  Traditional Spanish dishes served with an old ...    0.97788006\n",
       "3  Its like a bag of salt must have exploded in t...    0.96045440\n",
       "4  Great spot for Columbian food Start you off wi...    0.00001827\n",
       "7  Tons of different Spanish and Cuban dishes and...    0.00000331\n",
       "6  We had a fabulous experience Alfonzo was secon...    0.00000108\n",
       "8  One of the oldest restaurants in the area This...    0.00000033\n",
       "5  Columbia in Ybor City is a place you HAVE to v...    0.00000020\n",
       "0  The oldest restaurant in Florida Pretty cool o...    0.00000016"
      ]
     },
     "execution_count": 30,
     "metadata": {},
     "output_type": "execute_result"
    }
   ],
   "source": [
    "df_cr_new_sorting"
   ]
  },
  {
   "cell_type": "markdown",
   "metadata": {},
   "source": [
    "---\n",
    "---"
   ]
  },
  {
   "cell_type": "markdown",
   "metadata": {},
   "source": [
    "#### ***<u>Antoines Restaurant - New Orleans, LA <u>***"
   ]
  },
  {
   "cell_type": "code",
   "execution_count": 31,
   "metadata": {},
   "outputs": [],
   "source": [
    "df_ar = pd.read_csv('../data/yelp_dataset/rev_ar_new_orleans_LA.csv')"
   ]
  },
  {
   "cell_type": "code",
   "execution_count": 32,
   "metadata": {},
   "outputs": [],
   "source": [
    "df_ar['text'] = df_ar['text'].str.replace('[^\\w\\s]','')"
   ]
  },
  {
   "cell_type": "code",
   "execution_count": 33,
   "metadata": {},
   "outputs": [],
   "source": [
    "rev_pred = model.predict(df_ar)"
   ]
  },
  {
   "cell_type": "code",
   "execution_count": 34,
   "metadata": {},
   "outputs": [],
   "source": [
    "rev_pred = ['%.8f' % elem for elem in rev_pred]"
   ]
  },
  {
   "cell_type": "code",
   "execution_count": 35,
   "metadata": {},
   "outputs": [],
   "source": [
    "df_ar['probabilities'] = rev_pred"
   ]
  },
  {
   "cell_type": "code",
   "execution_count": 36,
   "metadata": {},
   "outputs": [
    {
     "data": {
      "text/html": [
       "<div>\n",
       "<style scoped>\n",
       "    .dataframe tbody tr th:only-of-type {\n",
       "        vertical-align: middle;\n",
       "    }\n",
       "\n",
       "    .dataframe tbody tr th {\n",
       "        vertical-align: top;\n",
       "    }\n",
       "\n",
       "    .dataframe thead th {\n",
       "        text-align: right;\n",
       "    }\n",
       "</style>\n",
       "<table border=\"1\" class=\"dataframe\">\n",
       "  <thead>\n",
       "    <tr style=\"text-align: right;\">\n",
       "      <th></th>\n",
       "      <th>text</th>\n",
       "      <th>probabilities</th>\n",
       "    </tr>\n",
       "  </thead>\n",
       "  <tbody>\n",
       "    <tr>\n",
       "      <th>0</th>\n",
       "      <td>Very excellent service and food as we picked t...</td>\n",
       "      <td>0.00000004</td>\n",
       "    </tr>\n",
       "    <tr>\n",
       "      <th>1</th>\n",
       "      <td>oysters rockefeller 010 ummthis was atrocious ...</td>\n",
       "      <td>0.00000005</td>\n",
       "    </tr>\n",
       "    <tr>\n",
       "      <th>2</th>\n",
       "      <td>Ive seen some rave reviews for Antoines and wa...</td>\n",
       "      <td>0.99305731</td>\n",
       "    </tr>\n",
       "    <tr>\n",
       "      <th>3</th>\n",
       "      <td>Came on dress casual with open toed sandals an...</td>\n",
       "      <td>0.00004184</td>\n",
       "    </tr>\n",
       "    <tr>\n",
       "      <th>4</th>\n",
       "      <td>My favorite spot in the French Quarter for wha...</td>\n",
       "      <td>0.00008022</td>\n",
       "    </tr>\n",
       "    <tr>\n",
       "      <th>5</th>\n",
       "      <td>What amazing sorcery this place is Spent a bea...</td>\n",
       "      <td>0.99952078</td>\n",
       "    </tr>\n",
       "    <tr>\n",
       "      <th>6</th>\n",
       "      <td>We came during the Coolinary New Orleans event...</td>\n",
       "      <td>0.00000082</td>\n",
       "    </tr>\n",
       "    <tr>\n",
       "      <th>7</th>\n",
       "      <td>Antoines was definitely an experience Service ...</td>\n",
       "      <td>0.99326694</td>\n",
       "    </tr>\n",
       "    <tr>\n",
       "      <th>8</th>\n",
       "      <td>Perfect restaurant and bar scene to visit in t...</td>\n",
       "      <td>0.00008995</td>\n",
       "    </tr>\n",
       "    <tr>\n",
       "      <th>9</th>\n",
       "      <td>Walking towards the restaurant you begin to ob...</td>\n",
       "      <td>0.00000352</td>\n",
       "    </tr>\n",
       "  </tbody>\n",
       "</table>\n",
       "</div>"
      ],
      "text/plain": [
       "                                                text probabilities\n",
       "0  Very excellent service and food as we picked t...    0.00000004\n",
       "1  oysters rockefeller 010 ummthis was atrocious ...    0.00000005\n",
       "2  Ive seen some rave reviews for Antoines and wa...    0.99305731\n",
       "3  Came on dress casual with open toed sandals an...    0.00004184\n",
       "4  My favorite spot in the French Quarter for wha...    0.00008022\n",
       "5  What amazing sorcery this place is Spent a bea...    0.99952078\n",
       "6  We came during the Coolinary New Orleans event...    0.00000082\n",
       "7  Antoines was definitely an experience Service ...    0.99326694\n",
       "8  Perfect restaurant and bar scene to visit in t...    0.00008995\n",
       "9  Walking towards the restaurant you begin to ob...    0.00000352"
      ]
     },
     "execution_count": 36,
     "metadata": {},
     "output_type": "execute_result"
    }
   ],
   "source": [
    "df_ar"
   ]
  },
  {
   "cell_type": "code",
   "execution_count": 37,
   "metadata": {},
   "outputs": [],
   "source": [
    "df_ar_new_sorting = df_ar.sort_values(by=['probabilities'], ascending=False)"
   ]
  },
  {
   "cell_type": "code",
   "execution_count": 38,
   "metadata": {},
   "outputs": [
    {
     "data": {
      "text/html": [
       "<div>\n",
       "<style scoped>\n",
       "    .dataframe tbody tr th:only-of-type {\n",
       "        vertical-align: middle;\n",
       "    }\n",
       "\n",
       "    .dataframe tbody tr th {\n",
       "        vertical-align: top;\n",
       "    }\n",
       "\n",
       "    .dataframe thead th {\n",
       "        text-align: right;\n",
       "    }\n",
       "</style>\n",
       "<table border=\"1\" class=\"dataframe\">\n",
       "  <thead>\n",
       "    <tr style=\"text-align: right;\">\n",
       "      <th></th>\n",
       "      <th>text</th>\n",
       "      <th>probabilities</th>\n",
       "    </tr>\n",
       "  </thead>\n",
       "  <tbody>\n",
       "    <tr>\n",
       "      <th>5</th>\n",
       "      <td>What amazing sorcery this place is Spent a bea...</td>\n",
       "      <td>0.99952078</td>\n",
       "    </tr>\n",
       "    <tr>\n",
       "      <th>7</th>\n",
       "      <td>Antoines was definitely an experience Service ...</td>\n",
       "      <td>0.99326694</td>\n",
       "    </tr>\n",
       "    <tr>\n",
       "      <th>2</th>\n",
       "      <td>Ive seen some rave reviews for Antoines and wa...</td>\n",
       "      <td>0.99305731</td>\n",
       "    </tr>\n",
       "    <tr>\n",
       "      <th>8</th>\n",
       "      <td>Perfect restaurant and bar scene to visit in t...</td>\n",
       "      <td>0.00008995</td>\n",
       "    </tr>\n",
       "    <tr>\n",
       "      <th>4</th>\n",
       "      <td>My favorite spot in the French Quarter for wha...</td>\n",
       "      <td>0.00008022</td>\n",
       "    </tr>\n",
       "    <tr>\n",
       "      <th>3</th>\n",
       "      <td>Came on dress casual with open toed sandals an...</td>\n",
       "      <td>0.00004184</td>\n",
       "    </tr>\n",
       "    <tr>\n",
       "      <th>9</th>\n",
       "      <td>Walking towards the restaurant you begin to ob...</td>\n",
       "      <td>0.00000352</td>\n",
       "    </tr>\n",
       "    <tr>\n",
       "      <th>6</th>\n",
       "      <td>We came during the Coolinary New Orleans event...</td>\n",
       "      <td>0.00000082</td>\n",
       "    </tr>\n",
       "    <tr>\n",
       "      <th>1</th>\n",
       "      <td>oysters rockefeller 010 ummthis was atrocious ...</td>\n",
       "      <td>0.00000005</td>\n",
       "    </tr>\n",
       "    <tr>\n",
       "      <th>0</th>\n",
       "      <td>Very excellent service and food as we picked t...</td>\n",
       "      <td>0.00000004</td>\n",
       "    </tr>\n",
       "  </tbody>\n",
       "</table>\n",
       "</div>"
      ],
      "text/plain": [
       "                                                text probabilities\n",
       "5  What amazing sorcery this place is Spent a bea...    0.99952078\n",
       "7  Antoines was definitely an experience Service ...    0.99326694\n",
       "2  Ive seen some rave reviews for Antoines and wa...    0.99305731\n",
       "8  Perfect restaurant and bar scene to visit in t...    0.00008995\n",
       "4  My favorite spot in the French Quarter for wha...    0.00008022\n",
       "3  Came on dress casual with open toed sandals an...    0.00004184\n",
       "9  Walking towards the restaurant you begin to ob...    0.00000352\n",
       "6  We came during the Coolinary New Orleans event...    0.00000082\n",
       "1  oysters rockefeller 010 ummthis was atrocious ...    0.00000005\n",
       "0  Very excellent service and food as we picked t...    0.00000004"
      ]
     },
     "execution_count": 38,
     "metadata": {},
     "output_type": "execute_result"
    }
   ],
   "source": [
    "df_ar_new_sorting"
   ]
  },
  {
   "cell_type": "markdown",
   "metadata": {},
   "source": [
    "---\n",
    "---"
   ]
  },
  {
   "cell_type": "markdown",
   "metadata": {},
   "source": [
    "#### ***<u>Bodega - Saint Petersburg, FL<u>***"
   ]
  },
  {
   "cell_type": "code",
   "execution_count": 39,
   "metadata": {},
   "outputs": [],
   "source": [
    "df_b = pd.read_csv('../data/yelp_dataset/rev_b_saint_peter_FL.csv')"
   ]
  },
  {
   "cell_type": "code",
   "execution_count": 40,
   "metadata": {},
   "outputs": [],
   "source": [
    "df_b['text'] = df_b['text'].str.replace('[^\\w\\s]','')"
   ]
  },
  {
   "cell_type": "code",
   "execution_count": 41,
   "metadata": {},
   "outputs": [],
   "source": [
    "rev_pred = model.predict(df_b)"
   ]
  },
  {
   "cell_type": "code",
   "execution_count": 42,
   "metadata": {},
   "outputs": [],
   "source": [
    "rev_pred = ['%.8f' % elem for elem in rev_pred]"
   ]
  },
  {
   "cell_type": "code",
   "execution_count": 43,
   "metadata": {},
   "outputs": [],
   "source": [
    "df_b['probabilities'] = rev_pred"
   ]
  },
  {
   "cell_type": "code",
   "execution_count": 44,
   "metadata": {},
   "outputs": [
    {
     "data": {
      "text/html": [
       "<div>\n",
       "<style scoped>\n",
       "    .dataframe tbody tr th:only-of-type {\n",
       "        vertical-align: middle;\n",
       "    }\n",
       "\n",
       "    .dataframe tbody tr th {\n",
       "        vertical-align: top;\n",
       "    }\n",
       "\n",
       "    .dataframe thead th {\n",
       "        text-align: right;\n",
       "    }\n",
       "</style>\n",
       "<table border=\"1\" class=\"dataframe\">\n",
       "  <thead>\n",
       "    <tr style=\"text-align: right;\">\n",
       "      <th></th>\n",
       "      <th>text</th>\n",
       "      <th>probabilities</th>\n",
       "    </tr>\n",
       "  </thead>\n",
       "  <tbody>\n",
       "    <tr>\n",
       "      <th>0</th>\n",
       "      <td>5 stars for the food Great portions for an awe...</td>\n",
       "      <td>0.00000158</td>\n",
       "    </tr>\n",
       "    <tr>\n",
       "      <th>1</th>\n",
       "      <td>Sometimes its best to have a great memory of a...</td>\n",
       "      <td>0.92820776</td>\n",
       "    </tr>\n",
       "    <tr>\n",
       "      <th>2</th>\n",
       "      <td>Definitely recommend the sandwich here Thought...</td>\n",
       "      <td>0.00000011</td>\n",
       "    </tr>\n",
       "    <tr>\n",
       "      <th>3</th>\n",
       "      <td>I have not been back to Bodega for years move ...</td>\n",
       "      <td>0.99164003</td>\n",
       "    </tr>\n",
       "    <tr>\n",
       "      <th>4</th>\n",
       "      <td>Super disappointed the last two times Ive visi...</td>\n",
       "      <td>0.99977630</td>\n",
       "    </tr>\n",
       "    <tr>\n",
       "      <th>5</th>\n",
       "      <td>I am visiting Saint Pete for a birthday trip a...</td>\n",
       "      <td>0.99952435</td>\n",
       "    </tr>\n",
       "    <tr>\n",
       "      <th>6</th>\n",
       "      <td>Bodega is a great spot that can serve a variet...</td>\n",
       "      <td>0.99686050</td>\n",
       "    </tr>\n",
       "    <tr>\n",
       "      <th>7</th>\n",
       "      <td>First time there Food and service were okay St...</td>\n",
       "      <td>0.00000997</td>\n",
       "    </tr>\n",
       "    <tr>\n",
       "      <th>8</th>\n",
       "      <td>This was one of the best Cubans Ive ever had I...</td>\n",
       "      <td>0.00000009</td>\n",
       "    </tr>\n",
       "    <tr>\n",
       "      <th>9</th>\n",
       "      <td>I love the walkup window to order and then goi...</td>\n",
       "      <td>0.00000014</td>\n",
       "    </tr>\n",
       "  </tbody>\n",
       "</table>\n",
       "</div>"
      ],
      "text/plain": [
       "                                                text probabilities\n",
       "0  5 stars for the food Great portions for an awe...    0.00000158\n",
       "1  Sometimes its best to have a great memory of a...    0.92820776\n",
       "2  Definitely recommend the sandwich here Thought...    0.00000011\n",
       "3  I have not been back to Bodega for years move ...    0.99164003\n",
       "4  Super disappointed the last two times Ive visi...    0.99977630\n",
       "5  I am visiting Saint Pete for a birthday trip a...    0.99952435\n",
       "6  Bodega is a great spot that can serve a variet...    0.99686050\n",
       "7  First time there Food and service were okay St...    0.00000997\n",
       "8  This was one of the best Cubans Ive ever had I...    0.00000009\n",
       "9  I love the walkup window to order and then goi...    0.00000014"
      ]
     },
     "execution_count": 44,
     "metadata": {},
     "output_type": "execute_result"
    }
   ],
   "source": [
    "df_b"
   ]
  },
  {
   "cell_type": "code",
   "execution_count": 45,
   "metadata": {},
   "outputs": [],
   "source": [
    "df_b_new_sorting = df_b.sort_values(by=['probabilities'], ascending=False)"
   ]
  },
  {
   "cell_type": "code",
   "execution_count": 46,
   "metadata": {},
   "outputs": [
    {
     "data": {
      "text/html": [
       "<div>\n",
       "<style scoped>\n",
       "    .dataframe tbody tr th:only-of-type {\n",
       "        vertical-align: middle;\n",
       "    }\n",
       "\n",
       "    .dataframe tbody tr th {\n",
       "        vertical-align: top;\n",
       "    }\n",
       "\n",
       "    .dataframe thead th {\n",
       "        text-align: right;\n",
       "    }\n",
       "</style>\n",
       "<table border=\"1\" class=\"dataframe\">\n",
       "  <thead>\n",
       "    <tr style=\"text-align: right;\">\n",
       "      <th></th>\n",
       "      <th>text</th>\n",
       "      <th>probabilities</th>\n",
       "    </tr>\n",
       "  </thead>\n",
       "  <tbody>\n",
       "    <tr>\n",
       "      <th>4</th>\n",
       "      <td>Super disappointed the last two times Ive visi...</td>\n",
       "      <td>0.99977630</td>\n",
       "    </tr>\n",
       "    <tr>\n",
       "      <th>5</th>\n",
       "      <td>I am visiting Saint Pete for a birthday trip a...</td>\n",
       "      <td>0.99952435</td>\n",
       "    </tr>\n",
       "    <tr>\n",
       "      <th>6</th>\n",
       "      <td>Bodega is a great spot that can serve a variet...</td>\n",
       "      <td>0.99686050</td>\n",
       "    </tr>\n",
       "    <tr>\n",
       "      <th>3</th>\n",
       "      <td>I have not been back to Bodega for years move ...</td>\n",
       "      <td>0.99164003</td>\n",
       "    </tr>\n",
       "    <tr>\n",
       "      <th>1</th>\n",
       "      <td>Sometimes its best to have a great memory of a...</td>\n",
       "      <td>0.92820776</td>\n",
       "    </tr>\n",
       "    <tr>\n",
       "      <th>7</th>\n",
       "      <td>First time there Food and service were okay St...</td>\n",
       "      <td>0.00000997</td>\n",
       "    </tr>\n",
       "    <tr>\n",
       "      <th>0</th>\n",
       "      <td>5 stars for the food Great portions for an awe...</td>\n",
       "      <td>0.00000158</td>\n",
       "    </tr>\n",
       "    <tr>\n",
       "      <th>9</th>\n",
       "      <td>I love the walkup window to order and then goi...</td>\n",
       "      <td>0.00000014</td>\n",
       "    </tr>\n",
       "    <tr>\n",
       "      <th>2</th>\n",
       "      <td>Definitely recommend the sandwich here Thought...</td>\n",
       "      <td>0.00000011</td>\n",
       "    </tr>\n",
       "    <tr>\n",
       "      <th>8</th>\n",
       "      <td>This was one of the best Cubans Ive ever had I...</td>\n",
       "      <td>0.00000009</td>\n",
       "    </tr>\n",
       "  </tbody>\n",
       "</table>\n",
       "</div>"
      ],
      "text/plain": [
       "                                                text probabilities\n",
       "4  Super disappointed the last two times Ive visi...    0.99977630\n",
       "5  I am visiting Saint Pete for a birthday trip a...    0.99952435\n",
       "6  Bodega is a great spot that can serve a variet...    0.99686050\n",
       "3  I have not been back to Bodega for years move ...    0.99164003\n",
       "1  Sometimes its best to have a great memory of a...    0.92820776\n",
       "7  First time there Food and service were okay St...    0.00000997\n",
       "0  5 stars for the food Great portions for an awe...    0.00000158\n",
       "9  I love the walkup window to order and then goi...    0.00000014\n",
       "2  Definitely recommend the sandwich here Thought...    0.00000011\n",
       "8  This was one of the best Cubans Ive ever had I...    0.00000009"
      ]
     },
     "execution_count": 46,
     "metadata": {},
     "output_type": "execute_result"
    }
   ],
   "source": [
    "df_b_new_sorting"
   ]
  },
  {
   "cell_type": "markdown",
   "metadata": {},
   "source": [
    "---\n",
    "---"
   ]
  }
 ],
 "metadata": {
  "kernelspec": {
   "display_name": "Python 3.9.8 ('.venv': venv)",
   "language": "python",
   "name": "python3"
  },
  "language_info": {
   "codemirror_mode": {
    "name": "ipython",
    "version": 3
   },
   "file_extension": ".py",
   "mimetype": "text/x-python",
   "name": "python",
   "nbconvert_exporter": "python",
   "pygments_lexer": "ipython3",
   "version": "3.9.8"
  },
  "orig_nbformat": 4,
  "vscode": {
   "interpreter": {
    "hash": "a25c5467bd72a15a44db8f6702eef707e4b4c2171cfa5fa542b91e92dc8d903c"
   }
  }
 },
 "nbformat": 4,
 "nbformat_minor": 2
}
