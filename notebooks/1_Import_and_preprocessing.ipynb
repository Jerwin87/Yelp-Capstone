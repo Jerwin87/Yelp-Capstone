{
 "cells": [
  {
   "cell_type": "code",
   "execution_count": 6,
   "metadata": {},
   "outputs": [
    {
     "name": "stderr",
     "output_type": "stream",
     "text": [
      "[nltk_data] Downloading package stopwords to /home/jerwin/nltk_data...\n",
      "[nltk_data]   Unzipping corpora/stopwords.zip.\n"
     ]
    },
    {
     "ename": "FileNotFoundError",
     "evalue": "[Errno 2] No such file or directory: '../data/yelp_dataset/yelp_academic_dataset_review.json'",
     "output_type": "error",
     "traceback": [
      "\u001b[0;31m---------------------------------------------------------------------------\u001b[0m",
      "\u001b[0;31mFileNotFoundError\u001b[0m                         Traceback (most recent call last)",
      "Cell \u001b[0;32mIn [6], line 9\u001b[0m\n\u001b[1;32m      6\u001b[0m \u001b[39mfrom\u001b[39;00m \u001b[39mscripts\u001b[39;00m\u001b[39m.\u001b[39;00m\u001b[39mprocessing\u001b[39;00m \u001b[39mimport\u001b[39;00m \u001b[39m*\u001b[39m\n\u001b[1;32m      8\u001b[0m \u001b[39m#read the full json\u001b[39;00m\n\u001b[0;32m----> 9\u001b[0m dfr \u001b[39m=\u001b[39m get_df(\u001b[39m'\u001b[39;49m\u001b[39m../data/yelp_dataset/yelp_academic_dataset_review.json\u001b[39;49m\u001b[39m'\u001b[39;49m)\n\u001b[1;32m     11\u001b[0m \u001b[39m# save full file as csv\u001b[39;00m\n\u001b[1;32m     12\u001b[0m dfr\u001b[39m.\u001b[39mto_csv(\u001b[39m'\u001b[39m\u001b[39m../data/yelp_dataset/review.csv\u001b[39m\u001b[39m'\u001b[39m)\n",
      "File \u001b[0;32m~/projects/Yelp-Capstone/notebooks/../scripts/processing.py:14\u001b[0m, in \u001b[0;36mget_df\u001b[0;34m(fn, limit)\u001b[0m\n\u001b[1;32m     12\u001b[0m json_lines \u001b[39m=\u001b[39m []\n\u001b[1;32m     13\u001b[0m line_nr \u001b[39m=\u001b[39m \u001b[39m1\u001b[39m\n\u001b[0;32m---> 14\u001b[0m \u001b[39mwith\u001b[39;00m \u001b[39mopen\u001b[39;49m(fn) \u001b[39mas\u001b[39;00m f:\n\u001b[1;32m     15\u001b[0m     \u001b[39mfor\u001b[39;00m line \u001b[39min\u001b[39;00m f:\n\u001b[1;32m     16\u001b[0m         \u001b[39mif\u001b[39;00m limit \u001b[39mand\u001b[39;00m line_nr \u001b[39m==\u001b[39m limit:\n",
      "\u001b[0;31mFileNotFoundError\u001b[0m: [Errno 2] No such file or directory: '../data/yelp_dataset/yelp_academic_dataset_review.json'"
     ]
    }
   ],
   "source": [
    "import sys\n",
    "# adding to the path variables the one folder higher (locally, not changing system variables)\n",
    "sys.path.append(\"..\")\n",
    "\n",
    "# import needed functions\n",
    "from scripts.processing import *\n",
    "\n",
    "#read the full json\n",
    "dfr = get_df('../data/yelp_academic_dataset_review.json')\n",
    "\n",
    "# save full file as csv\n",
    "dfr.to_csv('../data/review.csv')\n",
    "\n",
    "# add year column and filter by it\n",
    "dfr['year'] = pd.to_datetime(dfr.date).dt.year\n",
    "df_two = dfr.query('2018 <= year <= 2019')\n",
    "\n",
    "# save reduced df\n",
    "df_two.to_csv('../data/review_1819.csv')"
   ]
  }
 ],
 "metadata": {
  "kernelspec": {
   "display_name": "Python 3.9.8 ('.venv': venv)",
   "language": "python",
   "name": "python3"
  },
  "language_info": {
   "codemirror_mode": {
    "name": "ipython",
    "version": 3
   },
   "file_extension": ".py",
   "mimetype": "text/x-python",
   "name": "python",
   "nbconvert_exporter": "python",
   "pygments_lexer": "ipython3",
   "version": "3.10.4"
  },
  "orig_nbformat": 4,
  "vscode": {
   "interpreter": {
    "hash": "3b8a409f755f77194bdcb120819373e80ef414bae179fed73d9715465df2a934"
   }
  }
 },
 "nbformat": 4,
 "nbformat_minor": 2
}
