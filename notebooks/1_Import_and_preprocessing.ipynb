{
 "cells": [
  {
   "cell_type": "markdown",
   "metadata": {},
   "source": [
    "# This first notebook is about transforming the json data into a better to handle csv format"
   ]
  },
  {
   "cell_type": "code",
   "execution_count": null,
   "metadata": {},
   "outputs": [],
   "source": [
    "import pandas as pd\n",
    "import json\n",
    "import fasttext as ft"
   ]
  },
  {
   "cell_type": "code",
   "execution_count": null,
   "metadata": {},
   "outputs": [],
   "source": [
    "# define function to reed json\n",
    "def get_df(fn, limit=None):\n",
    "    json_lines = []\n",
    "    line_nr = 1\n",
    "    with open(fn) as f:\n",
    "        for line in f:\n",
    "            if limit and line_nr == limit:\n",
    "                break\n",
    "            json_line = json.loads(line)\n",
    "            json_lines.append(json_line)\n",
    "            line_nr += 1\n",
    "    df = pd.DataFrame(json_lines)\n",
    "    return df"
   ]
  },
  {
   "cell_type": "code",
   "execution_count": null,
   "metadata": {},
   "outputs": [],
   "source": [
    "#read the full json\n",
    "dfr = get_df('../data/yelp_academic_dataset_review.json')"
   ]
  },
  {
   "cell_type": "code",
   "execution_count": null,
   "metadata": {},
   "outputs": [],
   "source": [
    "# save full file as csv\n",
    "dfr.to_csv('../data/review.csv')"
   ]
  },
  {
   "cell_type": "markdown",
   "metadata": {},
   "source": [
    "## As the Yelp Datasaet contains nearly 8 Million reviews, we will reduce the dataset to only the last two years 2018 and 2019"
   ]
  },
  {
   "cell_type": "code",
   "execution_count": null,
   "metadata": {},
   "outputs": [],
   "source": [
    "# add year column and filter by it\n",
    "dfr['year'] = pd.to_datetime(dfr.date).dt.year\n",
    "df = dfr.query('2018 <= year <= 2019')"
   ]
  },
  {
   "cell_type": "code",
   "execution_count": null,
   "metadata": {},
   "outputs": [],
   "source": [
    "# save reduced df\n",
    "df.to_csv('../data/review_1819.csv', index=False)"
   ]
  },
  {
   "cell_type": "markdown",
   "metadata": {},
   "source": [
    "## Lastly we will remove all the non englisch reviews, as we want to perform several steps of NLP, that prefferably work on a dataset with only one language"
   ]
  },
  {
   "cell_type": "code",
   "execution_count": null,
   "metadata": {},
   "outputs": [],
   "source": [
    "# copy dataframe to be sure\n",
    "df_lang = df\n",
    "\n",
    "# Load pretrained model\n",
    "fasttext_model = ft.load_model('../data/lid.176.bin')\n",
    "\n",
    "# Initiate empty language list\n",
    "language_list = []\n",
    "\n",
    "accuracy = 0.95\n",
    "for row in df_lang['text']:\n",
    "    row = row.replace(\"\\n\",\" \")                                     # replace \\n with \" \"\n",
    "    label = fasttext_model.predict(row, k=-1, threshold=accuracy)   # predict language per row with a certainty of at least 95%\n",
    "    language_list.append(label)                                     # append result to list\n",
    "\n",
    "# Set language list as new column in dataframe\n",
    "\n",
    "language_df = pd.DataFrame(language_list, columns=['language', 'probability'])\n",
    "df_lang['language'] = language_df['language'].astype(str)\n",
    "df_lang = df[df['language'] == \"('__label__en',)\"];"
   ]
  },
  {
   "cell_type": "code",
   "execution_count": null,
   "metadata": {},
   "outputs": [],
   "source": [
    "# Drop the new language column and save to csv\n",
    "\n",
    "df_lang.drop('language', axis=1, inplace=True)\n",
    "df_lang.to_csv('../data/review_1819_eng.csv', index=False)"
   ]
  }
 ],
 "metadata": {
  "kernelspec": {
   "display_name": "Python 3.9.6 ('.venv': venv)",
   "language": "python",
   "name": "python3"
  },
  "language_info": {
   "codemirror_mode": {
    "name": "ipython",
    "version": 3
   },
   "file_extension": ".py",
   "mimetype": "text/x-python",
   "name": "python",
   "nbconvert_exporter": "python",
   "pygments_lexer": "ipython3",
   "version": "3.9.8"
  },
  "orig_nbformat": 4,
  "vscode": {
   "interpreter": {
    "hash": "8ce5e151fb00091df5b1b9e0901c9540dd87c25621af86a4204e4865fde1e8b1"
   }
  }
 },
 "nbformat": 4,
 "nbformat_minor": 2
}
