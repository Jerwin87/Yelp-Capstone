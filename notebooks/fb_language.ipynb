{
 "cells": [
  {
   "cell_type": "markdown",
   "metadata": {},
   "source": [
    "# ***Language \"processing\"***"
   ]
  },
  {
   "cell_type": "markdown",
   "metadata": {},
   "source": [
    "### ***Dataset :*** <u>***review_1819.csv***<u>"
   ]
  },
  {
   "cell_type": "markdown",
   "metadata": {},
   "source": [
    "***Import necessary python modules***"
   ]
  },
  {
   "cell_type": "code",
   "execution_count": null,
   "metadata": {},
   "outputs": [],
   "source": [
    "# Dataframes\n",
    "import pandas as pd\n",
    "import numpy as np\n",
    "\n",
    "# Language detection\n",
    "import fasttext as ft\n",
    "from pycountry import pycountry\n",
    "from pycountry import languages"
   ]
  },
  {
   "cell_type": "markdown",
   "metadata": {},
   "source": [
    "### ***1. Load Dataset***"
   ]
  },
  {
   "cell_type": "code",
   "execution_count": null,
   "metadata": {},
   "outputs": [],
   "source": [
    "# Load review_1819.csv into dataframe\n",
    "\n",
    "df_lang = pd.read_csv('data/yelp_dataset/review_1819.csv')"
   ]
  },
  {
   "cell_type": "code",
   "execution_count": null,
   "metadata": {},
   "outputs": [],
   "source": [
    "df_lang.head(1)"
   ]
  },
  {
   "cell_type": "markdown",
   "metadata": {},
   "source": [
    "### ***2. Setup model***"
   ]
  },
  {
   "cell_type": "code",
   "execution_count": null,
   "metadata": {},
   "outputs": [],
   "source": [
    "# New approach using fasttext\n",
    "\n",
    "# Load pretrained model\n",
    "fasttext_model = ft.load_model('lid.176.bin')\n",
    "\n",
    "# Initiate empty language list\n",
    "language_list = []\n",
    "\n",
    "accuracy = 0.95\n",
    "for row in df_lang['text']:\n",
    "    row = row.replace(\"\\n\",\" \")                                     # replace \\n with \" \"\n",
    "    label = fasttext_model.predict(row, k=-1, threshold=accuracy)   # predict language per row with a certainty of at least 95%\n",
    "    language_list.append(label)                                     # append result to list"
   ]
  },
  {
   "cell_type": "code",
   "execution_count": null,
   "metadata": {},
   "outputs": [],
   "source": [
    "# Set language list as new column in dataframe\n",
    "\n",
    "language_df = pd.DataFrame(language_list, columns=['language', 'probability'])\n",
    "df_lang['language'] = language_df['language'].astype(str)\n",
    "df_lang['language'] = df_lang['language'].str.replace('label',\"\").str.replace(r\"[^a-zA-Z ]+\",\"\").str.strip();"
   ]
  },
  {
   "cell_type": "code",
   "execution_count": null,
   "metadata": {},
   "outputs": [],
   "source": [
    "# Convert iso639-1 codes to language names\n",
    "\n",
    "names = []\n",
    "for i in df_lang['language']:\n",
    "    try:\n",
    "        language_names = pycountry.languages.get(alpha_2=i).name\n",
    "    except:\n",
    "        language_names = None\n",
    "    names.append(language_names)"
   ]
  },
  {
   "cell_type": "code",
   "execution_count": null,
   "metadata": {},
   "outputs": [],
   "source": [
    "# Get final language column in dataframe\n",
    "\n",
    "names_df = pd.DataFrame(names, columns=['names'])\n",
    "df_lang['language'] = names_df['names']"
   ]
  },
  {
   "cell_type": "code",
   "execution_count": null,
   "metadata": {},
   "outputs": [],
   "source": [
    "# Generating the Results for the output\n",
    "\n",
    "uniq = df_lang['language']                      # Put the languages in a list\n",
    "uniq = list(filter((None).__ne__,uniq));        # Get rid of the None values\n",
    "uniq = set(uniq)                                # Convert to set to have the unique values\n",
    "\n",
    "en = names.count('English')                     # Count no. of 'English' in names\n",
    "\n",
    "most = max(set(names), key=names.count)         # Get the most occurring language in names\n",
    "\n",
    "whole = df_lang.shape[0]                        # Whole number of entries \n",
    "nones = sum(x is None for x in names)           # Number of nones\n",
    "fraction = round(((whole - nones)*100)/whole,2) # Percentage of classified languages"
   ]
  },
  {
   "cell_type": "code",
   "execution_count": null,
   "metadata": {},
   "outputs": [],
   "source": [
    "# Get unique values in language\n",
    "\n",
    "print(f\"In our Dataset we have a total of {df_lang['language'].nunique()} different languages,\")\n",
    "print(f\"classified with an accuracy of at least {accuracy}.\")\n",
    "print('---'*50)\n",
    "print(f\"These languages are (unsorted): \\n{uniq}\")\n",
    "print('---'*50)\n",
    "print(f\"The classified languages represent {fraction} % of the dataset\")\n",
    "print('---'*50)\n",
    "print(f\"The most occurring language is {most}, it occurred {en} times\")\n",
    "print('---'*50)\n",
    "print(f\"The algorithm was not able to classify {nones} reviews.\")"
   ]
  }
 ],
 "metadata": {
  "kernelspec": {
   "display_name": "Python 3.9.8 ('.venv': venv)",
   "language": "python",
   "name": "python3"
  },
  "language_info": {
   "codemirror_mode": {
    "name": "ipython",
    "version": 3
   },
   "file_extension": ".py",
   "mimetype": "text/x-python",
   "name": "python",
   "nbconvert_exporter": "python",
   "pygments_lexer": "ipython3",
   "version": "3.9.8"
  },
  "orig_nbformat": 4,
  "vscode": {
   "interpreter": {
    "hash": "a25c5467bd72a15a44db8f6702eef707e4b4c2171cfa5fa542b91e92dc8d903c"
   }
  }
 },
 "nbformat": 4,
 "nbformat_minor": 2
}
