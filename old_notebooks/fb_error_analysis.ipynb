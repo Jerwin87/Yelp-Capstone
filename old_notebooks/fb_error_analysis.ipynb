{
 "cells": [
  {
   "cell_type": "markdown",
   "metadata": {},
   "source": [
    "# ***Error Analysis***"
   ]
  },
  {
   "cell_type": "markdown",
   "metadata": {},
   "source": [
    "---\n",
    "---"
   ]
  },
  {
   "cell_type": "markdown",
   "metadata": {},
   "source": [
    "### ***Load necessary modules***"
   ]
  },
  {
   "cell_type": "code",
   "execution_count": 1,
   "metadata": {},
   "outputs": [],
   "source": [
    "import sys\n",
    "# adding to the path variables the one folder higher (locally, not changing system variables)\n",
    "sys.path.append(\"..\")\n",
    "\n",
    "# ignore the warnings\n",
    "import warnings\n",
    "warnings.filterwarnings(\"ignore\")\n",
    "\n",
    "import pandas as pd\n",
    "\n",
    "import matplotlib.pyplot as plt\n",
    "import seaborn as sns\n",
    "\n",
    "import tensorflow as tf\n",
    "from tensorflow.keras.models import Model, load_model\n",
    "\n",
    "import nltk\n",
    "from nltk.corpus import stopwords\n",
    "\n",
    "from sklearn.metrics import accuracy_score, precision_score, recall_score, f1_score, confusion_matrix, classification_report\n",
    "from mlxtend.plotting import plot_confusion_matrix\n",
    "\n",
    "from tqdm.auto import tqdm\n"
   ]
  },
  {
   "cell_type": "code",
   "execution_count": 2,
   "metadata": {},
   "outputs": [
    {
     "name": "stdout",
     "output_type": "stream",
     "text": [
      "2.9.2\n"
     ]
    }
   ],
   "source": [
    "print(tf.__version__)"
   ]
  },
  {
   "cell_type": "code",
   "execution_count": 3,
   "metadata": {},
   "outputs": [],
   "source": [
    "tqdm.pandas()"
   ]
  },
  {
   "cell_type": "markdown",
   "metadata": {},
   "source": [
    "---"
   ]
  },
  {
   "cell_type": "markdown",
   "metadata": {},
   "source": [
    "### ***Load model from Tensorflow***"
   ]
  },
  {
   "cell_type": "code",
   "execution_count": 4,
   "metadata": {},
   "outputs": [
    {
     "name": "stdout",
     "output_type": "stream",
     "text": [
      "Metal device set to: Apple M1\n",
      "\n",
      "systemMemory: 8.00 GB\n",
      "maxCacheSize: 2.67 GB\n",
      "\n"
     ]
    },
    {
     "name": "stderr",
     "output_type": "stream",
     "text": [
      "2022-09-08 08:43:42.971745: I tensorflow/core/common_runtime/pluggable_device/pluggable_device_factory.cc:305] Could not identify NUMA node of platform GPU ID 0, defaulting to 0. Your kernel may not have been built with NUMA support.\n",
      "2022-09-08 08:43:42.971982: I tensorflow/core/common_runtime/pluggable_device/pluggable_device_factory.cc:271] Created TensorFlow device (/job:localhost/replica:0/task:0/device:GPU:0 with 0 MB memory) -> physical PluggableDevice (device: 0, name: METAL, pci bus id: <undefined>)\n",
      "2022-09-08 08:44:00.488099: W tensorflow/core/platform/profile_utils/cpu_utils.cc:128] Failed to get CPU frequency: 0 Hz\n",
      "2022-09-08 08:44:00.492568: I tensorflow/core/grappler/optimizers/custom_graph_optimizer_registry.cc:113] Plugin optimizer for device_type GPU is enabled.\n",
      "2022-09-08 08:44:00.517809: I tensorflow/core/grappler/optimizers/custom_graph_optimizer_registry.cc:113] Plugin optimizer for device_type GPU is enabled.\n"
     ]
    }
   ],
   "source": [
    "model = load_model('../saved_model/model_extended_3_no_attention')"
   ]
  },
  {
   "cell_type": "markdown",
   "metadata": {},
   "source": [
    "---"
   ]
  },
  {
   "cell_type": "markdown",
   "metadata": {},
   "source": [
    "### ***Load reviews - 10 reviews per business***"
   ]
  },
  {
   "cell_type": "markdown",
   "metadata": {},
   "source": [
    "#### ***<u>Columbia Restaurant - Tampa, FL<u>***"
   ]
  },
  {
   "cell_type": "code",
   "execution_count": 5,
   "metadata": {},
   "outputs": [],
   "source": [
    "df_cr = pd.read_csv('../data/yelp_dataset/rev_cr_tampa_FL.csv')"
   ]
  },
  {
   "cell_type": "code",
   "execution_count": 7,
   "metadata": {},
   "outputs": [
    {
     "name": "stderr",
     "output_type": "stream",
     "text": [
      "2022-09-08 08:44:01.744031: I tensorflow/core/grappler/optimizers/custom_graph_optimizer_registry.cc:113] Plugin optimizer for device_type GPU is enabled.\n",
      "2022-09-08 08:44:01.980340: I tensorflow/core/grappler/optimizers/custom_graph_optimizer_registry.cc:113] Plugin optimizer for device_type GPU is enabled.\n",
      "2022-09-08 08:44:01.991762: I tensorflow/core/grappler/optimizers/custom_graph_optimizer_registry.cc:113] Plugin optimizer for device_type GPU is enabled.\n",
      "2022-09-08 08:44:02.524661: I tensorflow/core/grappler/optimizers/custom_graph_optimizer_registry.cc:113] Plugin optimizer for device_type GPU is enabled.\n",
      "2022-09-08 08:44:02.537014: I tensorflow/core/grappler/optimizers/custom_graph_optimizer_registry.cc:113] Plugin optimizer for device_type GPU is enabled.\n"
     ]
    },
    {
     "name": "stdout",
     "output_type": "stream",
     "text": [
      "1/1 [==============================] - 2s 2s/step\n"
     ]
    }
   ],
   "source": [
    "rev_pred = model.predict(df_cr)"
   ]
  },
  {
   "cell_type": "code",
   "execution_count": 8,
   "metadata": {},
   "outputs": [],
   "source": [
    "rev_pred = ['%.8f' % elem for elem in rev_pred]"
   ]
  },
  {
   "cell_type": "code",
   "execution_count": 9,
   "metadata": {},
   "outputs": [],
   "source": [
    "df_cr['probabilities'] = rev_pred"
   ]
  },
  {
   "cell_type": "code",
   "execution_count": 10,
   "metadata": {},
   "outputs": [
    {
     "data": {
      "text/html": [
       "<div>\n",
       "<style scoped>\n",
       "    .dataframe tbody tr th:only-of-type {\n",
       "        vertical-align: middle;\n",
       "    }\n",
       "\n",
       "    .dataframe tbody tr th {\n",
       "        vertical-align: top;\n",
       "    }\n",
       "\n",
       "    .dataframe thead th {\n",
       "        text-align: right;\n",
       "    }\n",
       "</style>\n",
       "<table border=\"1\" class=\"dataframe\">\n",
       "  <thead>\n",
       "    <tr style=\"text-align: right;\">\n",
       "      <th></th>\n",
       "      <th>text</th>\n",
       "      <th>probabilities</th>\n",
       "    </tr>\n",
       "  </thead>\n",
       "  <tbody>\n",
       "    <tr>\n",
       "      <th>0</th>\n",
       "      <td>The oldest restaurant in Florida Pretty cool o...</td>\n",
       "      <td>0.60758579</td>\n",
       "    </tr>\n",
       "    <tr>\n",
       "      <th>1</th>\n",
       "      <td>I was referred here by a friend that grew up i...</td>\n",
       "      <td>0.95792764</td>\n",
       "    </tr>\n",
       "    <tr>\n",
       "      <th>2</th>\n",
       "      <td>I found this business on Yelp while visiting Y...</td>\n",
       "      <td>0.53678352</td>\n",
       "    </tr>\n",
       "    <tr>\n",
       "      <th>3</th>\n",
       "      <td>Its like a bag of salt must have exploded in t...</td>\n",
       "      <td>0.94620663</td>\n",
       "    </tr>\n",
       "    <tr>\n",
       "      <th>4</th>\n",
       "      <td>Great spot for Columbian food Start you off wi...</td>\n",
       "      <td>0.03537406</td>\n",
       "    </tr>\n",
       "    <tr>\n",
       "      <th>5</th>\n",
       "      <td>Columbia in Ybor City is a place you HAVE to v...</td>\n",
       "      <td>0.02920926</td>\n",
       "    </tr>\n",
       "    <tr>\n",
       "      <th>6</th>\n",
       "      <td>We had a fabulous experience Alfonzo was secon...</td>\n",
       "      <td>0.08229074</td>\n",
       "    </tr>\n",
       "    <tr>\n",
       "      <th>7</th>\n",
       "      <td>Tons of different Spanish and Cuban dishes and...</td>\n",
       "      <td>0.03465856</td>\n",
       "    </tr>\n",
       "    <tr>\n",
       "      <th>8</th>\n",
       "      <td>One of the oldest restaurants in the area This...</td>\n",
       "      <td>0.64434236</td>\n",
       "    </tr>\n",
       "    <tr>\n",
       "      <th>9</th>\n",
       "      <td>Traditional Spanish dishes served with an old ...</td>\n",
       "      <td>0.03499111</td>\n",
       "    </tr>\n",
       "  </tbody>\n",
       "</table>\n",
       "</div>"
      ],
      "text/plain": [
       "                                                text probabilities\n",
       "0  The oldest restaurant in Florida Pretty cool o...    0.60758579\n",
       "1  I was referred here by a friend that grew up i...    0.95792764\n",
       "2  I found this business on Yelp while visiting Y...    0.53678352\n",
       "3  Its like a bag of salt must have exploded in t...    0.94620663\n",
       "4  Great spot for Columbian food Start you off wi...    0.03537406\n",
       "5  Columbia in Ybor City is a place you HAVE to v...    0.02920926\n",
       "6  We had a fabulous experience Alfonzo was secon...    0.08229074\n",
       "7  Tons of different Spanish and Cuban dishes and...    0.03465856\n",
       "8  One of the oldest restaurants in the area This...    0.64434236\n",
       "9  Traditional Spanish dishes served with an old ...    0.03499111"
      ]
     },
     "execution_count": 10,
     "metadata": {},
     "output_type": "execute_result"
    }
   ],
   "source": [
    "df_cr"
   ]
  },
  {
   "cell_type": "code",
   "execution_count": 11,
   "metadata": {},
   "outputs": [],
   "source": [
    "df_cr_new_sorting = df_cr.sort_values(by=['probabilities'], ascending=False)"
   ]
  },
  {
   "cell_type": "code",
   "execution_count": 12,
   "metadata": {},
   "outputs": [
    {
     "data": {
      "text/html": [
       "<div>\n",
       "<style scoped>\n",
       "    .dataframe tbody tr th:only-of-type {\n",
       "        vertical-align: middle;\n",
       "    }\n",
       "\n",
       "    .dataframe tbody tr th {\n",
       "        vertical-align: top;\n",
       "    }\n",
       "\n",
       "    .dataframe thead th {\n",
       "        text-align: right;\n",
       "    }\n",
       "</style>\n",
       "<table border=\"1\" class=\"dataframe\">\n",
       "  <thead>\n",
       "    <tr style=\"text-align: right;\">\n",
       "      <th></th>\n",
       "      <th>text</th>\n",
       "      <th>probabilities</th>\n",
       "    </tr>\n",
       "  </thead>\n",
       "  <tbody>\n",
       "    <tr>\n",
       "      <th>1</th>\n",
       "      <td>I was referred here by a friend that grew up i...</td>\n",
       "      <td>0.95792764</td>\n",
       "    </tr>\n",
       "    <tr>\n",
       "      <th>3</th>\n",
       "      <td>Its like a bag of salt must have exploded in t...</td>\n",
       "      <td>0.94620663</td>\n",
       "    </tr>\n",
       "    <tr>\n",
       "      <th>8</th>\n",
       "      <td>One of the oldest restaurants in the area This...</td>\n",
       "      <td>0.64434236</td>\n",
       "    </tr>\n",
       "    <tr>\n",
       "      <th>0</th>\n",
       "      <td>The oldest restaurant in Florida Pretty cool o...</td>\n",
       "      <td>0.60758579</td>\n",
       "    </tr>\n",
       "    <tr>\n",
       "      <th>2</th>\n",
       "      <td>I found this business on Yelp while visiting Y...</td>\n",
       "      <td>0.53678352</td>\n",
       "    </tr>\n",
       "    <tr>\n",
       "      <th>6</th>\n",
       "      <td>We had a fabulous experience Alfonzo was secon...</td>\n",
       "      <td>0.08229074</td>\n",
       "    </tr>\n",
       "    <tr>\n",
       "      <th>4</th>\n",
       "      <td>Great spot for Columbian food Start you off wi...</td>\n",
       "      <td>0.03537406</td>\n",
       "    </tr>\n",
       "    <tr>\n",
       "      <th>9</th>\n",
       "      <td>Traditional Spanish dishes served with an old ...</td>\n",
       "      <td>0.03499111</td>\n",
       "    </tr>\n",
       "    <tr>\n",
       "      <th>7</th>\n",
       "      <td>Tons of different Spanish and Cuban dishes and...</td>\n",
       "      <td>0.03465856</td>\n",
       "    </tr>\n",
       "    <tr>\n",
       "      <th>5</th>\n",
       "      <td>Columbia in Ybor City is a place you HAVE to v...</td>\n",
       "      <td>0.02920926</td>\n",
       "    </tr>\n",
       "  </tbody>\n",
       "</table>\n",
       "</div>"
      ],
      "text/plain": [
       "                                                text probabilities\n",
       "1  I was referred here by a friend that grew up i...    0.95792764\n",
       "3  Its like a bag of salt must have exploded in t...    0.94620663\n",
       "8  One of the oldest restaurants in the area This...    0.64434236\n",
       "0  The oldest restaurant in Florida Pretty cool o...    0.60758579\n",
       "2  I found this business on Yelp while visiting Y...    0.53678352\n",
       "6  We had a fabulous experience Alfonzo was secon...    0.08229074\n",
       "4  Great spot for Columbian food Start you off wi...    0.03537406\n",
       "9  Traditional Spanish dishes served with an old ...    0.03499111\n",
       "7  Tons of different Spanish and Cuban dishes and...    0.03465856\n",
       "5  Columbia in Ybor City is a place you HAVE to v...    0.02920926"
      ]
     },
     "execution_count": 12,
     "metadata": {},
     "output_type": "execute_result"
    }
   ],
   "source": [
    "df_cr_new_sorting"
   ]
  },
  {
   "cell_type": "markdown",
   "metadata": {},
   "source": [
    "---\n",
    "---"
   ]
  },
  {
   "cell_type": "markdown",
   "metadata": {},
   "source": [
    "#### ***<u>Antoines Restaurant - New Orleans, LA <u>***"
   ]
  },
  {
   "cell_type": "code",
   "execution_count": 13,
   "metadata": {},
   "outputs": [],
   "source": [
    "df_ar = pd.read_csv('../data/yelp_dataset/rev_ar_new_orleans_LA.csv')"
   ]
  },
  {
   "cell_type": "code",
   "execution_count": 15,
   "metadata": {},
   "outputs": [
    {
     "name": "stdout",
     "output_type": "stream",
     "text": [
      "1/1 [==============================] - 0s 112ms/step\n"
     ]
    }
   ],
   "source": [
    "rev_pred = model.predict(df_ar)"
   ]
  },
  {
   "cell_type": "code",
   "execution_count": 16,
   "metadata": {},
   "outputs": [],
   "source": [
    "rev_pred = ['%.8f' % elem for elem in rev_pred]"
   ]
  },
  {
   "cell_type": "code",
   "execution_count": 17,
   "metadata": {},
   "outputs": [],
   "source": [
    "df_ar['probabilities'] = rev_pred"
   ]
  },
  {
   "cell_type": "code",
   "execution_count": 18,
   "metadata": {},
   "outputs": [
    {
     "data": {
      "text/html": [
       "<div>\n",
       "<style scoped>\n",
       "    .dataframe tbody tr th:only-of-type {\n",
       "        vertical-align: middle;\n",
       "    }\n",
       "\n",
       "    .dataframe tbody tr th {\n",
       "        vertical-align: top;\n",
       "    }\n",
       "\n",
       "    .dataframe thead th {\n",
       "        text-align: right;\n",
       "    }\n",
       "</style>\n",
       "<table border=\"1\" class=\"dataframe\">\n",
       "  <thead>\n",
       "    <tr style=\"text-align: right;\">\n",
       "      <th></th>\n",
       "      <th>text</th>\n",
       "      <th>probabilities</th>\n",
       "    </tr>\n",
       "  </thead>\n",
       "  <tbody>\n",
       "    <tr>\n",
       "      <th>0</th>\n",
       "      <td>Very excellent service and food as we picked t...</td>\n",
       "      <td>0.57471669</td>\n",
       "    </tr>\n",
       "    <tr>\n",
       "      <th>1</th>\n",
       "      <td>oysters rockefeller 010 ummthis was atrocious ...</td>\n",
       "      <td>0.89316297</td>\n",
       "    </tr>\n",
       "    <tr>\n",
       "      <th>2</th>\n",
       "      <td>Ive seen some rave reviews for Antoines and wa...</td>\n",
       "      <td>0.95719856</td>\n",
       "    </tr>\n",
       "    <tr>\n",
       "      <th>3</th>\n",
       "      <td>Came on dress casual with open toed sandals an...</td>\n",
       "      <td>0.03431005</td>\n",
       "    </tr>\n",
       "    <tr>\n",
       "      <th>4</th>\n",
       "      <td>My favorite spot in the French Quarter for wha...</td>\n",
       "      <td>0.03400181</td>\n",
       "    </tr>\n",
       "    <tr>\n",
       "      <th>5</th>\n",
       "      <td>What amazing sorcery this place is Spent a bea...</td>\n",
       "      <td>0.95880413</td>\n",
       "    </tr>\n",
       "    <tr>\n",
       "      <th>6</th>\n",
       "      <td>We came during the Coolinary New Orleans event...</td>\n",
       "      <td>0.06676169</td>\n",
       "    </tr>\n",
       "    <tr>\n",
       "      <th>7</th>\n",
       "      <td>Antoines was definitely an experience Service ...</td>\n",
       "      <td>0.95723891</td>\n",
       "    </tr>\n",
       "    <tr>\n",
       "      <th>8</th>\n",
       "      <td>Perfect restaurant and bar scene to visit in t...</td>\n",
       "      <td>0.03575343</td>\n",
       "    </tr>\n",
       "    <tr>\n",
       "      <th>9</th>\n",
       "      <td>Walking towards the restaurant you begin to ob...</td>\n",
       "      <td>0.93794000</td>\n",
       "    </tr>\n",
       "  </tbody>\n",
       "</table>\n",
       "</div>"
      ],
      "text/plain": [
       "                                                text probabilities\n",
       "0  Very excellent service and food as we picked t...    0.57471669\n",
       "1  oysters rockefeller 010 ummthis was atrocious ...    0.89316297\n",
       "2  Ive seen some rave reviews for Antoines and wa...    0.95719856\n",
       "3  Came on dress casual with open toed sandals an...    0.03431005\n",
       "4  My favorite spot in the French Quarter for wha...    0.03400181\n",
       "5  What amazing sorcery this place is Spent a bea...    0.95880413\n",
       "6  We came during the Coolinary New Orleans event...    0.06676169\n",
       "7  Antoines was definitely an experience Service ...    0.95723891\n",
       "8  Perfect restaurant and bar scene to visit in t...    0.03575343\n",
       "9  Walking towards the restaurant you begin to ob...    0.93794000"
      ]
     },
     "execution_count": 18,
     "metadata": {},
     "output_type": "execute_result"
    }
   ],
   "source": [
    "df_ar"
   ]
  },
  {
   "cell_type": "code",
   "execution_count": 19,
   "metadata": {},
   "outputs": [],
   "source": [
    "df_ar_new_sorting = df_ar.sort_values(by=['probabilities'], ascending=False)"
   ]
  },
  {
   "cell_type": "code",
   "execution_count": 20,
   "metadata": {},
   "outputs": [
    {
     "data": {
      "text/html": [
       "<div>\n",
       "<style scoped>\n",
       "    .dataframe tbody tr th:only-of-type {\n",
       "        vertical-align: middle;\n",
       "    }\n",
       "\n",
       "    .dataframe tbody tr th {\n",
       "        vertical-align: top;\n",
       "    }\n",
       "\n",
       "    .dataframe thead th {\n",
       "        text-align: right;\n",
       "    }\n",
       "</style>\n",
       "<table border=\"1\" class=\"dataframe\">\n",
       "  <thead>\n",
       "    <tr style=\"text-align: right;\">\n",
       "      <th></th>\n",
       "      <th>text</th>\n",
       "      <th>probabilities</th>\n",
       "    </tr>\n",
       "  </thead>\n",
       "  <tbody>\n",
       "    <tr>\n",
       "      <th>5</th>\n",
       "      <td>What amazing sorcery this place is Spent a bea...</td>\n",
       "      <td>0.95880413</td>\n",
       "    </tr>\n",
       "    <tr>\n",
       "      <th>7</th>\n",
       "      <td>Antoines was definitely an experience Service ...</td>\n",
       "      <td>0.95723891</td>\n",
       "    </tr>\n",
       "    <tr>\n",
       "      <th>2</th>\n",
       "      <td>Ive seen some rave reviews for Antoines and wa...</td>\n",
       "      <td>0.95719856</td>\n",
       "    </tr>\n",
       "    <tr>\n",
       "      <th>9</th>\n",
       "      <td>Walking towards the restaurant you begin to ob...</td>\n",
       "      <td>0.93794000</td>\n",
       "    </tr>\n",
       "    <tr>\n",
       "      <th>1</th>\n",
       "      <td>oysters rockefeller 010 ummthis was atrocious ...</td>\n",
       "      <td>0.89316297</td>\n",
       "    </tr>\n",
       "    <tr>\n",
       "      <th>0</th>\n",
       "      <td>Very excellent service and food as we picked t...</td>\n",
       "      <td>0.57471669</td>\n",
       "    </tr>\n",
       "    <tr>\n",
       "      <th>6</th>\n",
       "      <td>We came during the Coolinary New Orleans event...</td>\n",
       "      <td>0.06676169</td>\n",
       "    </tr>\n",
       "    <tr>\n",
       "      <th>8</th>\n",
       "      <td>Perfect restaurant and bar scene to visit in t...</td>\n",
       "      <td>0.03575343</td>\n",
       "    </tr>\n",
       "    <tr>\n",
       "      <th>3</th>\n",
       "      <td>Came on dress casual with open toed sandals an...</td>\n",
       "      <td>0.03431005</td>\n",
       "    </tr>\n",
       "    <tr>\n",
       "      <th>4</th>\n",
       "      <td>My favorite spot in the French Quarter for wha...</td>\n",
       "      <td>0.03400181</td>\n",
       "    </tr>\n",
       "  </tbody>\n",
       "</table>\n",
       "</div>"
      ],
      "text/plain": [
       "                                                text probabilities\n",
       "5  What amazing sorcery this place is Spent a bea...    0.95880413\n",
       "7  Antoines was definitely an experience Service ...    0.95723891\n",
       "2  Ive seen some rave reviews for Antoines and wa...    0.95719856\n",
       "9  Walking towards the restaurant you begin to ob...    0.93794000\n",
       "1  oysters rockefeller 010 ummthis was atrocious ...    0.89316297\n",
       "0  Very excellent service and food as we picked t...    0.57471669\n",
       "6  We came during the Coolinary New Orleans event...    0.06676169\n",
       "8  Perfect restaurant and bar scene to visit in t...    0.03575343\n",
       "3  Came on dress casual with open toed sandals an...    0.03431005\n",
       "4  My favorite spot in the French Quarter for wha...    0.03400181"
      ]
     },
     "execution_count": 20,
     "metadata": {},
     "output_type": "execute_result"
    }
   ],
   "source": [
    "df_ar_new_sorting"
   ]
  },
  {
   "cell_type": "markdown",
   "metadata": {},
   "source": [
    "---\n",
    "---"
   ]
  },
  {
   "cell_type": "markdown",
   "metadata": {},
   "source": [
    "#### ***<u>Bodega - Saint Petersburg, FL<u>***"
   ]
  },
  {
   "cell_type": "code",
   "execution_count": 21,
   "metadata": {},
   "outputs": [],
   "source": [
    "df_b = pd.read_csv('../data/yelp_dataset/rev_b_saint_peter_FL.csv')"
   ]
  },
  {
   "cell_type": "code",
   "execution_count": 23,
   "metadata": {},
   "outputs": [
    {
     "name": "stdout",
     "output_type": "stream",
     "text": [
      "1/1 [==============================] - 0s 108ms/step\n"
     ]
    }
   ],
   "source": [
    "rev_pred = model.predict(df_b)"
   ]
  },
  {
   "cell_type": "code",
   "execution_count": 24,
   "metadata": {},
   "outputs": [],
   "source": [
    "rev_pred = ['%.8f' % elem for elem in rev_pred]"
   ]
  },
  {
   "cell_type": "code",
   "execution_count": 25,
   "metadata": {},
   "outputs": [],
   "source": [
    "df_b['probabilities'] = rev_pred"
   ]
  },
  {
   "cell_type": "code",
   "execution_count": 26,
   "metadata": {},
   "outputs": [
    {
     "data": {
      "text/html": [
       "<div>\n",
       "<style scoped>\n",
       "    .dataframe tbody tr th:only-of-type {\n",
       "        vertical-align: middle;\n",
       "    }\n",
       "\n",
       "    .dataframe tbody tr th {\n",
       "        vertical-align: top;\n",
       "    }\n",
       "\n",
       "    .dataframe thead th {\n",
       "        text-align: right;\n",
       "    }\n",
       "</style>\n",
       "<table border=\"1\" class=\"dataframe\">\n",
       "  <thead>\n",
       "    <tr style=\"text-align: right;\">\n",
       "      <th></th>\n",
       "      <th>text</th>\n",
       "      <th>probabilities</th>\n",
       "    </tr>\n",
       "  </thead>\n",
       "  <tbody>\n",
       "    <tr>\n",
       "      <th>0</th>\n",
       "      <td>5 stars for the food Great portions for an awe...</td>\n",
       "      <td>0.62616038</td>\n",
       "    </tr>\n",
       "    <tr>\n",
       "      <th>1</th>\n",
       "      <td>Sometimes its best to have a great memory of a...</td>\n",
       "      <td>0.95051062</td>\n",
       "    </tr>\n",
       "    <tr>\n",
       "      <th>2</th>\n",
       "      <td>Definitely recommend the sandwich here Thought...</td>\n",
       "      <td>0.59885108</td>\n",
       "    </tr>\n",
       "    <tr>\n",
       "      <th>3</th>\n",
       "      <td>I have not been back to Bodega for years move ...</td>\n",
       "      <td>0.04762971</td>\n",
       "    </tr>\n",
       "    <tr>\n",
       "      <th>4</th>\n",
       "      <td>Super disappointed the last two times Ive visi...</td>\n",
       "      <td>0.03580257</td>\n",
       "    </tr>\n",
       "    <tr>\n",
       "      <th>5</th>\n",
       "      <td>I am visiting Saint Pete for a birthday trip a...</td>\n",
       "      <td>0.94648218</td>\n",
       "    </tr>\n",
       "    <tr>\n",
       "      <th>6</th>\n",
       "      <td>Bodega is a great spot that can serve a variet...</td>\n",
       "      <td>0.96365166</td>\n",
       "    </tr>\n",
       "    <tr>\n",
       "      <th>7</th>\n",
       "      <td>First time there Food and service were okay St...</td>\n",
       "      <td>0.05714001</td>\n",
       "    </tr>\n",
       "    <tr>\n",
       "      <th>8</th>\n",
       "      <td>This was one of the best Cubans Ive ever had I...</td>\n",
       "      <td>0.60869014</td>\n",
       "    </tr>\n",
       "    <tr>\n",
       "      <th>9</th>\n",
       "      <td>I love the walkup window to order and then goi...</td>\n",
       "      <td>0.60852116</td>\n",
       "    </tr>\n",
       "  </tbody>\n",
       "</table>\n",
       "</div>"
      ],
      "text/plain": [
       "                                                text probabilities\n",
       "0  5 stars for the food Great portions for an awe...    0.62616038\n",
       "1  Sometimes its best to have a great memory of a...    0.95051062\n",
       "2  Definitely recommend the sandwich here Thought...    0.59885108\n",
       "3  I have not been back to Bodega for years move ...    0.04762971\n",
       "4  Super disappointed the last two times Ive visi...    0.03580257\n",
       "5  I am visiting Saint Pete for a birthday trip a...    0.94648218\n",
       "6  Bodega is a great spot that can serve a variet...    0.96365166\n",
       "7  First time there Food and service were okay St...    0.05714001\n",
       "8  This was one of the best Cubans Ive ever had I...    0.60869014\n",
       "9  I love the walkup window to order and then goi...    0.60852116"
      ]
     },
     "execution_count": 26,
     "metadata": {},
     "output_type": "execute_result"
    }
   ],
   "source": [
    "df_b"
   ]
  },
  {
   "cell_type": "code",
   "execution_count": 27,
   "metadata": {},
   "outputs": [],
   "source": [
    "df_b_new_sorting = df_b.sort_values(by=['probabilities'], ascending=False)"
   ]
  },
  {
   "cell_type": "code",
   "execution_count": 28,
   "metadata": {},
   "outputs": [
    {
     "data": {
      "text/html": [
       "<div>\n",
       "<style scoped>\n",
       "    .dataframe tbody tr th:only-of-type {\n",
       "        vertical-align: middle;\n",
       "    }\n",
       "\n",
       "    .dataframe tbody tr th {\n",
       "        vertical-align: top;\n",
       "    }\n",
       "\n",
       "    .dataframe thead th {\n",
       "        text-align: right;\n",
       "    }\n",
       "</style>\n",
       "<table border=\"1\" class=\"dataframe\">\n",
       "  <thead>\n",
       "    <tr style=\"text-align: right;\">\n",
       "      <th></th>\n",
       "      <th>text</th>\n",
       "      <th>probabilities</th>\n",
       "    </tr>\n",
       "  </thead>\n",
       "  <tbody>\n",
       "    <tr>\n",
       "      <th>6</th>\n",
       "      <td>Bodega is a great spot that can serve a variet...</td>\n",
       "      <td>0.96365166</td>\n",
       "    </tr>\n",
       "    <tr>\n",
       "      <th>1</th>\n",
       "      <td>Sometimes its best to have a great memory of a...</td>\n",
       "      <td>0.95051062</td>\n",
       "    </tr>\n",
       "    <tr>\n",
       "      <th>5</th>\n",
       "      <td>I am visiting Saint Pete for a birthday trip a...</td>\n",
       "      <td>0.94648218</td>\n",
       "    </tr>\n",
       "    <tr>\n",
       "      <th>0</th>\n",
       "      <td>5 stars for the food Great portions for an awe...</td>\n",
       "      <td>0.62616038</td>\n",
       "    </tr>\n",
       "    <tr>\n",
       "      <th>8</th>\n",
       "      <td>This was one of the best Cubans Ive ever had I...</td>\n",
       "      <td>0.60869014</td>\n",
       "    </tr>\n",
       "    <tr>\n",
       "      <th>9</th>\n",
       "      <td>I love the walkup window to order and then goi...</td>\n",
       "      <td>0.60852116</td>\n",
       "    </tr>\n",
       "    <tr>\n",
       "      <th>2</th>\n",
       "      <td>Definitely recommend the sandwich here Thought...</td>\n",
       "      <td>0.59885108</td>\n",
       "    </tr>\n",
       "    <tr>\n",
       "      <th>7</th>\n",
       "      <td>First time there Food and service were okay St...</td>\n",
       "      <td>0.05714001</td>\n",
       "    </tr>\n",
       "    <tr>\n",
       "      <th>3</th>\n",
       "      <td>I have not been back to Bodega for years move ...</td>\n",
       "      <td>0.04762971</td>\n",
       "    </tr>\n",
       "    <tr>\n",
       "      <th>4</th>\n",
       "      <td>Super disappointed the last two times Ive visi...</td>\n",
       "      <td>0.03580257</td>\n",
       "    </tr>\n",
       "  </tbody>\n",
       "</table>\n",
       "</div>"
      ],
      "text/plain": [
       "                                                text probabilities\n",
       "6  Bodega is a great spot that can serve a variet...    0.96365166\n",
       "1  Sometimes its best to have a great memory of a...    0.95051062\n",
       "5  I am visiting Saint Pete for a birthday trip a...    0.94648218\n",
       "0  5 stars for the food Great portions for an awe...    0.62616038\n",
       "8  This was one of the best Cubans Ive ever had I...    0.60869014\n",
       "9  I love the walkup window to order and then goi...    0.60852116\n",
       "2  Definitely recommend the sandwich here Thought...    0.59885108\n",
       "7  First time there Food and service were okay St...    0.05714001\n",
       "3  I have not been back to Bodega for years move ...    0.04762971\n",
       "4  Super disappointed the last two times Ive visi...    0.03580257"
      ]
     },
     "execution_count": 28,
     "metadata": {},
     "output_type": "execute_result"
    }
   ],
   "source": [
    "df_b_new_sorting"
   ]
  },
  {
   "cell_type": "markdown",
   "metadata": {},
   "source": [
    "---\n",
    "---"
   ]
  },
  {
   "cell_type": "code",
   "execution_count": 29,
   "metadata": {},
   "outputs": [],
   "source": [
    "df_test = pd.DataFrame([\"Great breakfast joint! Seasoned and hearty sized dishes at reasonable prices. One of my favorite places to recommend for people visiting from out of town the only negative is the long wait to get in. They have a great menu selection so you'll definetly find something g you enjoy.\"])"
   ]
  },
  {
   "cell_type": "code",
   "execution_count": 30,
   "metadata": {},
   "outputs": [
    {
     "name": "stdout",
     "output_type": "stream",
     "text": [
      "1/1 [==============================] - 1s 868ms/step\n"
     ]
    }
   ],
   "source": [
    "rev_pred = model.predict(df_test)"
   ]
  },
  {
   "cell_type": "code",
   "execution_count": 31,
   "metadata": {},
   "outputs": [],
   "source": [
    "rev_pred = ['%.8f' % elem for elem in rev_pred]"
   ]
  },
  {
   "cell_type": "code",
   "execution_count": 32,
   "metadata": {},
   "outputs": [
    {
     "data": {
      "text/plain": [
       "['0.03578636']"
      ]
     },
     "execution_count": 32,
     "metadata": {},
     "output_type": "execute_result"
    }
   ],
   "source": [
    "rev_pred"
   ]
  },
  {
   "cell_type": "markdown",
   "metadata": {},
   "source": [
    "---\n",
    "---"
   ]
  },
  {
   "cell_type": "markdown",
   "metadata": {},
   "source": [
    "#### ***<u>Dott Boss - Kansas City, MO<u>***"
   ]
  },
  {
   "cell_type": "code",
   "execution_count": 34,
   "metadata": {},
   "outputs": [],
   "source": [
    "df_db = pd.read_csv('../data/yelp_dataset/rev_db_kansas_city_MO.csv')"
   ]
  },
  {
   "cell_type": "code",
   "execution_count": 35,
   "metadata": {},
   "outputs": [
    {
     "name": "stdout",
     "output_type": "stream",
     "text": [
      "1/1 [==============================] - 1s 837ms/step\n"
     ]
    }
   ],
   "source": [
    "rev_pred = model.predict(df_db)"
   ]
  },
  {
   "cell_type": "code",
   "execution_count": 36,
   "metadata": {},
   "outputs": [],
   "source": [
    "rev_pred = ['%.8f' % elem for elem in rev_pred]"
   ]
  },
  {
   "cell_type": "code",
   "execution_count": 37,
   "metadata": {},
   "outputs": [],
   "source": [
    "df_db['probabilities'] = rev_pred"
   ]
  },
  {
   "cell_type": "code",
   "execution_count": 38,
   "metadata": {},
   "outputs": [
    {
     "data": {
      "text/html": [
       "<div>\n",
       "<style scoped>\n",
       "    .dataframe tbody tr th:only-of-type {\n",
       "        vertical-align: middle;\n",
       "    }\n",
       "\n",
       "    .dataframe tbody tr th {\n",
       "        vertical-align: top;\n",
       "    }\n",
       "\n",
       "    .dataframe thead th {\n",
       "        text-align: right;\n",
       "    }\n",
       "</style>\n",
       "<table border=\"1\" class=\"dataframe\">\n",
       "  <thead>\n",
       "    <tr style=\"text-align: right;\">\n",
       "      <th></th>\n",
       "      <th>text</th>\n",
       "      <th>probabilities</th>\n",
       "    </tr>\n",
       "  </thead>\n",
       "  <tbody>\n",
       "    <tr>\n",
       "      <th>0</th>\n",
       "      <td>I had a chance to taste a potential new menu-a...</td>\n",
       "      <td>0.03658012</td>\n",
       "    </tr>\n",
       "    <tr>\n",
       "      <th>1</th>\n",
       "      <td>Very friendly staff and conveniently located i...</td>\n",
       "      <td>0.03575404</td>\n",
       "    </tr>\n",
       "    <tr>\n",
       "      <th>2</th>\n",
       "      <td>The service and food here were great. The bar ...</td>\n",
       "      <td>0.03522667</td>\n",
       "    </tr>\n",
       "    <tr>\n",
       "      <th>3</th>\n",
       "      <td>My buddy bartends here so I've come in a coupl...</td>\n",
       "      <td>0.03569889</td>\n",
       "    </tr>\n",
       "    <tr>\n",
       "      <th>4</th>\n",
       "      <td>Called this restaurant ahead of arrival on a S...</td>\n",
       "      <td>0.95596761</td>\n",
       "    </tr>\n",
       "    <tr>\n",
       "      <th>5</th>\n",
       "      <td>Never open!  Closed most of the time. Not wort...</td>\n",
       "      <td>0.03552465</td>\n",
       "    </tr>\n",
       "    <tr>\n",
       "      <th>6</th>\n",
       "      <td>An incredibly pleasant surprise ending to a gr...</td>\n",
       "      <td>0.02943257</td>\n",
       "    </tr>\n",
       "    <tr>\n",
       "      <th>7</th>\n",
       "      <td>We dined at Dot Boss on the recommendation of ...</td>\n",
       "      <td>0.60105711</td>\n",
       "    </tr>\n",
       "    <tr>\n",
       "      <th>8</th>\n",
       "      <td>Hands down some of the best breakfast tacos I'...</td>\n",
       "      <td>0.03431804</td>\n",
       "    </tr>\n",
       "    <tr>\n",
       "      <th>9</th>\n",
       "      <td>I'm a BIG breakfast person and you've really g...</td>\n",
       "      <td>0.95552135</td>\n",
       "    </tr>\n",
       "  </tbody>\n",
       "</table>\n",
       "</div>"
      ],
      "text/plain": [
       "                                                text probabilities\n",
       "0  I had a chance to taste a potential new menu-a...    0.03658012\n",
       "1  Very friendly staff and conveniently located i...    0.03575404\n",
       "2  The service and food here were great. The bar ...    0.03522667\n",
       "3  My buddy bartends here so I've come in a coupl...    0.03569889\n",
       "4  Called this restaurant ahead of arrival on a S...    0.95596761\n",
       "5  Never open!  Closed most of the time. Not wort...    0.03552465\n",
       "6  An incredibly pleasant surprise ending to a gr...    0.02943257\n",
       "7  We dined at Dot Boss on the recommendation of ...    0.60105711\n",
       "8  Hands down some of the best breakfast tacos I'...    0.03431804\n",
       "9  I'm a BIG breakfast person and you've really g...    0.95552135"
      ]
     },
     "execution_count": 38,
     "metadata": {},
     "output_type": "execute_result"
    }
   ],
   "source": [
    "df_db"
   ]
  },
  {
   "cell_type": "code",
   "execution_count": 39,
   "metadata": {},
   "outputs": [],
   "source": [
    "df_db_new_sorting = df_db.sort_values(by=['probabilities'], ascending=False)"
   ]
  },
  {
   "cell_type": "code",
   "execution_count": 40,
   "metadata": {},
   "outputs": [
    {
     "data": {
      "text/html": [
       "<div>\n",
       "<style scoped>\n",
       "    .dataframe tbody tr th:only-of-type {\n",
       "        vertical-align: middle;\n",
       "    }\n",
       "\n",
       "    .dataframe tbody tr th {\n",
       "        vertical-align: top;\n",
       "    }\n",
       "\n",
       "    .dataframe thead th {\n",
       "        text-align: right;\n",
       "    }\n",
       "</style>\n",
       "<table border=\"1\" class=\"dataframe\">\n",
       "  <thead>\n",
       "    <tr style=\"text-align: right;\">\n",
       "      <th></th>\n",
       "      <th>text</th>\n",
       "      <th>probabilities</th>\n",
       "    </tr>\n",
       "  </thead>\n",
       "  <tbody>\n",
       "    <tr>\n",
       "      <th>4</th>\n",
       "      <td>Called this restaurant ahead of arrival on a S...</td>\n",
       "      <td>0.95596761</td>\n",
       "    </tr>\n",
       "    <tr>\n",
       "      <th>9</th>\n",
       "      <td>I'm a BIG breakfast person and you've really g...</td>\n",
       "      <td>0.95552135</td>\n",
       "    </tr>\n",
       "    <tr>\n",
       "      <th>7</th>\n",
       "      <td>We dined at Dot Boss on the recommendation of ...</td>\n",
       "      <td>0.60105711</td>\n",
       "    </tr>\n",
       "    <tr>\n",
       "      <th>0</th>\n",
       "      <td>I had a chance to taste a potential new menu-a...</td>\n",
       "      <td>0.03658012</td>\n",
       "    </tr>\n",
       "    <tr>\n",
       "      <th>1</th>\n",
       "      <td>Very friendly staff and conveniently located i...</td>\n",
       "      <td>0.03575404</td>\n",
       "    </tr>\n",
       "    <tr>\n",
       "      <th>3</th>\n",
       "      <td>My buddy bartends here so I've come in a coupl...</td>\n",
       "      <td>0.03569889</td>\n",
       "    </tr>\n",
       "    <tr>\n",
       "      <th>5</th>\n",
       "      <td>Never open!  Closed most of the time. Not wort...</td>\n",
       "      <td>0.03552465</td>\n",
       "    </tr>\n",
       "    <tr>\n",
       "      <th>2</th>\n",
       "      <td>The service and food here were great. The bar ...</td>\n",
       "      <td>0.03522667</td>\n",
       "    </tr>\n",
       "    <tr>\n",
       "      <th>8</th>\n",
       "      <td>Hands down some of the best breakfast tacos I'...</td>\n",
       "      <td>0.03431804</td>\n",
       "    </tr>\n",
       "    <tr>\n",
       "      <th>6</th>\n",
       "      <td>An incredibly pleasant surprise ending to a gr...</td>\n",
       "      <td>0.02943257</td>\n",
       "    </tr>\n",
       "  </tbody>\n",
       "</table>\n",
       "</div>"
      ],
      "text/plain": [
       "                                                text probabilities\n",
       "4  Called this restaurant ahead of arrival on a S...    0.95596761\n",
       "9  I'm a BIG breakfast person and you've really g...    0.95552135\n",
       "7  We dined at Dot Boss on the recommendation of ...    0.60105711\n",
       "0  I had a chance to taste a potential new menu-a...    0.03658012\n",
       "1  Very friendly staff and conveniently located i...    0.03575404\n",
       "3  My buddy bartends here so I've come in a coupl...    0.03569889\n",
       "5  Never open!  Closed most of the time. Not wort...    0.03552465\n",
       "2  The service and food here were great. The bar ...    0.03522667\n",
       "8  Hands down some of the best breakfast tacos I'...    0.03431804\n",
       "6  An incredibly pleasant surprise ending to a gr...    0.02943257"
      ]
     },
     "execution_count": 40,
     "metadata": {},
     "output_type": "execute_result"
    }
   ],
   "source": [
    "df_db_new_sorting"
   ]
  }
 ],
 "metadata": {
  "kernelspec": {
   "display_name": "Python 3.9.8 ('.venv': venv)",
   "language": "python",
   "name": "python3"
  },
  "language_info": {
   "codemirror_mode": {
    "name": "ipython",
    "version": 3
   },
   "file_extension": ".py",
   "mimetype": "text/x-python",
   "name": "python",
   "nbconvert_exporter": "python",
   "pygments_lexer": "ipython3",
   "version": "3.9.8"
  },
  "orig_nbformat": 4,
  "vscode": {
   "interpreter": {
    "hash": "8ce5e151fb00091df5b1b9e0901c9540dd87c25621af86a4204e4865fde1e8b1"
   }
  }
 },
 "nbformat": 4,
 "nbformat_minor": 2
}
