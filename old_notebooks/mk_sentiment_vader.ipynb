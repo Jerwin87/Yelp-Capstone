{
 "cells": [
  {
   "cell_type": "code",
   "execution_count": null,
   "metadata": {},
   "outputs": [],
   "source": [
    "from vaderSentiment.vaderSentiment import SentimentIntensityAnalyzer\n",
    "import pandas as pd\n",
    "from nltk.tokenize import sent_tokenize"
   ]
  },
  {
   "cell_type": "code",
   "execution_count": null,
   "metadata": {},
   "outputs": [],
   "source": [
    "# import CSV\n",
    "df = pd.read_csv('../data/yelp_dataset/review_1819.csv')"
   ]
  },
  {
   "cell_type": "code",
   "execution_count": null,
   "metadata": {},
   "outputs": [],
   "source": [
    "# instantiate Vader analyzer\n",
    "sia = SentimentIntensityAnalyzer()"
   ]
  },
  {
   "cell_type": "code",
   "execution_count": null,
   "metadata": {},
   "outputs": [],
   "source": [
    "# classification for 20 first items\n",
    "print(\"stars\\tneg\\tneu\\tpos\\tcompound\")\n",
    "for i in range(20):\n",
    "    text = df.iloc[i].text\n",
    "    stars = df.iloc[i].stars\n",
    "    sent_dict = sia.polarity_scores(text)\n",
    "    # print(sent_dict, stars, text)\n",
    "    print(f\"{stars}\\t{sent_dict['neg']}\\t{sent_dict['neu']}\\t{sent_dict['pos']}\\t{sent_dict['compound']}\")\n"
   ]
  },
  {
   "cell_type": "code",
   "execution_count": null,
   "metadata": {},
   "outputs": [],
   "source": [
    "# classification for 20 first items; also for each sentence separately\n",
    "print(\"\\tneg\\tneu\\tpos\\tcompound\")\n",
    "for i in range(20):\n",
    "    text = df.iloc[i].text\n",
    "    stars = df.iloc[i].stars\n",
    "    text_dict = sia.polarity_scores(text)\n",
    "    # print(text_dict, stars, text)\n",
    "    print(f\"{stars}\\t{text_dict['neg']}\\t{text_dict['neu']}\\t{text_dict['pos']}\\t{text_dict['compound']}\")\n",
    "    for s_idx, s in enumerate(sent_tokenize(text)):\n",
    "        # print(f\"\\t{s}\")\n",
    "        sent_dict = sia.polarity_scores(s)\n",
    "        if sent_dict['neu'] != 1.0:\n",
    "            print(f\"(s{s_idx})\\t{sent_dict['neg']}\\t{sent_dict['neu']}\\t{sent_dict['pos']}\\t{sent_dict['compound']}\\t{s}\")"
   ]
  },
  {
   "cell_type": "code",
   "execution_count": null,
   "metadata": {},
   "outputs": [],
   "source": []
  }
 ],
 "metadata": {
  "kernelspec": {
   "display_name": "Python 3.9.8 ('.venv': venv)",
   "language": "python",
   "name": "python3"
  },
  "language_info": {
   "codemirror_mode": {
    "name": "ipython",
    "version": 3
   },
   "file_extension": ".py",
   "mimetype": "text/x-python",
   "name": "python",
   "nbconvert_exporter": "python",
   "pygments_lexer": "ipython3",
   "version": "3.9.8"
  },
  "metadata": {
   "interpreter": {
    "hash": "aee8b7b246df8f9039afb4144a1f6fd8d2ca17a180786b69acc140d282b71a49"
   }
  },
  "vscode": {
   "interpreter": {
    "hash": "2b1df77f38ddc0e9cd99154923c4962065f4473621571c66cacae5d8388dd82d"
   }
  }
 },
 "nbformat": 4,
 "nbformat_minor": 4
}
