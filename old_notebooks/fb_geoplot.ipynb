{
 "cells": [
  {
   "cell_type": "markdown",
   "metadata": {},
   "source": [
    "# ***Geoplot***"
   ]
  },
  {
   "cell_type": "markdown",
   "metadata": {},
   "source": [
    "### ***Dataset :*** <u>***business.csv***<u>"
   ]
  },
  {
   "cell_type": "markdown",
   "metadata": {},
   "source": [
    "***Import necessary python modules***"
   ]
  },
  {
   "cell_type": "code",
   "execution_count": null,
   "metadata": {},
   "outputs": [],
   "source": [
    "# Dataframes\n",
    "import pandas as pd\n",
    "import numpy as np\n",
    "\n",
    "import operator\n",
    "\n",
    "# (Geo-)plots\n",
    "import matplotlib.pyplot as plt\n",
    "import geopandas as gpd\n",
    "import geoplot as gplt\n",
    "import geoplot.crs as gcrs\n",
    "from shapely.geometry import Point, Polygon\n",
    "import seaborn as sns\n",
    "\n",
    "import folium as fo\n",
    "from folium.plugins import HeatMap,MarkerCluster\n",
    "\n",
    "%matplotlib inline\n",
    "\n",
    "# Clustering\n",
    "from sklearn.cluster import KMeans, DBSCAN\n",
    "\n",
    "# No warnings please\n",
    "import warnings\n",
    "warnings.filterwarnings(\"ignore\")"
   ]
  },
  {
   "cell_type": "markdown",
   "metadata": {},
   "source": [
    "### ***1. Load data and set global parameters***"
   ]
  },
  {
   "cell_type": "code",
   "execution_count": null,
   "metadata": {},
   "outputs": [],
   "source": [
    "# Setting global parameters\n",
    "\n",
    "plt.rcParams['figure.figsize'] = 8, 6\n",
    "plt.rcParams['figure.dpi'] = 200"
   ]
  },
  {
   "cell_type": "code",
   "execution_count": null,
   "metadata": {},
   "outputs": [],
   "source": [
    "# Load business.csv and review_1819 into dataframes\n",
    "\n",
    "df_geo = pd.read_csv('../data/yelp_dataset/business.csv')\n",
    "df_rev = pd.read_csv('../data/yelp_dataset/review_1819.csv')"
   ]
  },
  {
   "cell_type": "code",
   "execution_count": null,
   "metadata": {},
   "outputs": [],
   "source": [
    "df_geo['Is_in'] = df_geo['business_id'].isin(df_rev['business_id']).astype(int)"
   ]
  },
  {
   "cell_type": "markdown",
   "metadata": {},
   "source": [
    "### ***2. Geoplots / Geopandas***"
   ]
  },
  {
   "cell_type": "code",
   "execution_count": null,
   "metadata": {},
   "outputs": [],
   "source": [
    "# Define reference coordinate system\n",
    "\n",
    "crs = {'init' : 'epsg:4326'}    # WGS 84 -- WGS84 - World Geodetic System 1984, used in GPS (https://epsg.io/4326)"
   ]
  },
  {
   "cell_type": "code",
   "execution_count": null,
   "metadata": {},
   "outputs": [],
   "source": [
    "N = [44.054, -92.493]\n",
    "S = [43.889, -92.488]\n",
    "E = [43.964, -92.390]\n",
    "W = [43.966, -92.516]"
   ]
  },
  {
   "cell_type": "code",
   "execution_count": null,
   "metadata": {},
   "outputs": [],
   "source": [
    "df_tmp = df_geo\n",
    "df_tmp.drop(71538, inplace=True) # THIS MUST GO INTO THE PROCESSING FILE!!!!\n",
    "df_tmp[(df_tmp['latitude'] < 44.054) & (df_tmp['latitude'] > 43.889) & (df_tmp['longitude'] < -92.390) & (df_tmp['longitude'] > -92.516)]\n"
   ]
  },
  {
   "cell_type": "code",
   "execution_count": null,
   "metadata": {},
   "outputs": [],
   "source": [
    "df_tmp.drop(144012, inplace=True) # THIS MUST GO INTO THE PROCESSING FILE!!!!\n",
    "df_tmp[(df_tmp['city'] == 'Bennington')]"
   ]
  },
  {
   "cell_type": "code",
   "execution_count": null,
   "metadata": {},
   "outputs": [],
   "source": [
    "df_geo = df_tmp"
   ]
  },
  {
   "cell_type": "code",
   "execution_count": null,
   "metadata": {},
   "outputs": [],
   "source": [
    "# Create points from longitude and latitude\n",
    "\n",
    "geo_points = [Point(xy) for xy in zip(df_geo['longitude'], df_geo['latitude'])] # Generate geocoded points from lon and lat"
   ]
  },
  {
   "cell_type": "code",
   "execution_count": null,
   "metadata": {},
   "outputs": [],
   "source": [
    "# Create GeoDataframe\n",
    "\n",
    "geo = gpd.GeoDataFrame(df_geo, crs=crs, geometry=geo_points)\n",
    "geo = geo['geometry'].reset_index()\n",
    "geo['city'] = df_geo['city']\n",
    "geo['business_id'] = df_geo['business_id']\n",
    "geo['Is_in'] = df_geo['Is_in']\n",
    "geo = geo[geo['Is_in'] == 1]\n",
    "\n",
    "geo['coords'] = geo['geometry'].apply(lambda x : x.representative_point().coords[:])\n",
    "geo['coords'] = [coords[0] for coords in geo['coords']]\n",
    "\n",
    "u_geo = geo.drop_duplicates('city')\n",
    "u_geo = u_geo[(u_geo['city'] == 'Edmonton') | (u_geo['city'] == 'Boise') | (u_geo['city'] == 'Reno') | (u_geo['city'] == 'Santa Barbara') | \n",
    "                (u_geo['city'] == 'Tucson') | (u_geo['city'] == 'New Orleans') | (u_geo['city'] == 'Nashville') | \n",
    "                (u_geo['city'] == 'Saint Louis') | (u_geo['city'] == 'Indianapolis') | \n",
    "                (u_geo['city'] == 'Philadelphia') | (u_geo['city'] == 'Tampa')]"
   ]
  },
  {
   "cell_type": "code",
   "execution_count": null,
   "metadata": {},
   "outputs": [],
   "source": [
    "# Get and create empty world map\n",
    "\n",
    "world = gpd.read_file(gpd.datasets.get_path('naturalearth_lowres'))"
   ]
  },
  {
   "cell_type": "code",
   "execution_count": null,
   "metadata": {},
   "outputs": [],
   "source": [
    "# Generate a layer consisting of NA map and another layer containing the location data, plotting both\n",
    "\n",
    "ax = world[world.continent == 'North America'].plot(color='white', edgecolor='black', cmap='viridis_r')  # NA map\n",
    "ax.set_xlim(-130, -60)\n",
    "ax.set_ylim(20, 60)\n",
    "ax.set_title('Visualization of businesses')\n",
    "ax.set_ylabel('Latitude')\n",
    "ax.set_xlabel('Longitude')\n",
    "\n",
    "geo.plot(ax=ax, color='red', markersize=10)    # Plot businesses\n",
    "for i, j in u_geo.iterrows():\n",
    "    ax.annotate(text=j['city'], xy=j['coords'], fontsize=7, textcoords='data')"
   ]
  },
  {
   "cell_type": "code",
   "execution_count": null,
   "metadata": {},
   "outputs": [],
   "source": [
    "\"\"\" X = df_geo[['longitude', 'latitude']].to_numpy()\n",
    "\n",
    "kmeans = KMeans()\n",
    "\n",
    "label = kmeans.fit_predict(X)\n",
    "u_labels = np.unique(label) \"\"\""
   ]
  },
  {
   "cell_type": "code",
   "execution_count": null,
   "metadata": {},
   "outputs": [],
   "source": [
    "\"\"\" for i in u_labels:\n",
    "    plt.scatter(X[label == i, 0], X[label == i, 1], label=i)\n",
    "    plt.legend() \"\"\""
   ]
  },
  {
   "cell_type": "code",
   "execution_count": null,
   "metadata": {},
   "outputs": [],
   "source": [
    "\"\"\" dbscan = DBSCAN()\n",
    "\n",
    "db_label = dbscan.fit_predict(X)\n",
    "db_u_labels = u_labels = np.unique(db_label) \"\"\""
   ]
  },
  {
   "cell_type": "code",
   "execution_count": null,
   "metadata": {},
   "outputs": [],
   "source": [
    "\"\"\" for i in db_u_labels:\n",
    "    plt.scatter(X[label == i, 0], X[label == i, 1], label=i)\n",
    "    plt.legend() \"\"\""
   ]
  },
  {
   "cell_type": "code",
   "execution_count": null,
   "metadata": {},
   "outputs": [],
   "source": [
    "\"\"\" geo_inter = fo.Map(location=(37,-95), max_zoom=14, min_zoom=4, zoom_start=4, tiles='open street map')\n",
    "locations = df_geo[['latitude', 'longitude']]\n",
    "cluster = MarkerCluster(locations=locations).add_to(geo_inter)\n",
    "# for lat, lon, name in zip(df_geo['latitude'], df_geo['longitude'], df_geo['name']):\n",
    "#     fo.Marker(location=[lat, lon], tooltip=name).add_to(geo_inter)\n",
    "geo_inter \"\"\""
   ]
  }
 ],
 "metadata": {
  "kernelspec": {
   "display_name": "Python 3.9.8 ('.venv': venv)",
   "language": "python",
   "name": "python3"
  },
  "language_info": {
   "codemirror_mode": {
    "name": "ipython",
    "version": 3
   },
   "file_extension": ".py",
   "mimetype": "text/x-python",
   "name": "python",
   "nbconvert_exporter": "python",
   "pygments_lexer": "ipython3",
   "version": "3.9.8"
  },
  "orig_nbformat": 4,
  "vscode": {
   "interpreter": {
    "hash": "a25c5467bd72a15a44db8f6702eef707e4b4c2171cfa5fa542b91e92dc8d903c"
   }
  }
 },
 "nbformat": 4,
 "nbformat_minor": 2
}
