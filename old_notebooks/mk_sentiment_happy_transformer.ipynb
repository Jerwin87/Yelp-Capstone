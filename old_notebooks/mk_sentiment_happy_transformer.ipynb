{
 "cells": [
  {
   "cell_type": "code",
   "execution_count": null,
   "metadata": {},
   "outputs": [],
   "source": [
    "from transformers import pipeline\n",
    "import pandas as pd\n",
    "from nltk.tokenize import sent_tokenize"
   ]
  },
  {
   "cell_type": "code",
   "execution_count": null,
   "metadata": {},
   "outputs": [],
   "source": [
    "# import CSV\n",
    "df = pd.read_csv('../data/yelp_dataset/review_1819.csv')"
   ]
  },
  {
   "cell_type": "code",
   "execution_count": null,
   "metadata": {},
   "outputs": [],
   "source": [
    "# instantiate pipeline with pre-trained model\n",
    "# documentation: https://huggingface.co/docs/transformers/v4.21.1/en/main_classes/pipelines#transformers.pipeline\n",
    "# pipe = pipeline(task='sentiment-analysis', model=\"roberta-large-mnli\")\n",
    "pipe = pipeline(task='sentiment-analysis', model=\"distilbert-base-uncased-finetuned-sst-2-english\")"
   ]
  },
  {
   "cell_type": "code",
   "execution_count": null,
   "metadata": {},
   "outputs": [],
   "source": [
    "# classification for 10 first items\n",
    "print(\"stars\\tlabel\\t\\tscore\")\n",
    "for i in range(10):\n",
    "    text = df.iloc[i].text\n",
    "    stars = df.iloc[i].stars\n",
    "    text_dict = pipe(text)\n",
    "    # print(text_dict, stars, text)\n",
    "    print(f\"{stars}\\t{text_dict[0]['label']}\\t{text_dict[0]['score']}\")\n"
   ]
  },
  {
   "cell_type": "code",
   "execution_count": null,
   "metadata": {},
   "outputs": [],
   "source": [
    "# classification for 10 first items; also for each sentence separately\n",
    "print(\"stars\\tlabel\\t\\tscore\")\n",
    "for i in range(20):\n",
    "    text = df.iloc[i].text\n",
    "    stars = df.iloc[i].stars\n",
    "    text_dict = pipe(text)\n",
    "    print(f\"{stars}\\t{text_dict[0]['label']}\\t{text_dict[0]['score']}\")\n",
    "    sentences = sent_tokenize(text)\n",
    "    for s_idx, sent_dict in enumerate(pipe(sentences)):\n",
    "        s = sentences[s_idx]\n",
    "        # print(f\"\\t{s}\")\n",
    "        print(f\"(s{s_idx})\\t{sent_dict['label']}\\t{sent_dict['score']}\\t{s}\")\n"
   ]
  },
  {
   "cell_type": "code",
   "execution_count": null,
   "metadata": {},
   "outputs": [],
   "source": []
  }
 ],
 "metadata": {
  "kernelspec": {
   "display_name": "Python 3.9.8 ('.venv': venv)",
   "language": "python",
   "name": "python3"
  },
  "language_info": {
   "codemirror_mode": {
    "name": "ipython",
    "version": 3
   },
   "file_extension": ".py",
   "mimetype": "text/x-python",
   "name": "python",
   "nbconvert_exporter": "python",
   "pygments_lexer": "ipython3",
   "version": "3.9.8"
  },
  "metadata": {
   "interpreter": {
    "hash": "aee8b7b246df8f9039afb4144a1f6fd8d2ca17a180786b69acc140d282b71a49"
   }
  },
  "vscode": {
   "interpreter": {
    "hash": "2b1df77f38ddc0e9cd99154923c4962065f4473621571c66cacae5d8388dd82d"
   }
  }
 },
 "nbformat": 4,
 "nbformat_minor": 4
}
