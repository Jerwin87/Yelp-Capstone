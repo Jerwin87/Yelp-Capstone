{
 "cells": [
  {
   "cell_type": "code",
   "execution_count": 1,
   "metadata": {},
   "outputs": [
    {
     "name": "stdout",
     "output_type": "stream",
     "text": [
      "2.10.0\n"
     ]
    },
    {
     "name": "stderr",
     "output_type": "stream",
     "text": [
      "[nltk_data] Downloading package stopwords to\n",
      "[nltk_data]     /Users/jeremywinandy/nltk_data...\n",
      "[nltk_data]   Package stopwords is already up-to-date!\n"
     ]
    }
   ],
   "source": [
    "import sys\n",
    "# adding to the path variables the one folder higher (locally, not changing system variables)\n",
    "sys.path.append(\"..\")\n",
    "\n",
    "import numpy as np\n",
    "import pandas as pd\n",
    "import datetime\n",
    "\n",
    "import tensorflow as tf\n",
    "from tensorflow.keras.preprocessing.text import Tokenizer\n",
    "from tensorflow.keras.preprocessing.sequence import pad_sequences\n",
    "from tensorflow.keras import Sequential\n",
    "from tensorflow.keras.layers import Flatten, Dense, Embedding, Conv1D, GlobalMaxPooling1D, Dropout\n",
    "from tensorflow.keras.callbacks import EarlyStopping, ReduceLROnPlateau\n",
    "from tensorflow.keras.utils import plot_model\n",
    "\n",
    "from sklearn.metrics import accuracy_score, precision_score, recall_score, f1_score, confusion_matrix, classification_report\n",
    "from mlxtend.plotting import plot_confusion_matrix\n",
    "from sklearn.preprocessing import OneHotEncoder\n",
    "from sklearn.model_selection import train_test_split\n",
    "from sklearn.feature_extraction.text import TfidfVectorizer\n",
    "\n",
    "import nltk\n",
    "from nltk.corpus import stopwords\n",
    "\n",
    "import matplotlib.pyplot as plt\n",
    "import seaborn as sns\n",
    "\n",
    "print(tf.__version__)\n",
    "\n",
    "# ignore the warnings\n",
    "import warnings\n",
    "warnings.filterwarnings(\"ignore\")\n",
    "\n",
    "# set Randomseed\n",
    "RSEED = 42\n",
    "\n",
    "# import needed functions\n",
    "from scripts.processing import *\n",
    "\n",
    "# Load the TensorBoard notebook extension\n",
    "%load_ext tensorboard\n",
    "\n"
   ]
  },
  {
   "cell_type": "code",
   "execution_count": 2,
   "metadata": {},
   "outputs": [],
   "source": [
    "# The maximum number of words to be used. (most frequent)\n",
    "vocab_size = 50000\n",
    "\n",
    "# Dimension of the dense embedding.\n",
    "embedding_dim = 128\n",
    "\n",
    "# Max number of words in each complaint.\n",
    "max_length = 200\n",
    "\n",
    "# Truncate and padding options\n",
    "trunc_type = 'post'\n",
    "padding_type = 'post'\n",
    "oov_tok = '<OOV>'"
   ]
  },
  {
   "cell_type": "code",
   "execution_count": 3,
   "metadata": {},
   "outputs": [],
   "source": [
    "# load the dataset and use the first 500k (to be faster on testruns)\n",
    "\n",
    "dataset = pd.read_csv('../data/review_1819.csv')\n",
    "dataset = dataset[:500000]\n"
   ]
  },
  {
   "cell_type": "code",
   "execution_count": 4,
   "metadata": {},
   "outputs": [],
   "source": [
    "# reduce dataset to text and rating\n",
    "dataset = dataset[['text', 'stars']]"
   ]
  },
  {
   "cell_type": "code",
   "execution_count": 5,
   "metadata": {},
   "outputs": [
    {
     "name": "stderr",
     "output_type": "stream",
     "text": [
      "Warning : `load_model` does not return WordVectorModel or SupervisedModel any more, but a `FastText` object which is very similar.\n"
     ]
    }
   ],
   "source": [
    "# filter for only english reviews\n",
    "dataset = language_processing(dataset)\n",
    "\n",
    "#remove the language line used for filtering\n",
    "dataset.drop('language', axis=1, inplace=True)"
   ]
  },
  {
   "cell_type": "code",
   "execution_count": 6,
   "metadata": {},
   "outputs": [],
   "source": [
    "# define stopwords and symbols to be deleted\n",
    "stopwords = nltk.corpus.stopwords.words('english')\n",
    "punctuation = ['\"', '(', ')', '-', '$', ',', '+', '1', '2', '3', '4', '5', '6', '7', '8', '9', '0', \"'\"]\n",
    "\n",
    "#define function for textcleaning\n",
    "def clean_text(text):   \n",
    "    cleaned_text = \"\".join(u for u in text if u not in punctuation)\n",
    "    cleaned_text = cleaned_text.lower()\n",
    "    return cleaned_text"
   ]
  },
  {
   "cell_type": "code",
   "execution_count": 7,
   "metadata": {},
   "outputs": [
    {
     "data": {
      "text/html": [
       "<div>\n",
       "<style scoped>\n",
       "    .dataframe tbody tr th:only-of-type {\n",
       "        vertical-align: middle;\n",
       "    }\n",
       "\n",
       "    .dataframe tbody tr th {\n",
       "        vertical-align: top;\n",
       "    }\n",
       "\n",
       "    .dataframe thead th {\n",
       "        text-align: right;\n",
       "    }\n",
       "</style>\n",
       "<table border=\"1\" class=\"dataframe\">\n",
       "  <thead>\n",
       "    <tr style=\"text-align: right;\">\n",
       "      <th></th>\n",
       "      <th>text</th>\n",
       "      <th>stars</th>\n",
       "    </tr>\n",
       "  </thead>\n",
       "  <tbody>\n",
       "    <tr>\n",
       "      <th>0</th>\n",
       "      <td>if you decide to eat here just be aware it is ...</td>\n",
       "      <td>3.0</td>\n",
       "    </tr>\n",
       "    <tr>\n",
       "      <th>1</th>\n",
       "      <td>i was really between  and  stars for this one....</td>\n",
       "      <td>4.0</td>\n",
       "    </tr>\n",
       "    <tr>\n",
       "      <th>2</th>\n",
       "      <td>my boyfriend and i tried this deli for the fir...</td>\n",
       "      <td>5.0</td>\n",
       "    </tr>\n",
       "    <tr>\n",
       "      <th>4</th>\n",
       "      <td>the cafe was extremely cute. we came at am and...</td>\n",
       "      <td>4.0</td>\n",
       "    </tr>\n",
       "    <tr>\n",
       "      <th>5</th>\n",
       "      <td>ive only had the cannolis here but they are aw...</td>\n",
       "      <td>5.0</td>\n",
       "    </tr>\n",
       "    <tr>\n",
       "      <th>...</th>\n",
       "      <td>...</td>\n",
       "      <td>...</td>\n",
       "    </tr>\n",
       "    <tr>\n",
       "      <th>499995</th>\n",
       "      <td>honestly i thought i would really love this pl...</td>\n",
       "      <td>1.0</td>\n",
       "    </tr>\n",
       "    <tr>\n",
       "      <th>499996</th>\n",
       "      <td>spent an evening eating a mexican repast of my...</td>\n",
       "      <td>4.0</td>\n",
       "    </tr>\n",
       "    <tr>\n",
       "      <th>499997</th>\n",
       "      <td>we love the food and we go to this location a ...</td>\n",
       "      <td>1.0</td>\n",
       "    </tr>\n",
       "    <tr>\n",
       "      <th>499998</th>\n",
       "      <td>we are so happy about this place just opening ...</td>\n",
       "      <td>5.0</td>\n",
       "    </tr>\n",
       "    <tr>\n",
       "      <th>499999</th>\n",
       "      <td>this is one of those places where the phrase y...</td>\n",
       "      <td>3.0</td>\n",
       "    </tr>\n",
       "  </tbody>\n",
       "</table>\n",
       "<p>443163 rows × 2 columns</p>\n",
       "</div>"
      ],
      "text/plain": [
       "                                                     text  stars\n",
       "0       if you decide to eat here just be aware it is ...    3.0\n",
       "1       i was really between  and  stars for this one....    4.0\n",
       "2       my boyfriend and i tried this deli for the fir...    5.0\n",
       "4       the cafe was extremely cute. we came at am and...    4.0\n",
       "5       ive only had the cannolis here but they are aw...    5.0\n",
       "...                                                   ...    ...\n",
       "499995  honestly i thought i would really love this pl...    1.0\n",
       "499996  spent an evening eating a mexican repast of my...    4.0\n",
       "499997  we love the food and we go to this location a ...    1.0\n",
       "499998  we are so happy about this place just opening ...    5.0\n",
       "499999  this is one of those places where the phrase y...    3.0\n",
       "\n",
       "[443163 rows x 2 columns]"
      ]
     },
     "execution_count": 7,
     "metadata": {},
     "output_type": "execute_result"
    }
   ],
   "source": [
    "#apply function for textcleaning and make sure everything looks as planned\n",
    "dataset[\"text\"] = dataset[\"text\"].apply(clean_text)\n",
    "dataset"
   ]
  },
  {
   "cell_type": "code",
   "execution_count": 8,
   "metadata": {},
   "outputs": [
    {
     "data": {
      "image/png": "[encoded data removed]",
      "text/plain": [
       "<Figure size 600x500 with 1 Axes>"
      ]
     },
     "metadata": {},
     "output_type": "display_data"
    }
   ],
   "source": [
    "# plot the data distribution\n",
    "sns.set_style('whitegrid')\n",
    "plt.figure(figsize=(6, 5))\n",
    "ax = sns.countplot(x='stars', data=dataset)\n",
    "ax.set_xticklabels(ax.get_xticklabels(), rotation=40, ha=\"right\")\n",
    "plt.tight_layout()"
   ]
  },
  {
   "cell_type": "code",
   "execution_count": 9,
   "metadata": {},
   "outputs": [
    {
     "name": "stdout",
     "output_type": "stream",
     "text": [
      "(354530,) (354530, 1)\n",
      "(88633,) (88633, 1)\n"
     ]
    }
   ],
   "source": [
    "# define feature and target\n",
    "review = dataset[\"text\"].values\n",
    "stars = dataset[[\"stars\"]].values\n",
    "\n",
    "# split the dataset into train and test set\n",
    "X_train, X_test, y_train, y_test = train_test_split(review, stars, test_size = 0.20, random_state = 42)\n",
    "print(X_train.shape,y_train.shape)\n",
    "print(X_test.shape,y_test.shape)"
   ]
  },
  {
   "cell_type": "code",
   "execution_count": 10,
   "metadata": {},
   "outputs": [
    {
     "name": "stdout",
     "output_type": "stream",
     "text": [
      "Found 138403 unique tokens.\n"
     ]
    }
   ],
   "source": [
    "#apply tokenizer\n",
    "tokenizer = Tokenizer(num_words=vocab_size, oov_token='<OOV>')\n",
    "tokenizer.fit_on_texts(X_train)\n",
    "word_index = tokenizer.word_index\n",
    "print('Found %s unique tokens.' % len(word_index))"
   ]
  },
  {
   "cell_type": "code",
   "execution_count": 11,
   "metadata": {},
   "outputs": [
    {
     "name": "stdout",
     "output_type": "stream",
     "text": [
      "Shape of train tensor: (354530, 200)\n",
      "Shape of validation tensor: (88633, 200)\n"
     ]
    }
   ],
   "source": [
    "# transform feature to tensors and pad for better comparison\n",
    "train_seq = tokenizer.texts_to_sequences(X_train)\n",
    "train_padded = pad_sequences(train_seq, maxlen=max_length, padding=padding_type, truncating=trunc_type)\n",
    "\n",
    "test_seq = tokenizer.texts_to_sequences(X_test)\n",
    "test_padded = pad_sequences(test_seq, maxlen=max_length, padding=padding_type, truncating=trunc_type)\n",
    "print('Shape of train tensor:', train_padded.shape)\n",
    "print('Shape of validation tensor:', test_padded.shape)"
   ]
  },
  {
   "cell_type": "code",
   "execution_count": 12,
   "metadata": {},
   "outputs": [],
   "source": [
    "# encode the target variable\n",
    "encode = OneHotEncoder()\n",
    "\n",
    "training_labels = encode.fit_transform(y_train)\n",
    "test_labels = encode.transform(y_test)\n"
   ]
  },
  {
   "cell_type": "code",
   "execution_count": 13,
   "metadata": {},
   "outputs": [
    {
     "name": "stdout",
     "output_type": "stream",
     "text": [
      "(354530, 200)\n",
      "(88633, 5)\n",
      "(88633, 200)\n",
      "(354530, 5)\n",
      "<class 'numpy.ndarray'>\n",
      "<class 'numpy.ndarray'>\n",
      "<class 'scipy.sparse._csr.csr_matrix'>\n",
      "<class 'scipy.sparse._csr.csr_matrix'>\n"
     ]
    }
   ],
   "source": [
    "# make sure everything looks good\n",
    "print(train_padded.shape)\n",
    "print(test_labels.shape)\n",
    "print(test_padded.shape)\n",
    "print(training_labels.shape)\n",
    "print(type(train_padded))\n",
    "print(type(test_padded))\n",
    "print(type(training_labels))\n",
    "print(type(test_labels))"
   ]
  },
  {
   "cell_type": "code",
   "execution_count": 14,
   "metadata": {},
   "outputs": [
    {
     "name": "stdout",
     "output_type": "stream",
     "text": [
      "<class 'numpy.ndarray'>\n",
      "<class 'numpy.ndarray'>\n"
     ]
    }
   ],
   "source": [
    "# The labels must be converted to arrays\n",
    "# Convert the labels to arrays\n",
    "training_labels = training_labels.toarray()\n",
    "test_labels = test_labels.toarray()\n",
    "\n",
    "print(type(training_labels))\n",
    "print(type(test_labels))"
   ]
  },
  {
   "cell_type": "code",
   "execution_count": 17,
   "metadata": {},
   "outputs": [
    {
     "name": "stdout",
     "output_type": "stream",
     "text": [
      "You must install pydot (`pip install pydot`) and install graphviz (see instructions at https://graphviz.gitlab.io/download/) for plot_model to work.\n"
     ]
    }
   ],
   "source": [
    "# initiate and define the model\n",
    "model = Sequential()\n",
    "\n",
    "model.add(Embedding(vocab_size, embedding_dim, input_length=train_padded.shape[1]))\n",
    "model.add(Conv1D(48, 5, activation='relu', padding='valid'))\n",
    "model.add(GlobalMaxPooling1D())\n",
    "model.add(Dropout(0.5))\n",
    "model.add(Flatten())\n",
    "model.add(Dropout(0.5))\n",
    "model.add(Dense(5, activation='softmax'))\n",
    "\n",
    "# show the model structure\n",
    "tf.keras.utils.plot_model(model, \"multi_input_and_output_model.png\", show_shapes=True)"
   ]
  },
  {
   "cell_type": "code",
   "execution_count": 18,
   "metadata": {},
   "outputs": [],
   "source": [
    "#compile the model\n",
    "model.compile(loss='categorical_crossentropy', optimizer='adam', metrics=['accuracy'])"
   ]
  },
  {
   "cell_type": "code",
   "execution_count": 19,
   "metadata": {},
   "outputs": [],
   "source": [
    "# save history in tensorboard\n",
    "log_dir = \"../logs/fit/\" + datetime.datetime.now().strftime(\"%Y%m%d-%H%M%S\")\n",
    "tensorboard_callback = tf.keras.callbacks.TensorBoard(log_dir=log_dir, histogram_freq=1)\n"
   ]
  },
  {
   "cell_type": "code",
   "execution_count": 20,
   "metadata": {},
   "outputs": [
    {
     "name": "stdout",
     "output_type": "stream",
     "text": [
      "Epoch 1/8\n"
     ]
    },
    {
     "name": "stderr",
     "output_type": "stream",
     "text": [
      "2022-11-18 16:26:41.618428: W tensorflow/core/platform/profile_utils/cpu_utils.cc:128] Failed to get CPU frequency: 0 Hz\n"
     ]
    },
    {
     "name": "stdout",
     "output_type": "stream",
     "text": [
      "2216/2216 [==============================] - 78s 35ms/step - loss: 0.9694 - accuracy: 0.6308 - val_loss: 0.7621 - val_accuracy: 0.6933\n",
      "Epoch 2/8\n",
      "2216/2216 [==============================] - 81s 37ms/step - loss: 0.8504 - accuracy: 0.6671 - val_loss: 0.7445 - val_accuracy: 0.6993\n",
      "Epoch 3/8\n",
      "2216/2216 [==============================] - 83s 38ms/step - loss: 0.8180 - accuracy: 0.6768 - val_loss: 0.7415 - val_accuracy: 0.6972\n",
      "Epoch 4/8\n",
      "2216/2216 [==============================] - 82s 37ms/step - loss: 0.7945 - accuracy: 0.6851 - val_loss: 0.7454 - val_accuracy: 0.6962\n",
      "Epoch 5/8\n",
      "2216/2216 [==============================] - 90s 41ms/step - loss: 0.7761 - accuracy: 0.6905 - val_loss: 0.7447 - val_accuracy: 0.7002\n",
      "Epoch 6/8\n",
      "2216/2216 [==============================] - 89s 40ms/step - loss: 0.7609 - accuracy: 0.6964 - val_loss: 0.7534 - val_accuracy: 0.6961\n",
      "Epoch 7/8\n",
      "2216/2216 [==============================] - 90s 41ms/step - loss: 0.7454 - accuracy: 0.7029 - val_loss: 0.7594 - val_accuracy: 0.6944\n",
      "Epoch 8/8\n",
      "2216/2216 [==============================] - 91s 41ms/step - loss: 0.7318 - accuracy: 0.7077 - val_loss: 0.7689 - val_accuracy: 0.6955\n"
     ]
    }
   ],
   "source": [
    "# set parameters and train the model\n",
    "epochs = 8\n",
    "batch_size = 128\n",
    "\n",
    "history = model.fit(train_padded, training_labels, shuffle=True ,\n",
    "                    epochs=epochs, batch_size=batch_size, \n",
    "                    validation_split=0.2,\n",
    "                    callbacks=[tensorboard_callback])"
   ]
  },
  {
   "cell_type": "code",
   "execution_count": 21,
   "metadata": {},
   "outputs": [
    {
     "name": "stdout",
     "output_type": "stream",
     "text": [
      "Evaluate on test data\n",
      "693/693 [==============================] - 5s 7ms/step - loss: 0.7662 - accuracy: 0.6965\n"
     ]
    }
   ],
   "source": [
    "# Evaluate the model on the test data using `evaluate`\n",
    "print(\"Evaluate on test data\")\n",
    "results = model.evaluate(test_padded, test_labels, batch_size=128)"
   ]
  },
  {
   "cell_type": "code",
   "execution_count": 22,
   "metadata": {},
   "outputs": [
    {
     "name": "stdout",
     "output_type": "stream",
     "text": [
      "2770/2770 [==============================] - 5s 2ms/step\n"
     ]
    }
   ],
   "source": [
    "# predict labels and transform form for confusion matrix\n",
    "pred_labels = model.predict(test_padded)\n",
    "pred_labels = tf.math.softmax(pred_labels)\n",
    "pred_labels = np.argmax(pred_labels, axis=1)\n",
    "test_labels = np.argmax(test_labels, axis=1)\n"
   ]
  },
  {
   "cell_type": "code",
   "execution_count": 23,
   "metadata": {},
   "outputs": [
    {
     "data": {
      "text/plain": [
       "<AxesSubplot: >"
      ]
     },
     "execution_count": 23,
     "metadata": {},
     "output_type": "execute_result"
    },
    {
     "data": {
      "image/png": "[encoded data removed]",
      "text/plain": [
       "<Figure size 640x480 with 2 Axes>"
      ]
     },
     "metadata": {},
     "output_type": "display_data"
    }
   ],
   "source": [
    "sns.heatmap(tf.math.confusion_matrix(test_labels, pred_labels), annot=True, fmt='g')"
   ]
  },
  {
   "cell_type": "code",
   "execution_count": 24,
   "metadata": {},
   "outputs": [
    {
     "name": "stdout",
     "output_type": "stream",
     "text": [
      "              precision    recall  f1-score   support\n",
      "\n",
      "           0       0.85      0.71      0.78     17879\n",
      "           1       0.17      0.42      0.24      2744\n",
      "           2       0.32      0.43      0.37      5897\n",
      "           3       0.32      0.47      0.38     10516\n",
      "           4       0.93      0.78      0.85     51597\n",
      "\n",
      "    accuracy                           0.70     88633\n",
      "   macro avg       0.52      0.56      0.52     88633\n",
      "weighted avg       0.78      0.70      0.73     88633\n",
      "\n"
     ]
    }
   ],
   "source": [
    "# show the classification report\n",
    "print(classification_report(pred_labels, test_labels))"
   ]
  },
  {
   "cell_type": "code",
   "execution_count": 25,
   "metadata": {},
   "outputs": [
    {
     "data": {
      "text/html": [
       "\n",
       "      <iframe id=\"tensorboard-frame-6bf88520d0800192\" width=\"100%\" height=\"800\" frameborder=\"0\">\n",
       "      </iframe>\n",
       "      <script>\n",
       "        (function() {\n",
       "          const frame = document.getElementById(\"tensorboard-frame-6bf88520d0800192\");\n",
       "          const url = new URL(\"/\", window.location);\n",
       "          const port = 6006;\n",
       "          if (port) {\n",
       "            url.port = port;\n",
       "          }\n",
       "          frame.src = url;\n",
       "        })();\n",
       "      </script>\n",
       "    "
      ],
      "text/plain": [
       "<IPython.core.display.HTML object>"
      ]
     },
     "metadata": {},
     "output_type": "display_data"
    }
   ],
   "source": [
    "#look at tensorboard\n",
    "%tensorboard --logdir logs/fit"
   ]
  }
 ],
 "metadata": {
  "kernelspec": {
   "display_name": "Python 3.9.6 ('.venv': venv)",
   "language": "python",
   "name": "python3"
  },
  "language_info": {
   "codemirror_mode": {
    "name": "ipython",
    "version": 3
   },
   "file_extension": ".py",
   "mimetype": "text/x-python",
   "name": "python",
   "nbconvert_exporter": "python",
   "pygments_lexer": "ipython3",
   "version": "3.9.6"
  },
  "orig_nbformat": 4,
  "vscode": {
   "interpreter": {
    "hash": "8ce5e151fb00091df5b1b9e0901c9540dd87c25621af86a4204e4865fde1e8b1"
   }
  }
 },
 "nbformat": 4,
 "nbformat_minor": 2
}
